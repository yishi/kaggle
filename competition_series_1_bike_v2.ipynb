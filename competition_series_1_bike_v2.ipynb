{
 "cells": [
  {
   "cell_type": "markdown",
   "metadata": {},
   "source": [
    "### Competition Series 1: Forecast use of a city bike share system 2nd version\n",
    "\n",
    "Data come from kaggle https://www.kaggle.com/c/bike-sharing-demand.\n",
    "\n",
    "https://www.kaggle.com/c/bike-sharing-demand/leaderboard"
   ]
  },
  {
   "cell_type": "code",
   "execution_count": 1,
   "metadata": {
    "collapsed": false
   },
   "outputs": [
    {
     "name": "stderr",
     "output_type": "stream",
     "text": [
      ":0: FutureWarning: IPython widgets are experimental and may change in the future.\n"
     ]
    }
   ],
   "source": [
    "import pandas as pd\n",
    "import numpy as np\n",
    "import seaborn as sns\n",
    "sns.set(style=\"whitegrid\", color_codes=True)\n",
    "\n",
    "%matplotlib inline"
   ]
  },
  {
   "cell_type": "markdown",
   "metadata": {},
   "source": [
    "### 1. import the data"
   ]
  },
  {
   "cell_type": "code",
   "execution_count": 3,
   "metadata": {
    "collapsed": true
   },
   "outputs": [],
   "source": [
    "train = pd.read_csv('data/bike_train.csv')\n",
    "test = pd.read_csv('data/bike_test.csv')"
   ]
  },
  {
   "cell_type": "code",
   "execution_count": 4,
   "metadata": {
    "collapsed": false
   },
   "outputs": [],
   "source": [
    "test['casual'] = 0\n",
    "test['registered'] = 0\n",
    "test['count'] = 0\n",
    "data = train.append(test, ignore_index = True) "
   ]
  },
  {
   "cell_type": "markdown",
   "metadata": {},
   "source": [
    "### 2. add new variables"
   ]
  },
  {
   "cell_type": "code",
   "execution_count": 5,
   "metadata": {
    "collapsed": true
   },
   "outputs": [],
   "source": [
    "data['datetime'] = pd.to_datetime(data['datetime'])\n",
    "data['year'] = data['datetime'].map(lambda x: x.year)\n",
    "data['month'] = data['datetime'].map(lambda x: x.month)\n",
    "data['hour'] = data['datetime'].map(lambda x: x.hour)\n",
    "data['weekday'] = data['datetime'].map(lambda x: x.dayofweek)\n",
    "data['weekend'] = (data['weekday'] == 5) | (data['weekday'] == 6)\n",
    "\n",
    "data['adverse_rush_hour'] = abs(data['hour'] -14)\n",
    "data['rush_hour_working'] = ((data['hour'] == 7) | (data['hour'] == 8) | (data['hour'] == 17) |\\\n",
    "                    (data['hour'] == 18) | (data['hour'] == 19)) & (data['workingday'] == 1)\n",
    "data['rush_hour_nonwork'] = ((data['hour'] == 12) | (data['hour'] == 13) | (data['hour'] == 14) |\\\n",
    "                    (data['hour'] == 15) | (data['hour'] == 16) | (data['hour'] == 17)) & (data['workingday'] == 0)\n",
    "\n",
    "data['year_part'] = 0\n",
    "data.loc[(data.year == 2011) & (data.month <= 3), 'year_part'] = 1\n",
    "data.loc[(data.year == 2011) & (data.month > 3) & (data.month <= 6), 'year_part'] = 2\n",
    "data.loc[(data.year == 2011) & (data.month > 6) & (data.month <= 9), 'year_part'] = 3\n",
    "data.loc[(data.year == 2011) & (data.month > 9), 'year_part'] = 4\n",
    "data.loc[(data.year == 2012) & (data.month <= 3), 'year_part'] = 5\n",
    "data.loc[(data.year == 2012) & (data.month > 3) & (data.month <= 6), 'year_part'] = 6\n",
    "data.loc[(data.year == 2012) & (data.month > 6) & (data.month <= 9), 'year_part'] = 7\n",
    "data.loc[(data.year == 2012) & (data.month > 9), 'year_part'] = 8\n",
    "\n",
    "data['hour_reg'] = 0\n",
    "data.loc[data.hour < 7, 'hour_reg'] = 1\n",
    "data.loc[data.hour == 7, 'hour_reg'] = 2\n",
    "data.loc[data.hour == 8, 'hour_reg'] = 3\n",
    "data.loc[(data.hour > 8) & (data.hour < 16), 'hour_reg'] = 4\n",
    "data.loc[(data.hour == 16) | (data.hour == 17), 'hour_reg'] = 5\n",
    "data.loc[(data.hour == 18) | (data.hour == 19), 'hour_reg'] = 6\n",
    "data.loc[data.hour >= 20, 'hour_reg'] = 7\n",
    "\n",
    "data['hour_cas'] = 0\n",
    "data.loc[data.hour <= 7, 'hour_cas'] = 1\n",
    "data.loc[(data.hour == 8) | (data.hour == 9), 'hour_cas'] = 2\n",
    "data.loc[(data.hour >= 10) & (data.hour < 20), 'hour_cas'] = 3\n",
    "data.loc[data.hour >= 20, 'hour_cas'] = 4\n",
    "\n",
    "data['temp_reg'] = 0\n",
    "data.loc[data.temp < 13, 'temp_reg'] = 1\n",
    "data.loc[(data.temp >= 13) & (data.temp < 23), 'temp_reg'] = 2\n",
    "data.loc[(data.temp >= 23) & (data.temp < 30), 'temp_reg'] = 3\n",
    "data.loc[data.temp >= 30, 'temp_reg'] = 4\n",
    "\n",
    "data['temp_cas'] = 0\n",
    "data.loc[data.temp < 15, 'temp_cas'] = 1\n",
    "data.loc[(data.temp >= 15) & (data.temp < 23), 'temp_cas'] = 2\n",
    "data.loc[(data.temp >= 23) & (data.temp < 30), 'temp_cas'] = 3\n",
    "data.loc[data.temp >= 30, 'temp_cas'] = 4\n",
    "\n",
    "data['day'] = data['datetime'].map(lambda x: x.day)\n",
    "\n",
    "data['log_casual'] = np.log(data['casual'] + 1)\n",
    "data['log_registered'] = np.log(data['registered'] + 1)\n",
    "data['log_count'] = np.log(data['count'] + 1)\n",
    "\n",
    "data['weekend'] = data['weekend'].map(lambda x: int(x))\n",
    "data['rush_hour_working'] = data['rush_hour_working'].map(lambda x: int(x))\n",
    "data['rush_hour_nonwork'] = data['rush_hour_nonwork'].map(lambda x: int(x))"
   ]
  },
  {
   "cell_type": "code",
   "execution_count": 5,
   "metadata": {
    "collapsed": false
   },
   "outputs": [
    {
     "data": {
      "text/plain": [
       "(17379, 25)"
      ]
     },
     "execution_count": 5,
     "metadata": {},
     "output_type": "execute_result"
    }
   ],
   "source": [
    "data.shape"
   ]
  },
  {
   "cell_type": "markdown",
   "metadata": {},
   "source": [
    "### 3. split the data and train the model"
   ]
  },
  {
   "cell_type": "code",
   "execution_count": 6,
   "metadata": {
    "collapsed": true
   },
   "outputs": [],
   "source": [
    "train_new = data[data.day <= 19]\n",
    "test_new = data[data.day > 19]"
   ]
  },
  {
   "cell_type": "code",
   "execution_count": 7,
   "metadata": {
    "collapsed": false
   },
   "outputs": [
    {
     "data": {
      "text/plain": [
       "Index([u'datetime', u'season', u'holiday', u'workingday', u'weather', u'temp', u'atemp', u'humidity', u'windspeed', u'casual', u'registered', u'count', u'year', u'month', u'hour', u'weekday', u'weekend', u'adverse_rush_hour', u'rush_hour_working', u'rush_hour_nonwork', u'year_part', u'hour_reg', u'hour_cas', u'temp_reg', u'temp_cas', u'day', u'log_casual', u'log_registered', u'log_count'], dtype='object')"
      ]
     },
     "execution_count": 7,
     "metadata": {},
     "output_type": "execute_result"
    }
   ],
   "source": [
    "data.columns"
   ]
  },
  {
   "cell_type": "code",
   "execution_count": 7,
   "metadata": {
    "collapsed": true
   },
   "outputs": [],
   "source": [
    "x_r = ['season', 'holiday', 'workingday', 'weather', 'temp', 'atemp', 'humidity', 'windspeed', \\\n",
    "       'year', 'month', 'hour', 'weekday', 'weekend', 'adverse_rush_hour', 'rush_hour_working', \\\n",
    "     'rush_hour_nonwork', 'year_part', 'hour_reg', 'temp_reg']\n",
    "\n",
    "x_c = ['season', 'holiday', 'workingday', 'weather', 'temp', 'atemp', 'humidity', 'windspeed', \\\n",
    "       'year', 'month', 'hour', 'weekday', 'weekend', 'adverse_rush_hour', 'rush_hour_working', \\\n",
    "     'rush_hour_nonwork', 'year_part', 'hour_cas', 'temp_cas']"
   ]
  },
  {
   "cell_type": "code",
   "execution_count": 8,
   "metadata": {
    "collapsed": false
   },
   "outputs": [],
   "source": [
    "from sklearn.cross_validation import train_test_split\n",
    "from sklearn.cross_validation import KFold\n",
    "\n",
    "from sklearn.grid_search import GridSearchCV\n",
    "\n",
    "from sklearn.ensemble import BaggingRegressor, RandomForestRegressor, ExtraTreesRegressor, \\\n",
    "AdaBoostRegressor, GradientBoostingRegressor\n",
    "\n",
    "from sklearn.svm import SVR"
   ]
  },
  {
   "cell_type": "code",
   "execution_count": 9,
   "metadata": {
    "collapsed": true
   },
   "outputs": [],
   "source": [
    "train_index, test_index, _, _ = train_test_split(train_new.index, train_new['log_casual'], test_size = 0.2, \\\n",
    "                                                            random_state = 0)"
   ]
  },
  {
   "cell_type": "code",
   "execution_count": 10,
   "metadata": {
    "collapsed": false
   },
   "outputs": [],
   "source": [
    "train_index = pd.Series(train_index)\n",
    "test_index = pd.Series(test_index)"
   ]
  },
  {
   "cell_type": "code",
   "execution_count": 11,
   "metadata": {
    "collapsed": true
   },
   "outputs": [],
   "source": [
    "x_train_c = train_new.loc[train_index, x_c]\n",
    "y_train_c = train_new.loc[train_index, 'log_casual']\n",
    "\n",
    "x_train_r = train_new.loc[train_index, x_r]\n",
    "y_train_r = train_new.loc[train_index, 'log_registered']\n",
    "\n",
    "x_test_c = train_new.loc[test_index, x_c]\n",
    "y_test_c = train_new.loc[test_index, 'log_casual']\n",
    "\n",
    "x_test_r = train_new.loc[test_index, x_r]\n",
    "y_test_r = train_new.loc[test_index, 'log_registered']"
   ]
  },
  {
   "cell_type": "code",
   "execution_count": 49,
   "metadata": {
    "collapsed": true
   },
   "outputs": [],
   "source": [
    "v_x_train_c = train_new.loc[:, x_c]\n",
    "v_y_train_c = train_new.loc[:, 'log_casual']\n",
    "\n",
    "v_x_train_r = train_new.loc[:, x_r]\n",
    "v_y_train_r = train_new.loc[:, 'log_registered']\n",
    "\n",
    "v_x_test_c = test_new.loc[:, x_c]\n",
    "v_y_test_c = test_new.loc[:, 'log_casual']\n",
    "\n",
    "v_x_test_r = test_new.loc[:, x_r]\n",
    "v_y_test_r = test_new.loc[:, 'log_registered']"
   ]
  },
  {
   "cell_type": "markdown",
   "metadata": {},
   "source": [
    "#### 3.1 the performance of single model"
   ]
  },
  {
   "cell_type": "code",
   "execution_count": 28,
   "metadata": {
    "collapsed": true
   },
   "outputs": [],
   "source": [
    "def grid_search(base_model, param_grid, cv = 5):\n",
    "    model_c = GridSearchCV(estimator = base_model, param_grid = param_grid, scoring = 'mean_squared_error', cv = cv, verbose=20)\n",
    "    model_c.fit(x_train_c, y_train_c)\n",
    "    \n",
    "    f = open('model_output.txt', 'a')\n",
    "    print >> f, \"For casual users:\"\n",
    "    print >> f\n",
    "    print >> f, model_c.best_estimator_\n",
    "    print >> f\n",
    "    print >> f, \"For casual users:\"\n",
    "    print >> f\n",
    "    for params, mean_score, scores in model_c.grid_scores_:\n",
    "        print >> f, (\"%0.3f (+/-%0.03f) for %r\"\n",
    "              % (mean_score, scores.std() / 2, params))\n",
    "    print >> f\n",
    "    f.close()\n",
    "    \n",
    "    model_r = GridSearchCV(estimator = base_model, param_grid = param_grid, scoring = 'mean_squared_error', cv = cv, verbose=20)\n",
    "    model_r.fit(x_train_r, y_train_r)\n",
    "    \n",
    "    f = open('model_output.txt', 'a')\n",
    "    print >> f, \"For registered users:\"\n",
    "    print >> f\n",
    "    print >> f, model_r.best_estimator_\n",
    "    print >> f\n",
    "    print >> f, \"For registered users:\"\n",
    "    print >> f\n",
    "    for params, mean_score, scores in model_r.grid_scores_:\n",
    "        print >> f, (\"%0.3f (+/-%0.03f) for %r\"\n",
    "              % (mean_score, scores.std() / 2, params))\n",
    "    print >> f, \"$$$$$$$$$$$$$$$$$$$$$$$$$$$$$$$$$$$$$$$$$$$$$$$$$\"\n",
    "    f.close()"
   ]
  },
  {
   "cell_type": "code",
   "execution_count": 30,
   "metadata": {
    "collapsed": true
   },
   "outputs": [
    {
     "name": "stdout",
     "output_type": "stream",
     "text": [
      "Fitting 5 folds for each of 9 candidates, totalling 45 fits\n",
      "[CV] max_features=auto, n_estimators=100 .............................\n",
      "[CV] ... max_features=auto, n_estimators=100, score=-0.264273 -   2.6s\n",
      "[CV] max_features=auto, n_estimators=100 .............................\n",
      "[CV] ... max_features=auto, n_estimators=100, score=-0.282751 -   2.6s"
     ]
    },
    {
     "name": "stderr",
     "output_type": "stream",
     "text": [
      "[Parallel(n_jobs=1)]: Done   1 jobs       | elapsed:    2.6s\n",
      "[Parallel(n_jobs=1)]: Done   2 jobs       | elapsed:    5.4s\n"
     ]
    },
    {
     "name": "stdout",
     "output_type": "stream",
     "text": [
      "\n",
      "[CV] max_features=auto, n_estimators=100 .............................\n",
      "[CV] ... max_features=auto, n_estimators=100, score=-0.240616 -   2.7s\n",
      "[CV] max_features=auto, n_estimators=100 .............................\n",
      "[CV] ... max_features=auto, n_estimators=100, score=-0.255683 -   2.7s"
     ]
    },
    {
     "name": "stderr",
     "output_type": "stream",
     "text": [
      "[Parallel(n_jobs=1)]: Done   3 jobs       | elapsed:    8.2s\n",
      "[Parallel(n_jobs=1)]: Done   4 jobs       | elapsed:   11.0s\n"
     ]
    },
    {
     "name": "stdout",
     "output_type": "stream",
     "text": [
      "\n",
      "[CV] max_features=auto, n_estimators=100 .............................\n",
      "[CV] ... max_features=auto, n_estimators=100, score=-0.254852 -   2.7s\n",
      "[CV] max_features=auto, n_estimators=300 .............................\n",
      "[CV] ... max_features=auto, n_estimators=300, score=-0.262127 -   8.3s"
     ]
    },
    {
     "name": "stderr",
     "output_type": "stream",
     "text": [
      "[Parallel(n_jobs=1)]: Done   5 jobs       | elapsed:   13.8s\n",
      "[Parallel(n_jobs=1)]: Done   6 jobs       | elapsed:   22.2s\n"
     ]
    },
    {
     "name": "stdout",
     "output_type": "stream",
     "text": [
      "\n",
      "[CV] max_features=auto, n_estimators=300 .............................\n",
      "[CV] ... max_features=auto, n_estimators=300, score=-0.278814 -   8.0s\n",
      "[CV] max_features=auto, n_estimators=300 .............................\n",
      "[CV] ... max_features=auto, n_estimators=300, score=-0.240696 -   8.4s"
     ]
    },
    {
     "name": "stderr",
     "output_type": "stream",
     "text": [
      "[Parallel(n_jobs=1)]: Done   7 jobs       | elapsed:   30.4s\n",
      "[Parallel(n_jobs=1)]: Done   8 jobs       | elapsed:   38.9s\n"
     ]
    },
    {
     "name": "stdout",
     "output_type": "stream",
     "text": [
      "\n",
      "[CV] max_features=auto, n_estimators=300 .............................\n",
      "[CV] ... max_features=auto, n_estimators=300, score=-0.252062 -   8.1s\n",
      "[CV] max_features=auto, n_estimators=300 .............................\n",
      "[CV] ... max_features=auto, n_estimators=300, score=-0.254129 -   8.0s"
     ]
    },
    {
     "name": "stderr",
     "output_type": "stream",
     "text": [
      "[Parallel(n_jobs=1)]: Done   9 jobs       | elapsed:   47.1s\n",
      "[Parallel(n_jobs=1)]: Done  10 jobs       | elapsed:   55.3s\n"
     ]
    },
    {
     "name": "stdout",
     "output_type": "stream",
     "text": [
      "\n",
      "[CV] max_features=auto, n_estimators=500 .............................\n",
      "[CV] ... max_features=auto, n_estimators=500, score=-0.262855 -  13.5s\n",
      "[CV] max_features=auto, n_estimators=500 .............................\n",
      "[CV] ... max_features=auto, n_estimators=500, score=-0.279615 -  13.4s"
     ]
    },
    {
     "name": "stderr",
     "output_type": "stream",
     "text": [
      "[Parallel(n_jobs=1)]: Done  11 jobs       | elapsed:  1.1min\n",
      "[Parallel(n_jobs=1)]: Done  12 jobs       | elapsed:  1.4min\n"
     ]
    },
    {
     "name": "stdout",
     "output_type": "stream",
     "text": [
      "\n",
      "[CV] max_features=auto, n_estimators=500 .............................\n",
      "[CV] ... max_features=auto, n_estimators=500, score=-0.241734 -  13.6s\n",
      "[CV] max_features=auto, n_estimators=500 .............................\n",
      "[CV] ... max_features=auto, n_estimators=500, score=-0.251298 -  13.4s"
     ]
    },
    {
     "name": "stderr",
     "output_type": "stream",
     "text": [
      "[Parallel(n_jobs=1)]: Done  13 jobs       | elapsed:  1.6min\n",
      "[Parallel(n_jobs=1)]: Done  14 jobs       | elapsed:  1.8min\n"
     ]
    },
    {
     "name": "stdout",
     "output_type": "stream",
     "text": [
      "\n",
      "[CV] max_features=auto, n_estimators=500 .............................\n",
      "[CV] ... max_features=auto, n_estimators=500, score=-0.254349 -  13.4s\n",
      "[CV] max_features=sqrt, n_estimators=100 .............................\n",
      "[CV] ... max_features=sqrt, n_estimators=100, score=-0.245615 -   0.8s"
     ]
    },
    {
     "name": "stderr",
     "output_type": "stream",
     "text": [
      "[Parallel(n_jobs=1)]: Done  15 jobs       | elapsed:  2.1min\n",
      "[Parallel(n_jobs=1)]: Done  16 jobs       | elapsed:  2.1min\n"
     ]
    },
    {
     "name": "stdout",
     "output_type": "stream",
     "text": [
      "\n",
      "[CV] max_features=sqrt, n_estimators=100 .............................\n",
      "[CV] ... max_features=sqrt, n_estimators=100, score=-0.255232 -   0.8s\n",
      "[CV] max_features=sqrt, n_estimators=100 .............................\n",
      "[CV] ... max_features=sqrt, n_estimators=100, score=-0.232270 -   0.8s"
     ]
    },
    {
     "name": "stderr",
     "output_type": "stream",
     "text": [
      "[Parallel(n_jobs=1)]: Done  17 jobs       | elapsed:  2.1min\n",
      "[Parallel(n_jobs=1)]: Done  18 jobs       | elapsed:  2.1min\n"
     ]
    },
    {
     "name": "stdout",
     "output_type": "stream",
     "text": [
      "\n",
      "[CV] max_features=sqrt, n_estimators=100 .............................\n",
      "[CV] ... max_features=sqrt, n_estimators=100, score=-0.236752 -   0.8s\n",
      "[CV] max_features=sqrt, n_estimators=100 .............................\n",
      "[CV] ... max_features=sqrt, n_estimators=100, score=-0.228413 -   0.8s"
     ]
    },
    {
     "name": "stderr",
     "output_type": "stream",
     "text": [
      "[Parallel(n_jobs=1)]: Done  19 jobs       | elapsed:  2.1min\n",
      "[Parallel(n_jobs=1)]: Done  20 jobs       | elapsed:  2.1min\n"
     ]
    },
    {
     "name": "stdout",
     "output_type": "stream",
     "text": [
      "\n",
      "[CV] max_features=sqrt, n_estimators=300 .............................\n",
      "[CV] ... max_features=sqrt, n_estimators=300, score=-0.242051 -   2.7s\n",
      "[CV] max_features=sqrt, n_estimators=300 .............................\n",
      "[CV] ... max_features=sqrt, n_estimators=300, score=-0.254847 -   2.7s"
     ]
    },
    {
     "name": "stderr",
     "output_type": "stream",
     "text": [
      "[Parallel(n_jobs=1)]: Done  21 jobs       | elapsed:  2.2min\n",
      "[Parallel(n_jobs=1)]: Done  22 jobs       | elapsed:  2.2min\n"
     ]
    },
    {
     "name": "stdout",
     "output_type": "stream",
     "text": [
      "\n",
      "[CV] max_features=sqrt, n_estimators=300 .............................\n",
      "[CV] ... max_features=sqrt, n_estimators=300, score=-0.231935 -   2.7s\n",
      "[CV] max_features=sqrt, n_estimators=300 .............................\n",
      "[CV] ... max_features=sqrt, n_estimators=300, score=-0.233855 -   2.7s"
     ]
    },
    {
     "name": "stderr",
     "output_type": "stream",
     "text": [
      "[Parallel(n_jobs=1)]: Done  23 jobs       | elapsed:  2.3min\n",
      "[Parallel(n_jobs=1)]: Done  24 jobs       | elapsed:  2.3min\n"
     ]
    },
    {
     "name": "stdout",
     "output_type": "stream",
     "text": [
      "\n",
      "[CV] max_features=sqrt, n_estimators=300 .............................\n",
      "[CV] ... max_features=sqrt, n_estimators=300, score=-0.226132 -   2.7s\n",
      "[CV] max_features=sqrt, n_estimators=500 .............................\n",
      "[CV] ... max_features=sqrt, n_estimators=500, score=-0.242657 -   4.6s"
     ]
    },
    {
     "name": "stderr",
     "output_type": "stream",
     "text": [
      "[Parallel(n_jobs=1)]: Done  25 jobs       | elapsed:  2.4min\n",
      "[Parallel(n_jobs=1)]: Done  26 jobs       | elapsed:  2.4min\n"
     ]
    },
    {
     "name": "stdout",
     "output_type": "stream",
     "text": [
      "\n",
      "[CV] max_features=sqrt, n_estimators=500 .............................\n",
      "[CV] ... max_features=sqrt, n_estimators=500, score=-0.254688 -   4.5s\n",
      "[CV] max_features=sqrt, n_estimators=500 .............................\n",
      "[CV] ... max_features=sqrt, n_estimators=500, score=-0.229529 -   4.6s"
     ]
    },
    {
     "name": "stderr",
     "output_type": "stream",
     "text": [
      "[Parallel(n_jobs=1)]: Done  27 jobs       | elapsed:  2.5min\n",
      "[Parallel(n_jobs=1)]: Done  28 jobs       | elapsed:  2.6min\n"
     ]
    },
    {
     "name": "stdout",
     "output_type": "stream",
     "text": [
      "\n",
      "[CV] max_features=sqrt, n_estimators=500 .............................\n",
      "[CV] ... max_features=sqrt, n_estimators=500, score=-0.234349 -   4.6s\n",
      "[CV] max_features=sqrt, n_estimators=500 .............................\n",
      "[CV] ... max_features=sqrt, n_estimators=500, score=-0.225458 -   4.5s"
     ]
    },
    {
     "name": "stderr",
     "output_type": "stream",
     "text": [
      "[Parallel(n_jobs=1)]: Done  29 jobs       | elapsed:  2.7min\n",
      "[Parallel(n_jobs=1)]: Done  30 jobs       | elapsed:  2.8min\n"
     ]
    },
    {
     "name": "stdout",
     "output_type": "stream",
     "text": [
      "\n",
      "[CV] max_features=log2, n_estimators=100 .............................\n",
      "[CV] ... max_features=log2, n_estimators=100, score=-0.244393 -   0.9s\n",
      "[CV] max_features=log2, n_estimators=100 .............................\n",
      "[CV] ... max_features=log2, n_estimators=100, score=-0.256295 -   0.8s"
     ]
    },
    {
     "name": "stderr",
     "output_type": "stream",
     "text": [
      "[Parallel(n_jobs=1)]: Done  31 jobs       | elapsed:  2.8min\n",
      "[Parallel(n_jobs=1)]: Done  32 jobs       | elapsed:  2.8min\n"
     ]
    },
    {
     "name": "stdout",
     "output_type": "stream",
     "text": [
      "\n",
      "[CV] max_features=log2, n_estimators=100 .............................\n",
      "[CV] ... max_features=log2, n_estimators=100, score=-0.230639 -   0.8s\n",
      "[CV] max_features=log2, n_estimators=100 .............................\n",
      "[CV] ... max_features=log2, n_estimators=100, score=-0.238937 -   0.8s"
     ]
    },
    {
     "name": "stderr",
     "output_type": "stream",
     "text": [
      "[Parallel(n_jobs=1)]: Done  33 jobs       | elapsed:  2.8min\n",
      "[Parallel(n_jobs=1)]: Done  34 jobs       | elapsed:  2.8min\n"
     ]
    },
    {
     "name": "stdout",
     "output_type": "stream",
     "text": [
      "\n",
      "[CV] max_features=log2, n_estimators=100 .............................\n",
      "[CV] ... max_features=log2, n_estimators=100, score=-0.229361 -   0.8s\n",
      "[CV] max_features=log2, n_estimators=300 .............................\n",
      "[CV] ... max_features=log2, n_estimators=300, score=-0.243725 -   2.7s"
     ]
    },
    {
     "name": "stderr",
     "output_type": "stream",
     "text": [
      "[Parallel(n_jobs=1)]: Done  35 jobs       | elapsed:  2.8min\n",
      "[Parallel(n_jobs=1)]: Done  36 jobs       | elapsed:  2.9min\n"
     ]
    },
    {
     "name": "stdout",
     "output_type": "stream",
     "text": [
      "\n",
      "[CV] max_features=log2, n_estimators=300 .............................\n",
      "[CV] ... max_features=log2, n_estimators=300, score=-0.256960 -   2.7s\n",
      "[CV] max_features=log2, n_estimators=300 .............................\n",
      "[CV] ... max_features=log2, n_estimators=300, score=-0.229870 -   2.7s"
     ]
    },
    {
     "name": "stderr",
     "output_type": "stream",
     "text": [
      "[Parallel(n_jobs=1)]: Done  37 jobs       | elapsed:  2.9min\n",
      "[Parallel(n_jobs=1)]: Done  38 jobs       | elapsed:  3.0min\n"
     ]
    },
    {
     "name": "stdout",
     "output_type": "stream",
     "text": [
      "\n",
      "[CV] max_features=log2, n_estimators=300 .............................\n",
      "[CV] ... max_features=log2, n_estimators=300, score=-0.234521 -   2.7s\n",
      "[CV] max_features=log2, n_estimators=300 .............................\n",
      "[CV] ... max_features=log2, n_estimators=300, score=-0.226678 -   2.7s"
     ]
    },
    {
     "name": "stderr",
     "output_type": "stream",
     "text": [
      "[Parallel(n_jobs=1)]: Done  39 jobs       | elapsed:  3.0min\n",
      "[Parallel(n_jobs=1)]: Done  40 jobs       | elapsed:  3.1min\n"
     ]
    },
    {
     "name": "stdout",
     "output_type": "stream",
     "text": [
      "\n",
      "[CV] max_features=log2, n_estimators=500 .............................\n",
      "[CV] ... max_features=log2, n_estimators=500, score=-0.241080 -   4.5s\n",
      "[CV] max_features=log2, n_estimators=500 .............................\n",
      "[CV] ... max_features=log2, n_estimators=500, score=-0.256505 -   4.5s"
     ]
    },
    {
     "name": "stderr",
     "output_type": "stream",
     "text": [
      "[Parallel(n_jobs=1)]: Done  41 jobs       | elapsed:  3.2min\n",
      "[Parallel(n_jobs=1)]: Done  42 jobs       | elapsed:  3.2min\n"
     ]
    },
    {
     "name": "stdout",
     "output_type": "stream",
     "text": [
      "\n",
      "[CV] max_features=log2, n_estimators=500 .............................\n",
      "[CV] ... max_features=log2, n_estimators=500, score=-0.229612 -   4.6s\n",
      "[CV] max_features=log2, n_estimators=500 .............................\n",
      "[CV] ... max_features=log2, n_estimators=500, score=-0.233024 -   4.5s"
     ]
    },
    {
     "name": "stderr",
     "output_type": "stream",
     "text": [
      "[Parallel(n_jobs=1)]: Done  43 jobs       | elapsed:  3.3min\n",
      "[Parallel(n_jobs=1)]: Done  44 jobs       | elapsed:  3.4min\n"
     ]
    },
    {
     "name": "stdout",
     "output_type": "stream",
     "text": [
      "\n",
      "[CV] max_features=log2, n_estimators=500 .............................\n",
      "[CV] ... max_features=log2, n_estimators=500, score=-0.226762 -   4.6s\n",
      "Fitting 5 folds for each of 9 candidates, totalling 45 fits\n",
      "[CV] max_features=auto, n_estimators=100 .............................\n",
      "[CV] ... max_features=auto, n_estimators=100, score=-0.099008 -   2.7s"
     ]
    },
    {
     "name": "stderr",
     "output_type": "stream",
     "text": [
      "[Parallel(n_jobs=1)]: Done  45 jobs       | elapsed:  3.5min\n",
      "[Parallel(n_jobs=1)]: Done  45 out of  45 | elapsed:  3.5min finished\n",
      "[Parallel(n_jobs=1)]: Done   1 jobs       | elapsed:    2.7s\n"
     ]
    },
    {
     "name": "stdout",
     "output_type": "stream",
     "text": [
      "\n",
      "[CV] max_features=auto, n_estimators=100 .............................\n",
      "[CV] ... max_features=auto, n_estimators=100, score=-0.096799 -   2.6s\n",
      "[CV] max_features=auto, n_estimators=100 .............................\n",
      "[CV] ... max_features=auto, n_estimators=100, score=-0.093522 -   2.6s"
     ]
    },
    {
     "name": "stderr",
     "output_type": "stream",
     "text": [
      "[Parallel(n_jobs=1)]: Done   2 jobs       | elapsed:    5.4s\n",
      "[Parallel(n_jobs=1)]: Done   3 jobs       | elapsed:    8.1s\n"
     ]
    },
    {
     "name": "stdout",
     "output_type": "stream",
     "text": [
      "\n",
      "[CV] max_features=auto, n_estimators=100 .............................\n",
      "[CV] ... max_features=auto, n_estimators=100, score=-0.115647 -   2.6s\n",
      "[CV] max_features=auto, n_estimators=100 .............................\n",
      "[CV] ... max_features=auto, n_estimators=100, score=-0.089818 -   2.6s"
     ]
    },
    {
     "name": "stderr",
     "output_type": "stream",
     "text": [
      "[Parallel(n_jobs=1)]: Done   4 jobs       | elapsed:   10.9s\n",
      "[Parallel(n_jobs=1)]: Done   5 jobs       | elapsed:   13.6s\n"
     ]
    },
    {
     "name": "stdout",
     "output_type": "stream",
     "text": [
      "\n",
      "[CV] max_features=auto, n_estimators=300 .............................\n",
      "[CV] ... max_features=auto, n_estimators=300, score=-0.098883 -   8.1s\n",
      "[CV] max_features=auto, n_estimators=300 .............................\n",
      "[CV] ... max_features=auto, n_estimators=300, score=-0.095676 -   8.1s"
     ]
    },
    {
     "name": "stderr",
     "output_type": "stream",
     "text": [
      "[Parallel(n_jobs=1)]: Done   6 jobs       | elapsed:   21.8s\n",
      "[Parallel(n_jobs=1)]: Done   7 jobs       | elapsed:   30.0s\n"
     ]
    },
    {
     "name": "stdout",
     "output_type": "stream",
     "text": [
      "\n",
      "[CV] max_features=auto, n_estimators=300 .............................\n",
      "[CV] ... max_features=auto, n_estimators=300, score=-0.093446 -   8.1s\n",
      "[CV] max_features=auto, n_estimators=300 .............................\n",
      "[CV] ... max_features=auto, n_estimators=300, score=-0.115038 -   8.1s"
     ]
    },
    {
     "name": "stderr",
     "output_type": "stream",
     "text": [
      "[Parallel(n_jobs=1)]: Done   8 jobs       | elapsed:   38.2s\n",
      "[Parallel(n_jobs=1)]: Done   9 jobs       | elapsed:   46.4s\n"
     ]
    },
    {
     "name": "stdout",
     "output_type": "stream",
     "text": [
      "\n",
      "[CV] max_features=auto, n_estimators=300 .............................\n",
      "[CV] ... max_features=auto, n_estimators=300, score=-0.089153 -   8.1s\n",
      "[CV] max_features=auto, n_estimators=500 .............................\n",
      "[CV] ... max_features=auto, n_estimators=500, score=-0.098791 -  13.5s"
     ]
    },
    {
     "name": "stderr",
     "output_type": "stream",
     "text": [
      "[Parallel(n_jobs=1)]: Done  10 jobs       | elapsed:   54.6s\n",
      "[Parallel(n_jobs=1)]: Done  11 jobs       | elapsed:  1.1min\n"
     ]
    },
    {
     "name": "stdout",
     "output_type": "stream",
     "text": [
      "\n",
      "[CV] max_features=auto, n_estimators=500 .............................\n",
      "[CV] ... max_features=auto, n_estimators=500, score=-0.095698 -  13.5s\n",
      "[CV] max_features=auto, n_estimators=500 .............................\n",
      "[CV] ... max_features=auto, n_estimators=500, score=-0.092373 -  13.6s"
     ]
    },
    {
     "name": "stderr",
     "output_type": "stream",
     "text": [
      "[Parallel(n_jobs=1)]: Done  12 jobs       | elapsed:  1.4min\n",
      "[Parallel(n_jobs=1)]: Done  13 jobs       | elapsed:  1.6min\n"
     ]
    },
    {
     "name": "stdout",
     "output_type": "stream",
     "text": [
      "\n",
      "[CV] max_features=auto, n_estimators=500 .............................\n",
      "[CV] ... max_features=auto, n_estimators=500, score=-0.114143 -  13.6s\n",
      "[CV] max_features=auto, n_estimators=500 .............................\n",
      "[CV] ... max_features=auto, n_estimators=500, score=-0.089255 -  13.6s"
     ]
    },
    {
     "name": "stderr",
     "output_type": "stream",
     "text": [
      "[Parallel(n_jobs=1)]: Done  14 jobs       | elapsed:  1.8min\n",
      "[Parallel(n_jobs=1)]: Done  15 jobs       | elapsed:  2.1min\n"
     ]
    },
    {
     "name": "stdout",
     "output_type": "stream",
     "text": [
      "\n",
      "[CV] max_features=sqrt, n_estimators=100 .............................\n",
      "[CV] ... max_features=sqrt, n_estimators=100, score=-0.092200 -   0.8s\n",
      "[CV] max_features=sqrt, n_estimators=100 .............................\n",
      "[CV] ... max_features=sqrt, n_estimators=100, score=-0.096704 -   0.8s"
     ]
    },
    {
     "name": "stderr",
     "output_type": "stream",
     "text": [
      "[Parallel(n_jobs=1)]: Done  16 jobs       | elapsed:  2.1min\n",
      "[Parallel(n_jobs=1)]: Done  17 jobs       | elapsed:  2.1min\n"
     ]
    },
    {
     "name": "stdout",
     "output_type": "stream",
     "text": [
      "\n",
      "[CV] max_features=sqrt, n_estimators=100 .............................\n",
      "[CV] ... max_features=sqrt, n_estimators=100, score=-0.097524 -   0.8s\n",
      "[CV] max_features=sqrt, n_estimators=100 .............................\n",
      "[CV] ... max_features=sqrt, n_estimators=100, score=-0.107730 -   0.9s"
     ]
    },
    {
     "name": "stderr",
     "output_type": "stream",
     "text": [
      "[Parallel(n_jobs=1)]: Done  18 jobs       | elapsed:  2.1min\n",
      "[Parallel(n_jobs=1)]: Done  19 jobs       | elapsed:  2.1min\n"
     ]
    },
    {
     "name": "stdout",
     "output_type": "stream",
     "text": [
      "\n",
      "[CV] max_features=sqrt, n_estimators=100 .............................\n",
      "[CV] ... max_features=sqrt, n_estimators=100, score=-0.084658 -   0.8s\n",
      "[CV] max_features=sqrt, n_estimators=300 .............................\n",
      "[CV] ... max_features=sqrt, n_estimators=300, score=-0.091866 -   2.7s"
     ]
    },
    {
     "name": "stderr",
     "output_type": "stream",
     "text": [
      "[Parallel(n_jobs=1)]: Done  20 jobs       | elapsed:  2.1min\n",
      "[Parallel(n_jobs=1)]: Done  21 jobs       | elapsed:  2.2min\n"
     ]
    },
    {
     "name": "stdout",
     "output_type": "stream",
     "text": [
      "\n",
      "[CV] max_features=sqrt, n_estimators=300 .............................\n",
      "[CV] ... max_features=sqrt, n_estimators=300, score=-0.093867 -   2.8s\n",
      "[CV] max_features=sqrt, n_estimators=300 .............................\n",
      "[CV] ... max_features=sqrt, n_estimators=300, score=-0.096741 -   2.7s"
     ]
    },
    {
     "name": "stderr",
     "output_type": "stream",
     "text": [
      "[Parallel(n_jobs=1)]: Done  22 jobs       | elapsed:  2.2min\n",
      "[Parallel(n_jobs=1)]: Done  23 jobs       | elapsed:  2.3min\n"
     ]
    },
    {
     "name": "stdout",
     "output_type": "stream",
     "text": [
      "\n",
      "[CV] max_features=sqrt, n_estimators=300 .............................\n",
      "[CV] ... max_features=sqrt, n_estimators=300, score=-0.105448 -   2.7s\n",
      "[CV] max_features=sqrt, n_estimators=300 .............................\n",
      "[CV] ... max_features=sqrt, n_estimators=300, score=-0.084147 -   2.7s"
     ]
    },
    {
     "name": "stderr",
     "output_type": "stream",
     "text": [
      "[Parallel(n_jobs=1)]: Done  24 jobs       | elapsed:  2.3min\n",
      "[Parallel(n_jobs=1)]: Done  25 jobs       | elapsed:  2.4min\n"
     ]
    },
    {
     "name": "stdout",
     "output_type": "stream",
     "text": [
      "\n",
      "[CV] max_features=sqrt, n_estimators=500 .............................\n",
      "[CV] ... max_features=sqrt, n_estimators=500, score=-0.091185 -   4.6s\n",
      "[CV] max_features=sqrt, n_estimators=500 .............................\n",
      "[CV] ... max_features=sqrt, n_estimators=500, score=-0.093286 -   4.6s"
     ]
    },
    {
     "name": "stderr",
     "output_type": "stream",
     "text": [
      "[Parallel(n_jobs=1)]: Done  26 jobs       | elapsed:  2.4min\n",
      "[Parallel(n_jobs=1)]: Done  27 jobs       | elapsed:  2.5min\n"
     ]
    },
    {
     "name": "stdout",
     "output_type": "stream",
     "text": [
      "\n",
      "[CV] max_features=sqrt, n_estimators=500 .............................\n",
      "[CV] ... max_features=sqrt, n_estimators=500, score=-0.095044 -   4.6s\n",
      "[CV] max_features=sqrt, n_estimators=500 .............................\n",
      "[CV] ... max_features=sqrt, n_estimators=500, score=-0.106966 -   4.6s"
     ]
    },
    {
     "name": "stderr",
     "output_type": "stream",
     "text": [
      "[Parallel(n_jobs=1)]: Done  28 jobs       | elapsed:  2.6min\n",
      "[Parallel(n_jobs=1)]: Done  29 jobs       | elapsed:  2.7min\n"
     ]
    },
    {
     "name": "stdout",
     "output_type": "stream",
     "text": [
      "\n",
      "[CV] max_features=sqrt, n_estimators=500 .............................\n",
      "[CV] ... max_features=sqrt, n_estimators=500, score=-0.083717 -   4.6s\n",
      "[CV] max_features=log2, n_estimators=100 .............................\n",
      "[CV] ... max_features=log2, n_estimators=100, score=-0.091829 -   0.9s"
     ]
    },
    {
     "name": "stderr",
     "output_type": "stream",
     "text": [
      "[Parallel(n_jobs=1)]: Done  30 jobs       | elapsed:  2.8min\n",
      "[Parallel(n_jobs=1)]: Done  31 jobs       | elapsed:  2.8min\n"
     ]
    },
    {
     "name": "stdout",
     "output_type": "stream",
     "text": [
      "\n",
      "[CV] max_features=log2, n_estimators=100 .............................\n",
      "[CV] ... max_features=log2, n_estimators=100, score=-0.095379 -   0.9s\n",
      "[CV] max_features=log2, n_estimators=100 .............................\n",
      "[CV] ... max_features=log2, n_estimators=100, score=-0.096050 -   0.9s"
     ]
    },
    {
     "name": "stderr",
     "output_type": "stream",
     "text": [
      "[Parallel(n_jobs=1)]: Done  32 jobs       | elapsed:  2.8min\n",
      "[Parallel(n_jobs=1)]: Done  33 jobs       | elapsed:  2.8min\n"
     ]
    },
    {
     "name": "stdout",
     "output_type": "stream",
     "text": [
      "\n",
      "[CV] max_features=log2, n_estimators=100 .............................\n",
      "[CV] ... max_features=log2, n_estimators=100, score=-0.107422 -   0.8s\n",
      "[CV] max_features=log2, n_estimators=100 .............................\n",
      "[CV] ... max_features=log2, n_estimators=100, score=-0.085045 -   0.9s"
     ]
    },
    {
     "name": "stderr",
     "output_type": "stream",
     "text": [
      "[Parallel(n_jobs=1)]: Done  34 jobs       | elapsed:  2.8min\n",
      "[Parallel(n_jobs=1)]: Done  35 jobs       | elapsed:  2.8min\n"
     ]
    },
    {
     "name": "stdout",
     "output_type": "stream",
     "text": [
      "\n",
      "[CV] max_features=log2, n_estimators=300 .............................\n",
      "[CV] ... max_features=log2, n_estimators=300, score=-0.091707 -   2.8s\n",
      "[CV] max_features=log2, n_estimators=300 .............................\n",
      "[CV] ... max_features=log2, n_estimators=300, score=-0.094494 -   2.8s"
     ]
    },
    {
     "name": "stderr",
     "output_type": "stream",
     "text": [
      "[Parallel(n_jobs=1)]: Done  36 jobs       | elapsed:  2.9min\n",
      "[Parallel(n_jobs=1)]: Done  37 jobs       | elapsed:  2.9min\n"
     ]
    },
    {
     "name": "stdout",
     "output_type": "stream",
     "text": [
      "\n",
      "[CV] max_features=log2, n_estimators=300 .............................\n",
      "[CV] ... max_features=log2, n_estimators=300, score=-0.095347 -   2.9s\n",
      "[CV] max_features=log2, n_estimators=300 .............................\n",
      "[CV] ... max_features=log2, n_estimators=300, score=-0.104966 -   2.8s"
     ]
    },
    {
     "name": "stderr",
     "output_type": "stream",
     "text": [
      "[Parallel(n_jobs=1)]: Done  38 jobs       | elapsed:  3.0min\n",
      "[Parallel(n_jobs=1)]: Done  39 jobs       | elapsed:  3.0min\n"
     ]
    },
    {
     "name": "stdout",
     "output_type": "stream",
     "text": [
      "\n",
      "[CV] max_features=log2, n_estimators=300 .............................\n",
      "[CV] ... max_features=log2, n_estimators=300, score=-0.083554 -   2.8s\n",
      "[CV] max_features=log2, n_estimators=500 .............................\n",
      "[CV] ... max_features=log2, n_estimators=500, score=-0.091647 -   4.7s"
     ]
    },
    {
     "name": "stderr",
     "output_type": "stream",
     "text": [
      "[Parallel(n_jobs=1)]: Done  40 jobs       | elapsed:  3.1min\n",
      "[Parallel(n_jobs=1)]: Done  41 jobs       | elapsed:  3.2min\n"
     ]
    },
    {
     "name": "stdout",
     "output_type": "stream",
     "text": [
      "\n",
      "[CV] max_features=log2, n_estimators=500 .............................\n",
      "[CV] ... max_features=log2, n_estimators=500, score=-0.093786 -   4.7s\n",
      "[CV] max_features=log2, n_estimators=500 .............................\n",
      "[CV] ... max_features=log2, n_estimators=500, score=-0.096088 -   4.6s"
     ]
    },
    {
     "name": "stderr",
     "output_type": "stream",
     "text": [
      "[Parallel(n_jobs=1)]: Done  42 jobs       | elapsed:  3.3min\n",
      "[Parallel(n_jobs=1)]: Done  43 jobs       | elapsed:  3.3min\n"
     ]
    },
    {
     "name": "stdout",
     "output_type": "stream",
     "text": [
      "\n",
      "[CV] max_features=log2, n_estimators=500 .............................\n",
      "[CV] ... max_features=log2, n_estimators=500, score=-0.106635 -   4.7s\n",
      "[CV] max_features=log2, n_estimators=500 .............................\n",
      "[CV] ... max_features=log2, n_estimators=500, score=-0.082525 -   4.6s"
     ]
    },
    {
     "name": "stderr",
     "output_type": "stream",
     "text": [
      "[Parallel(n_jobs=1)]: Done  44 jobs       | elapsed:  3.4min\n",
      "[Parallel(n_jobs=1)]: Done  45 jobs       | elapsed:  3.5min\n"
     ]
    },
    {
     "name": "stdout",
     "output_type": "stream",
     "text": [
      "\n"
     ]
    },
    {
     "name": "stderr",
     "output_type": "stream",
     "text": [
      "[Parallel(n_jobs=1)]: Done  45 out of  45 | elapsed:  3.5min finished\n"
     ]
    }
   ],
   "source": [
    "# ExtraTreesRegressor casual\n",
    "# -0.232 (+/-0.005) for {'max_features': 'sqrt', 'n_estimators': 500}\n",
    "# ExtraTreesRegressor registered\n",
    "# -0.093 (+/-0.003) for {'max_features': 'log2', 'n_estimators': 300}\n",
    "\n",
    "# {'max_features': 'log2', 'n_estimators': 500}\n",
    "etree = ExtraTreesRegressor()\n",
    "\n",
    "param_grid = {'n_estimators': [100, 300, 500], \\\n",
    "              'max_features': ['auto', 'sqrt', 'log2']}\n",
    "\n",
    "grid_search(etree, param_grid)"
   ]
  },
  {
   "cell_type": "code",
   "execution_count": 31,
   "metadata": {
    "collapsed": true
   },
   "outputs": [
    {
     "name": "stdout",
     "output_type": "stream",
     "text": [
      "Fitting 5 folds for each of 12 candidates, totalling 60 fits\n",
      "[CV] n_estimators=50, learning_rate=0.05 .............................\n",
      "[CV] ... n_estimators=50, learning_rate=0.05, score=-0.579164 -   0.5s\n",
      "[CV] n_estimators=50, learning_rate=0.05 .............................\n",
      "[CV] ... n_estimators=50, learning_rate=0.05, score=-0.558407 -   0.5s"
     ]
    },
    {
     "name": "stderr",
     "output_type": "stream",
     "text": [
      "[Parallel(n_jobs=1)]: Done   1 jobs       | elapsed:    0.5s\n",
      "[Parallel(n_jobs=1)]: Done   2 jobs       | elapsed:    1.0s\n"
     ]
    },
    {
     "name": "stdout",
     "output_type": "stream",
     "text": [
      "\n",
      "[CV] n_estimators=50, learning_rate=0.05 .............................\n",
      "[CV] ... n_estimators=50, learning_rate=0.05, score=-0.565069 -   0.4s\n",
      "[CV] n_estimators=50, learning_rate=0.05 .............................\n",
      "[CV] ... n_estimators=50, learning_rate=0.05, score=-0.601627 -   0.4s"
     ]
    },
    {
     "name": "stderr",
     "output_type": "stream",
     "text": [
      "[Parallel(n_jobs=1)]: Done   3 jobs       | elapsed:    1.6s\n",
      "[Parallel(n_jobs=1)]: Done   4 jobs       | elapsed:    2.1s\n"
     ]
    },
    {
     "name": "stdout",
     "output_type": "stream",
     "text": [
      "\n",
      "[CV] n_estimators=50, learning_rate=0.05 .............................\n",
      "[CV] ... n_estimators=50, learning_rate=0.05, score=-0.519718 -   0.5s\n",
      "[CV] n_estimators=100, learning_rate=0.05 ............................\n",
      "[CV] .. n_estimators=100, learning_rate=0.05, score=-0.557991 -   1.0s"
     ]
    },
    {
     "name": "stderr",
     "output_type": "stream",
     "text": [
      "[Parallel(n_jobs=1)]: Done   5 jobs       | elapsed:    2.7s\n",
      "[Parallel(n_jobs=1)]: Done   6 jobs       | elapsed:    3.8s\n"
     ]
    },
    {
     "name": "stdout",
     "output_type": "stream",
     "text": [
      "\n",
      "[CV] n_estimators=100, learning_rate=0.05 ............................\n",
      "[CV] .. n_estimators=100, learning_rate=0.05, score=-0.526759 -   1.1s\n",
      "[CV] n_estimators=100, learning_rate=0.05 ............................\n",
      "[CV] .. n_estimators=100, learning_rate=0.05, score=-0.544267 -   1.1s"
     ]
    },
    {
     "name": "stderr",
     "output_type": "stream",
     "text": [
      "[Parallel(n_jobs=1)]: Done   7 jobs       | elapsed:    5.0s\n",
      "[Parallel(n_jobs=1)]: Done   8 jobs       | elapsed:    6.1s\n"
     ]
    },
    {
     "name": "stdout",
     "output_type": "stream",
     "text": [
      "\n",
      "[CV] n_estimators=100, learning_rate=0.05 ............................\n",
      "[CV] .. n_estimators=100, learning_rate=0.05, score=-0.574013 -   1.0s\n",
      "[CV] n_estimators=100, learning_rate=0.05 ............................\n",
      "[CV] .. n_estimators=100, learning_rate=0.05, score=-0.518890 -   1.0s"
     ]
    },
    {
     "name": "stderr",
     "output_type": "stream",
     "text": [
      "[Parallel(n_jobs=1)]: Done   9 jobs       | elapsed:    7.3s\n",
      "[Parallel(n_jobs=1)]: Done  10 jobs       | elapsed:    8.4s\n"
     ]
    },
    {
     "name": "stdout",
     "output_type": "stream",
     "text": [
      "\n",
      "[CV] n_estimators=300, learning_rate=0.05 ............................\n",
      "[CV] .. n_estimators=300, learning_rate=0.05, score=-0.500638 -   3.2s\n",
      "[CV] n_estimators=300, learning_rate=0.05 ............................\n",
      "[CV] .. n_estimators=300, learning_rate=0.05, score=-0.505670 -   3.1s"
     ]
    },
    {
     "name": "stderr",
     "output_type": "stream",
     "text": [
      "[Parallel(n_jobs=1)]: Done  11 jobs       | elapsed:   11.6s\n",
      "[Parallel(n_jobs=1)]: Done  12 jobs       | elapsed:   14.9s\n"
     ]
    },
    {
     "name": "stdout",
     "output_type": "stream",
     "text": [
      "\n",
      "[CV] n_estimators=300, learning_rate=0.05 ............................\n",
      "[CV] .. n_estimators=300, learning_rate=0.05, score=-0.490804 -   3.2s\n",
      "[CV] n_estimators=300, learning_rate=0.05 ............................\n",
      "[CV] .. n_estimators=300, learning_rate=0.05, score=-0.487806 -   3.2s"
     ]
    },
    {
     "name": "stderr",
     "output_type": "stream",
     "text": [
      "[Parallel(n_jobs=1)]: Done  13 jobs       | elapsed:   18.1s\n",
      "[Parallel(n_jobs=1)]: Done  14 jobs       | elapsed:   21.4s\n"
     ]
    },
    {
     "name": "stdout",
     "output_type": "stream",
     "text": [
      "\n",
      "[CV] n_estimators=300, learning_rate=0.05 ............................\n",
      "[CV] .. n_estimators=300, learning_rate=0.05, score=-0.467904 -   3.1s\n",
      "[CV] n_estimators=50, learning_rate=0.1 ..............................\n",
      "[CV] .... n_estimators=50, learning_rate=0.1, score=-0.558139 -   0.5s"
     ]
    },
    {
     "name": "stderr",
     "output_type": "stream",
     "text": [
      "[Parallel(n_jobs=1)]: Done  15 jobs       | elapsed:   24.7s\n",
      "[Parallel(n_jobs=1)]: Done  16 jobs       | elapsed:   25.2s\n"
     ]
    },
    {
     "name": "stdout",
     "output_type": "stream",
     "text": [
      "\n",
      "[CV] n_estimators=50, learning_rate=0.1 ..............................\n",
      "[CV] .... n_estimators=50, learning_rate=0.1, score=-0.522096 -   0.5s\n",
      "[CV] n_estimators=50, learning_rate=0.1 ..............................\n",
      "[CV] .... n_estimators=50, learning_rate=0.1, score=-0.538448 -   0.4s"
     ]
    },
    {
     "name": "stderr",
     "output_type": "stream",
     "text": [
      "[Parallel(n_jobs=1)]: Done  17 jobs       | elapsed:   25.8s\n",
      "[Parallel(n_jobs=1)]: Done  18 jobs       | elapsed:   26.3s\n"
     ]
    },
    {
     "name": "stdout",
     "output_type": "stream",
     "text": [
      "\n",
      "[CV] n_estimators=50, learning_rate=0.1 ..............................\n",
      "[CV] .... n_estimators=50, learning_rate=0.1, score=-0.568243 -   0.4s\n",
      "[CV] n_estimators=50, learning_rate=0.1 ..............................\n",
      "[CV] .... n_estimators=50, learning_rate=0.1, score=-0.516958 -   0.5s"
     ]
    },
    {
     "name": "stderr",
     "output_type": "stream",
     "text": [
      "[Parallel(n_jobs=1)]: Done  19 jobs       | elapsed:   26.9s\n",
      "[Parallel(n_jobs=1)]: Done  20 jobs       | elapsed:   27.4s\n"
     ]
    },
    {
     "name": "stdout",
     "output_type": "stream",
     "text": [
      "\n",
      "[CV] n_estimators=100, learning_rate=0.1 .............................\n",
      "[CV] ... n_estimators=100, learning_rate=0.1, score=-0.511135 -   1.0s\n",
      "[CV] n_estimators=100, learning_rate=0.1 .............................\n",
      "[CV] ... n_estimators=100, learning_rate=0.1, score=-0.511653 -   1.0s"
     ]
    },
    {
     "name": "stderr",
     "output_type": "stream",
     "text": [
      "[Parallel(n_jobs=1)]: Done  21 jobs       | elapsed:   28.5s\n",
      "[Parallel(n_jobs=1)]: Done  22 jobs       | elapsed:   29.6s\n"
     ]
    },
    {
     "name": "stdout",
     "output_type": "stream",
     "text": [
      "\n",
      "[CV] n_estimators=100, learning_rate=0.1 .............................\n",
      "[CV] ... n_estimators=100, learning_rate=0.1, score=-0.499227 -   1.0s\n",
      "[CV] n_estimators=100, learning_rate=0.1 .............................\n",
      "[CV] ... n_estimators=100, learning_rate=0.1, score=-0.514140 -   1.0s"
     ]
    },
    {
     "name": "stderr",
     "output_type": "stream",
     "text": [
      "[Parallel(n_jobs=1)]: Done  23 jobs       | elapsed:   30.7s\n",
      "[Parallel(n_jobs=1)]: Done  24 jobs       | elapsed:   31.8s\n"
     ]
    },
    {
     "name": "stdout",
     "output_type": "stream",
     "text": [
      "\n",
      "[CV] n_estimators=100, learning_rate=0.1 .............................\n",
      "[CV] ... n_estimators=100, learning_rate=0.1, score=-0.472339 -   1.0s\n",
      "[CV] n_estimators=300, learning_rate=0.1 .............................\n",
      "[CV] ... n_estimators=300, learning_rate=0.1, score=-0.501253 -   3.1s"
     ]
    },
    {
     "name": "stderr",
     "output_type": "stream",
     "text": [
      "[Parallel(n_jobs=1)]: Done  25 jobs       | elapsed:   32.9s\n",
      "[Parallel(n_jobs=1)]: Done  26 jobs       | elapsed:   36.1s\n"
     ]
    },
    {
     "name": "stdout",
     "output_type": "stream",
     "text": [
      "\n",
      "[CV] n_estimators=300, learning_rate=0.1 .............................\n",
      "[CV] ... n_estimators=300, learning_rate=0.1, score=-0.510444 -   3.1s\n",
      "[CV] n_estimators=300, learning_rate=0.1 .............................\n",
      "[CV] ... n_estimators=300, learning_rate=0.1, score=-0.489110 -   3.1s"
     ]
    },
    {
     "name": "stderr",
     "output_type": "stream",
     "text": [
      "[Parallel(n_jobs=1)]: Done  27 jobs       | elapsed:   39.3s\n",
      "[Parallel(n_jobs=1)]: Done  28 jobs       | elapsed:   42.5s\n"
     ]
    },
    {
     "name": "stdout",
     "output_type": "stream",
     "text": [
      "\n",
      "[CV] n_estimators=300, learning_rate=0.1 .............................\n",
      "[CV] ... n_estimators=300, learning_rate=0.1, score=-0.491259 -   3.1s\n",
      "[CV] n_estimators=300, learning_rate=0.1 .............................\n",
      "[CV] ... n_estimators=300, learning_rate=0.1, score=-0.466961 -   3.1s"
     ]
    },
    {
     "name": "stderr",
     "output_type": "stream",
     "text": [
      "[Parallel(n_jobs=1)]: Done  29 jobs       | elapsed:   45.7s\n",
      "[Parallel(n_jobs=1)]: Done  30 jobs       | elapsed:   48.9s\n"
     ]
    },
    {
     "name": "stdout",
     "output_type": "stream",
     "text": [
      "\n",
      "[CV] n_estimators=50, learning_rate=0.2 ..............................\n",
      "[CV] .... n_estimators=50, learning_rate=0.2, score=-0.508539 -   0.5s\n",
      "[CV] n_estimators=50, learning_rate=0.2 ..............................\n",
      "[CV] .... n_estimators=50, learning_rate=0.2, score=-0.509341 -   0.5s"
     ]
    },
    {
     "name": "stderr",
     "output_type": "stream",
     "text": [
      "[Parallel(n_jobs=1)]: Done  31 jobs       | elapsed:   49.4s\n",
      "[Parallel(n_jobs=1)]: Done  32 jobs       | elapsed:   50.0s\n"
     ]
    },
    {
     "name": "stdout",
     "output_type": "stream",
     "text": [
      "\n",
      "[CV] n_estimators=50, learning_rate=0.2 ..............................\n",
      "[CV] .... n_estimators=50, learning_rate=0.2, score=-0.505904 -   0.5s\n",
      "[CV] n_estimators=50, learning_rate=0.2 ..............................\n",
      "[CV] .... n_estimators=50, learning_rate=0.2, score=-0.512027 -   0.5s"
     ]
    },
    {
     "name": "stderr",
     "output_type": "stream",
     "text": [
      "[Parallel(n_jobs=1)]: Done  33 jobs       | elapsed:   50.5s\n",
      "[Parallel(n_jobs=1)]: Done  34 jobs       | elapsed:   51.1s\n"
     ]
    },
    {
     "name": "stdout",
     "output_type": "stream",
     "text": [
      "\n",
      "[CV] n_estimators=50, learning_rate=0.2 ..............................\n",
      "[CV] .... n_estimators=50, learning_rate=0.2, score=-0.485336 -   0.4s\n",
      "[CV] n_estimators=100, learning_rate=0.2 .............................\n",
      "[CV] ... n_estimators=100, learning_rate=0.2, score=-0.499381 -   1.0s"
     ]
    },
    {
     "name": "stderr",
     "output_type": "stream",
     "text": [
      "[Parallel(n_jobs=1)]: Done  35 jobs       | elapsed:   51.6s\n",
      "[Parallel(n_jobs=1)]: Done  36 jobs       | elapsed:   52.7s\n"
     ]
    },
    {
     "name": "stdout",
     "output_type": "stream",
     "text": [
      "\n",
      "[CV] n_estimators=100, learning_rate=0.2 .............................\n",
      "[CV] ... n_estimators=100, learning_rate=0.2, score=-0.502798 -   1.0s\n",
      "[CV] n_estimators=100, learning_rate=0.2 .............................\n",
      "[CV] ... n_estimators=100, learning_rate=0.2, score=-0.490679 -   1.0s"
     ]
    },
    {
     "name": "stderr",
     "output_type": "stream",
     "text": [
      "[Parallel(n_jobs=1)]: Done  37 jobs       | elapsed:   53.8s\n",
      "[Parallel(n_jobs=1)]: Done  38 jobs       | elapsed:   54.9s\n"
     ]
    },
    {
     "name": "stdout",
     "output_type": "stream",
     "text": [
      "\n",
      "[CV] n_estimators=100, learning_rate=0.2 .............................\n",
      "[CV] ... n_estimators=100, learning_rate=0.2, score=-0.484551 -   1.0s\n",
      "[CV] n_estimators=100, learning_rate=0.2 .............................\n",
      "[CV] ... n_estimators=100, learning_rate=0.2, score=-0.464753 -   1.0s"
     ]
    },
    {
     "name": "stderr",
     "output_type": "stream",
     "text": [
      "[Parallel(n_jobs=1)]: Done  39 jobs       | elapsed:   56.0s\n",
      "[Parallel(n_jobs=1)]: Done  40 jobs       | elapsed:   57.1s\n"
     ]
    },
    {
     "name": "stdout",
     "output_type": "stream",
     "text": [
      "\n",
      "[CV] n_estimators=300, learning_rate=0.2 .............................\n",
      "[CV] ... n_estimators=300, learning_rate=0.2, score=-0.505555 -   3.0s\n",
      "[CV] n_estimators=300, learning_rate=0.2 .............................\n",
      "[CV] ... n_estimators=300, learning_rate=0.2, score=-0.522927 -   3.0s"
     ]
    },
    {
     "name": "stderr",
     "output_type": "stream",
     "text": [
      "[Parallel(n_jobs=1)]: Done  41 jobs       | elapsed:  1.0min\n",
      "[Parallel(n_jobs=1)]: Done  42 jobs       | elapsed:  1.1min\n"
     ]
    },
    {
     "name": "stdout",
     "output_type": "stream",
     "text": [
      "\n",
      "[CV] n_estimators=300, learning_rate=0.2 .............................\n",
      "[CV] ... n_estimators=300, learning_rate=0.2, score=-0.507722 -   3.1s\n",
      "[CV] n_estimators=300, learning_rate=0.2 .............................\n",
      "[CV] ... n_estimators=300, learning_rate=0.2, score=-0.500111 -   3.1s"
     ]
    },
    {
     "name": "stderr",
     "output_type": "stream",
     "text": [
      "[Parallel(n_jobs=1)]: Done  43 jobs       | elapsed:  1.1min\n",
      "[Parallel(n_jobs=1)]: Done  44 jobs       | elapsed:  1.2min\n"
     ]
    },
    {
     "name": "stdout",
     "output_type": "stream",
     "text": [
      "\n",
      "[CV] n_estimators=300, learning_rate=0.2 .............................\n",
      "[CV] ... n_estimators=300, learning_rate=0.2, score=-0.481292 -   3.1s\n",
      "[CV] n_estimators=50, learning_rate=0.3 ..............................\n",
      "[CV] .... n_estimators=50, learning_rate=0.3, score=-0.503407 -   0.5s"
     ]
    },
    {
     "name": "stderr",
     "output_type": "stream",
     "text": [
      "[Parallel(n_jobs=1)]: Done  45 jobs       | elapsed:  1.2min\n",
      "[Parallel(n_jobs=1)]: Done  46 jobs       | elapsed:  1.2min\n"
     ]
    },
    {
     "name": "stdout",
     "output_type": "stream",
     "text": [
      "\n",
      "[CV] n_estimators=50, learning_rate=0.3 ..............................\n",
      "[CV] .... n_estimators=50, learning_rate=0.3, score=-0.512837 -   0.4s\n",
      "[CV] n_estimators=50, learning_rate=0.3 ..............................\n",
      "[CV] .... n_estimators=50, learning_rate=0.3, score=-0.492478 -   0.5s"
     ]
    },
    {
     "name": "stderr",
     "output_type": "stream",
     "text": [
      "[Parallel(n_jobs=1)]: Done  47 jobs       | elapsed:  1.2min\n",
      "[Parallel(n_jobs=1)]: Done  48 jobs       | elapsed:  1.2min\n"
     ]
    },
    {
     "name": "stdout",
     "output_type": "stream",
     "text": [
      "\n",
      "[CV] n_estimators=50, learning_rate=0.3 ..............................\n",
      "[CV] .... n_estimators=50, learning_rate=0.3, score=-0.510157 -   0.5s\n",
      "[CV] n_estimators=50, learning_rate=0.3 ..............................\n",
      "[CV] .... n_estimators=50, learning_rate=0.3, score=-0.456415 -   0.5s"
     ]
    },
    {
     "name": "stderr",
     "output_type": "stream",
     "text": [
      "[Parallel(n_jobs=1)]: Done  49 jobs       | elapsed:  1.3min\n",
      "[Parallel(n_jobs=1)]: Done  50 jobs       | elapsed:  1.3min\n"
     ]
    },
    {
     "name": "stdout",
     "output_type": "stream",
     "text": [
      "\n",
      "[CV] n_estimators=100, learning_rate=0.3 .............................\n",
      "[CV] ... n_estimators=100, learning_rate=0.3, score=-0.507915 -   1.0s\n",
      "[CV] n_estimators=100, learning_rate=0.3 .............................\n",
      "[CV] ... n_estimators=100, learning_rate=0.3, score=-0.508401 -   1.0s"
     ]
    },
    {
     "name": "stderr",
     "output_type": "stream",
     "text": [
      "[Parallel(n_jobs=1)]: Done  51 jobs       | elapsed:  1.3min\n",
      "[Parallel(n_jobs=1)]: Done  52 jobs       | elapsed:  1.3min\n"
     ]
    },
    {
     "name": "stdout",
     "output_type": "stream",
     "text": [
      "\n",
      "[CV] n_estimators=100, learning_rate=0.3 .............................\n",
      "[CV] ... n_estimators=100, learning_rate=0.3, score=-0.491454 -   1.0s\n",
      "[CV] n_estimators=100, learning_rate=0.3 .............................\n",
      "[CV] ... n_estimators=100, learning_rate=0.3, score=-0.486659 -   1.0s"
     ]
    },
    {
     "name": "stderr",
     "output_type": "stream",
     "text": [
      "[Parallel(n_jobs=1)]: Done  53 jobs       | elapsed:  1.3min\n",
      "[Parallel(n_jobs=1)]: Done  54 jobs       | elapsed:  1.3min\n"
     ]
    },
    {
     "name": "stdout",
     "output_type": "stream",
     "text": [
      "\n",
      "[CV] n_estimators=100, learning_rate=0.3 .............................\n",
      "[CV] ... n_estimators=100, learning_rate=0.3, score=-0.454407 -   1.0s\n",
      "[CV] n_estimators=300, learning_rate=0.3 .............................\n",
      "[CV] ... n_estimators=300, learning_rate=0.3, score=-0.530608 -   3.0s"
     ]
    },
    {
     "name": "stderr",
     "output_type": "stream",
     "text": [
      "[Parallel(n_jobs=1)]: Done  55 jobs       | elapsed:  1.4min\n",
      "[Parallel(n_jobs=1)]: Done  56 jobs       | elapsed:  1.4min\n"
     ]
    },
    {
     "name": "stdout",
     "output_type": "stream",
     "text": [
      "\n",
      "[CV] n_estimators=300, learning_rate=0.3 .............................\n",
      "[CV] ... n_estimators=300, learning_rate=0.3, score=-0.503868 -   1.3s\n",
      "[CV] n_estimators=300, learning_rate=0.3 .............................\n",
      "[CV] ... n_estimators=300, learning_rate=0.3, score=-0.500130 -   1.4s"
     ]
    },
    {
     "name": "stderr",
     "output_type": "stream",
     "text": [
      "[Parallel(n_jobs=1)]: Done  57 jobs       | elapsed:  1.4min\n",
      "[Parallel(n_jobs=1)]: Done  58 jobs       | elapsed:  1.5min\n"
     ]
    },
    {
     "name": "stdout",
     "output_type": "stream",
     "text": [
      "\n",
      "[CV] n_estimators=300, learning_rate=0.3 .............................\n",
      "[CV] ... n_estimators=300, learning_rate=0.3, score=-0.508317 -   3.1s\n",
      "[CV] n_estimators=300, learning_rate=0.3 .............................\n",
      "[CV] ... n_estimators=300, learning_rate=0.3, score=-0.490953 -   2.9s"
     ]
    },
    {
     "name": "stderr",
     "output_type": "stream",
     "text": [
      "[Parallel(n_jobs=1)]: Done  59 jobs       | elapsed:  1.5min\n",
      "[Parallel(n_jobs=1)]: Done  60 jobs       | elapsed:  1.6min\n"
     ]
    },
    {
     "name": "stdout",
     "output_type": "stream",
     "text": [
      "\n",
      "Fitting 5 folds for each of 12 candidates, totalling 60 fits\n",
      "[CV] n_estimators=50, learning_rate=0.05 .............................\n",
      "[CV] ... n_estimators=50, learning_rate=0.05, score=-0.434322 -   0.5s"
     ]
    },
    {
     "name": "stderr",
     "output_type": "stream",
     "text": [
      "[Parallel(n_jobs=1)]: Done  60 out of  60 | elapsed:  1.6min finished\n",
      "[Parallel(n_jobs=1)]: Done   1 jobs       | elapsed:    0.5s\n"
     ]
    },
    {
     "name": "stdout",
     "output_type": "stream",
     "text": [
      "\n",
      "[CV] n_estimators=50, learning_rate=0.05 .............................\n",
      "[CV] ... n_estimators=50, learning_rate=0.05, score=-0.432949 -   0.5s\n",
      "[CV] n_estimators=50, learning_rate=0.05 .............................\n",
      "[CV] ... n_estimators=50, learning_rate=0.05, score=-0.456569 -   0.5s"
     ]
    },
    {
     "name": "stderr",
     "output_type": "stream",
     "text": [
      "[Parallel(n_jobs=1)]: Done   2 jobs       | elapsed:    1.1s\n",
      "[Parallel(n_jobs=1)]: Done   3 jobs       | elapsed:    1.6s\n"
     ]
    },
    {
     "name": "stdout",
     "output_type": "stream",
     "text": [
      "\n",
      "[CV] n_estimators=50, learning_rate=0.05 .............................\n",
      "[CV] ... n_estimators=50, learning_rate=0.05, score=-0.449709 -   0.5s\n",
      "[CV] n_estimators=50, learning_rate=0.05 .............................\n",
      "[CV] ... n_estimators=50, learning_rate=0.05, score=-0.424728 -   0.5s"
     ]
    },
    {
     "name": "stderr",
     "output_type": "stream",
     "text": [
      "[Parallel(n_jobs=1)]: Done   4 jobs       | elapsed:    2.2s\n",
      "[Parallel(n_jobs=1)]: Done   5 jobs       | elapsed:    2.8s\n"
     ]
    },
    {
     "name": "stdout",
     "output_type": "stream",
     "text": [
      "\n",
      "[CV] n_estimators=100, learning_rate=0.05 ............................\n",
      "[CV] .. n_estimators=100, learning_rate=0.05, score=-0.406543 -   1.1s\n",
      "[CV] n_estimators=100, learning_rate=0.05 ............................\n",
      "[CV] .. n_estimators=100, learning_rate=0.05, score=-0.375669 -   1.0s"
     ]
    },
    {
     "name": "stderr",
     "output_type": "stream",
     "text": [
      "[Parallel(n_jobs=1)]: Done   6 jobs       | elapsed:    4.0s\n",
      "[Parallel(n_jobs=1)]: Done   7 jobs       | elapsed:    5.1s\n"
     ]
    },
    {
     "name": "stdout",
     "output_type": "stream",
     "text": [
      "\n",
      "[CV] n_estimators=100, learning_rate=0.05 ............................\n",
      "[CV] .. n_estimators=100, learning_rate=0.05, score=-0.409040 -   1.0s\n",
      "[CV] n_estimators=100, learning_rate=0.05 ............................\n",
      "[CV] .. n_estimators=100, learning_rate=0.05, score=-0.426123 -   1.0s"
     ]
    },
    {
     "name": "stderr",
     "output_type": "stream",
     "text": [
      "[Parallel(n_jobs=1)]: Done   8 jobs       | elapsed:    6.3s\n",
      "[Parallel(n_jobs=1)]: Done   9 jobs       | elapsed:    7.4s\n"
     ]
    },
    {
     "name": "stdout",
     "output_type": "stream",
     "text": [
      "\n",
      "[CV] n_estimators=100, learning_rate=0.05 ............................\n",
      "[CV] .. n_estimators=100, learning_rate=0.05, score=-0.414756 -   1.0s\n",
      "[CV] n_estimators=300, learning_rate=0.05 ............................\n",
      "[CV] .. n_estimators=300, learning_rate=0.05, score=-0.377620 -   3.3s"
     ]
    },
    {
     "name": "stderr",
     "output_type": "stream",
     "text": [
      "[Parallel(n_jobs=1)]: Done  10 jobs       | elapsed:    8.5s\n",
      "[Parallel(n_jobs=1)]: Done  11 jobs       | elapsed:   11.9s\n"
     ]
    },
    {
     "name": "stdout",
     "output_type": "stream",
     "text": [
      "\n",
      "[CV] n_estimators=300, learning_rate=0.05 ............................\n",
      "[CV] .. n_estimators=300, learning_rate=0.05, score=-0.352230 -   3.2s\n",
      "[CV] n_estimators=300, learning_rate=0.05 ............................\n",
      "[CV] .. n_estimators=300, learning_rate=0.05, score=-0.399632 -   3.2s"
     ]
    },
    {
     "name": "stderr",
     "output_type": "stream",
     "text": [
      "[Parallel(n_jobs=1)]: Done  12 jobs       | elapsed:   15.2s\n",
      "[Parallel(n_jobs=1)]: Done  13 jobs       | elapsed:   18.4s\n"
     ]
    },
    {
     "name": "stdout",
     "output_type": "stream",
     "text": [
      "\n",
      "[CV] n_estimators=300, learning_rate=0.05 ............................\n",
      "[CV] .. n_estimators=300, learning_rate=0.05, score=-0.424614 -   3.2s\n",
      "[CV] n_estimators=300, learning_rate=0.05 ............................\n",
      "[CV] .. n_estimators=300, learning_rate=0.05, score=-0.375877 -   3.2s"
     ]
    },
    {
     "name": "stderr",
     "output_type": "stream",
     "text": [
      "[Parallel(n_jobs=1)]: Done  14 jobs       | elapsed:   21.7s\n",
      "[Parallel(n_jobs=1)]: Done  15 jobs       | elapsed:   25.0s\n"
     ]
    },
    {
     "name": "stdout",
     "output_type": "stream",
     "text": [
      "\n",
      "[CV] n_estimators=50, learning_rate=0.1 ..............................\n",
      "[CV] .... n_estimators=50, learning_rate=0.1, score=-0.382458 -   0.5s\n",
      "[CV] n_estimators=50, learning_rate=0.1 ..............................\n",
      "[CV] .... n_estimators=50, learning_rate=0.1, score=-0.402871 -   0.5s"
     ]
    },
    {
     "name": "stderr",
     "output_type": "stream",
     "text": [
      "[Parallel(n_jobs=1)]: Done  16 jobs       | elapsed:   25.6s\n",
      "[Parallel(n_jobs=1)]: Done  17 jobs       | elapsed:   26.1s\n"
     ]
    },
    {
     "name": "stdout",
     "output_type": "stream",
     "text": [
      "\n",
      "[CV] n_estimators=50, learning_rate=0.1 ..............................\n",
      "[CV] .... n_estimators=50, learning_rate=0.1, score=-0.409076 -   0.5s\n",
      "[CV] n_estimators=50, learning_rate=0.1 ..............................\n",
      "[CV] .... n_estimators=50, learning_rate=0.1, score=-0.428920 -   0.4s"
     ]
    },
    {
     "name": "stderr",
     "output_type": "stream",
     "text": [
      "[Parallel(n_jobs=1)]: Done  18 jobs       | elapsed:   26.7s\n",
      "[Parallel(n_jobs=1)]: Done  19 jobs       | elapsed:   27.2s\n"
     ]
    },
    {
     "name": "stdout",
     "output_type": "stream",
     "text": [
      "\n",
      "[CV] n_estimators=50, learning_rate=0.1 ..............................\n",
      "[CV] .... n_estimators=50, learning_rate=0.1, score=-0.404998 -   0.4s\n",
      "[CV] n_estimators=100, learning_rate=0.1 .............................\n",
      "[CV] ... n_estimators=100, learning_rate=0.1, score=-0.361353 -   1.0s"
     ]
    },
    {
     "name": "stderr",
     "output_type": "stream",
     "text": [
      "[Parallel(n_jobs=1)]: Done  20 jobs       | elapsed:   27.8s\n",
      "[Parallel(n_jobs=1)]: Done  21 jobs       | elapsed:   28.9s\n"
     ]
    },
    {
     "name": "stdout",
     "output_type": "stream",
     "text": [
      "\n",
      "[CV] n_estimators=100, learning_rate=0.1 .............................\n",
      "[CV] ... n_estimators=100, learning_rate=0.1, score=-0.359980 -   1.0s\n",
      "[CV] n_estimators=100, learning_rate=0.1 .............................\n",
      "[CV] ... n_estimators=100, learning_rate=0.1, score=-0.380436 -   1.0s"
     ]
    },
    {
     "name": "stderr",
     "output_type": "stream",
     "text": [
      "[Parallel(n_jobs=1)]: Done  22 jobs       | elapsed:   30.0s\n",
      "[Parallel(n_jobs=1)]: Done  23 jobs       | elapsed:   31.1s\n"
     ]
    },
    {
     "name": "stdout",
     "output_type": "stream",
     "text": [
      "\n",
      "[CV] n_estimators=100, learning_rate=0.1 .............................\n",
      "[CV] ... n_estimators=100, learning_rate=0.1, score=-0.409249 -   1.0s\n",
      "[CV] n_estimators=100, learning_rate=0.1 .............................\n",
      "[CV] ... n_estimators=100, learning_rate=0.1, score=-0.373443 -   1.0s"
     ]
    },
    {
     "name": "stderr",
     "output_type": "stream",
     "text": [
      "[Parallel(n_jobs=1)]: Done  24 jobs       | elapsed:   32.2s\n",
      "[Parallel(n_jobs=1)]: Done  25 jobs       | elapsed:   33.3s\n"
     ]
    },
    {
     "name": "stdout",
     "output_type": "stream",
     "text": [
      "\n",
      "[CV] n_estimators=300, learning_rate=0.1 .............................\n",
      "[CV] ... n_estimators=300, learning_rate=0.1, score=-0.388558 -   3.1s\n",
      "[CV] n_estimators=300, learning_rate=0.1 .............................\n",
      "[CV] ... n_estimators=300, learning_rate=0.1, score=-0.354067 -   3.1s"
     ]
    },
    {
     "name": "stderr",
     "output_type": "stream",
     "text": [
      "[Parallel(n_jobs=1)]: Done  26 jobs       | elapsed:   36.5s\n",
      "[Parallel(n_jobs=1)]: Done  27 jobs       | elapsed:   39.7s\n"
     ]
    },
    {
     "name": "stdout",
     "output_type": "stream",
     "text": [
      "\n",
      "[CV] n_estimators=300, learning_rate=0.1 .............................\n",
      "[CV] ... n_estimators=300, learning_rate=0.1, score=-0.386895 -   3.0s\n",
      "[CV] n_estimators=300, learning_rate=0.1 .............................\n",
      "[CV] ... n_estimators=300, learning_rate=0.1, score=-0.423011 -   3.0s"
     ]
    },
    {
     "name": "stderr",
     "output_type": "stream",
     "text": [
      "[Parallel(n_jobs=1)]: Done  28 jobs       | elapsed:   42.8s\n",
      "[Parallel(n_jobs=1)]: Done  29 jobs       | elapsed:   45.9s\n"
     ]
    },
    {
     "name": "stdout",
     "output_type": "stream",
     "text": [
      "\n",
      "[CV] n_estimators=300, learning_rate=0.1 .............................\n",
      "[CV] ... n_estimators=300, learning_rate=0.1, score=-0.366942 -   3.1s\n",
      "[CV] n_estimators=50, learning_rate=0.2 ..............................\n",
      "[CV] .... n_estimators=50, learning_rate=0.2, score=-0.356678 -   0.5s"
     ]
    },
    {
     "name": "stderr",
     "output_type": "stream",
     "text": [
      "[Parallel(n_jobs=1)]: Done  30 jobs       | elapsed:   49.1s\n",
      "[Parallel(n_jobs=1)]: Done  31 jobs       | elapsed:   49.7s\n"
     ]
    },
    {
     "name": "stdout",
     "output_type": "stream",
     "text": [
      "\n",
      "[CV] n_estimators=50, learning_rate=0.2 ..............................\n",
      "[CV] .... n_estimators=50, learning_rate=0.2, score=-0.342993 -   0.5s\n",
      "[CV] n_estimators=50, learning_rate=0.2 ..............................\n",
      "[CV] .... n_estimators=50, learning_rate=0.2, score=-0.388384 -   0.5s"
     ]
    },
    {
     "name": "stderr",
     "output_type": "stream",
     "text": [
      "[Parallel(n_jobs=1)]: Done  32 jobs       | elapsed:   50.3s\n",
      "[Parallel(n_jobs=1)]: Done  33 jobs       | elapsed:   50.9s\n"
     ]
    },
    {
     "name": "stdout",
     "output_type": "stream",
     "text": [
      "\n",
      "[CV] n_estimators=50, learning_rate=0.2 ..............................\n",
      "[CV] .... n_estimators=50, learning_rate=0.2, score=-0.403930 -   0.5s\n",
      "[CV] n_estimators=50, learning_rate=0.2 ..............................\n",
      "[CV] .... n_estimators=50, learning_rate=0.2, score=-0.376585 -   0.5s"
     ]
    },
    {
     "name": "stderr",
     "output_type": "stream",
     "text": [
      "[Parallel(n_jobs=1)]: Done  34 jobs       | elapsed:   51.4s\n",
      "[Parallel(n_jobs=1)]: Done  35 jobs       | elapsed:   52.0s\n"
     ]
    },
    {
     "name": "stdout",
     "output_type": "stream",
     "text": [
      "\n",
      "[CV] n_estimators=100, learning_rate=0.2 .............................\n",
      "[CV] ... n_estimators=100, learning_rate=0.2, score=-0.372622 -   1.0s\n",
      "[CV] n_estimators=100, learning_rate=0.2 .............................\n",
      "[CV] ... n_estimators=100, learning_rate=0.2, score=-0.351039 -   1.0s"
     ]
    },
    {
     "name": "stderr",
     "output_type": "stream",
     "text": [
      "[Parallel(n_jobs=1)]: Done  36 jobs       | elapsed:   53.1s\n",
      "[Parallel(n_jobs=1)]: Done  37 jobs       | elapsed:   54.2s\n"
     ]
    },
    {
     "name": "stdout",
     "output_type": "stream",
     "text": [
      "\n",
      "[CV] n_estimators=100, learning_rate=0.2 .............................\n",
      "[CV] ... n_estimators=100, learning_rate=0.2, score=-0.390996 -   1.0s\n",
      "[CV] n_estimators=100, learning_rate=0.2 .............................\n",
      "[CV] ... n_estimators=100, learning_rate=0.2, score=-0.437301 -   1.0s"
     ]
    },
    {
     "name": "stderr",
     "output_type": "stream",
     "text": [
      "[Parallel(n_jobs=1)]: Done  38 jobs       | elapsed:   55.2s\n",
      "[Parallel(n_jobs=1)]: Done  39 jobs       | elapsed:   56.3s\n"
     ]
    },
    {
     "name": "stdout",
     "output_type": "stream",
     "text": [
      "\n",
      "[CV] n_estimators=100, learning_rate=0.2 .............................\n",
      "[CV] ... n_estimators=100, learning_rate=0.2, score=-0.374064 -   1.0s\n",
      "[CV] n_estimators=300, learning_rate=0.2 .............................\n",
      "[CV] ... n_estimators=300, learning_rate=0.2, score=-0.394521 -   2.2s"
     ]
    },
    {
     "name": "stderr",
     "output_type": "stream",
     "text": [
      "[Parallel(n_jobs=1)]: Done  40 jobs       | elapsed:   57.4s\n",
      "[Parallel(n_jobs=1)]: Done  41 jobs       | elapsed:   59.7s\n"
     ]
    },
    {
     "name": "stdout",
     "output_type": "stream",
     "text": [
      "\n",
      "[CV] n_estimators=300, learning_rate=0.2 .............................\n",
      "[CV] ... n_estimators=300, learning_rate=0.2, score=-0.362971 -   2.9s\n",
      "[CV] n_estimators=300, learning_rate=0.2 .............................\n",
      "[CV] ... n_estimators=300, learning_rate=0.2, score=-0.385754 -   2.0s"
     ]
    },
    {
     "name": "stderr",
     "output_type": "stream",
     "text": [
      "[Parallel(n_jobs=1)]: Done  42 jobs       | elapsed:  1.0min\n",
      "[Parallel(n_jobs=1)]: Done  43 jobs       | elapsed:  1.1min\n"
     ]
    },
    {
     "name": "stdout",
     "output_type": "stream",
     "text": [
      "\n",
      "[CV] n_estimators=300, learning_rate=0.2 .............................\n",
      "[CV] ... n_estimators=300, learning_rate=0.2, score=-0.434295 -   1.6s\n",
      "[CV] n_estimators=300, learning_rate=0.2 .............................\n",
      "[CV] ... n_estimators=300, learning_rate=0.2, score=-0.390120 -   2.3s"
     ]
    },
    {
     "name": "stderr",
     "output_type": "stream",
     "text": [
      "[Parallel(n_jobs=1)]: Done  44 jobs       | elapsed:  1.1min\n",
      "[Parallel(n_jobs=1)]: Done  45 jobs       | elapsed:  1.1min\n"
     ]
    },
    {
     "name": "stdout",
     "output_type": "stream",
     "text": [
      "\n",
      "[CV] n_estimators=50, learning_rate=0.3 ..............................\n",
      "[CV] .... n_estimators=50, learning_rate=0.3, score=-0.386413 -   0.5s\n",
      "[CV] n_estimators=50, learning_rate=0.3 ..............................\n",
      "[CV] .... n_estimators=50, learning_rate=0.3, score=-0.351786 -   0.5s"
     ]
    },
    {
     "name": "stderr",
     "output_type": "stream",
     "text": [
      "[Parallel(n_jobs=1)]: Done  46 jobs       | elapsed:  1.2min\n",
      "[Parallel(n_jobs=1)]: Done  47 jobs       | elapsed:  1.2min\n"
     ]
    },
    {
     "name": "stdout",
     "output_type": "stream",
     "text": [
      "\n",
      "[CV] n_estimators=50, learning_rate=0.3 ..............................\n",
      "[CV] .... n_estimators=50, learning_rate=0.3, score=-0.397573 -   0.5s\n",
      "[CV] n_estimators=50, learning_rate=0.3 ..............................\n",
      "[CV] .... n_estimators=50, learning_rate=0.3, score=-0.429551 -   0.5s"
     ]
    },
    {
     "name": "stderr",
     "output_type": "stream",
     "text": [
      "[Parallel(n_jobs=1)]: Done  48 jobs       | elapsed:  1.2min\n",
      "[Parallel(n_jobs=1)]: Done  49 jobs       | elapsed:  1.2min\n"
     ]
    },
    {
     "name": "stdout",
     "output_type": "stream",
     "text": [
      "\n",
      "[CV] n_estimators=50, learning_rate=0.3 ..............................\n",
      "[CV] .... n_estimators=50, learning_rate=0.3, score=-0.380781 -   0.5s\n",
      "[CV] n_estimators=100, learning_rate=0.3 .............................\n",
      "[CV] ... n_estimators=100, learning_rate=0.3, score=-0.381309 -   0.9s"
     ]
    },
    {
     "name": "stderr",
     "output_type": "stream",
     "text": [
      "[Parallel(n_jobs=1)]: Done  50 jobs       | elapsed:  1.2min\n",
      "[Parallel(n_jobs=1)]: Done  51 jobs       | elapsed:  1.2min\n"
     ]
    },
    {
     "name": "stdout",
     "output_type": "stream",
     "text": [
      "\n",
      "[CV] n_estimators=100, learning_rate=0.3 .............................\n",
      "[CV] ... n_estimators=100, learning_rate=0.3, score=-0.354139 -   1.0s\n",
      "[CV] n_estimators=100, learning_rate=0.3 .............................\n",
      "[CV] ... n_estimators=100, learning_rate=0.3, score=-0.369134 -   1.0s"
     ]
    },
    {
     "name": "stderr",
     "output_type": "stream",
     "text": [
      "[Parallel(n_jobs=1)]: Done  52 jobs       | elapsed:  1.2min\n",
      "[Parallel(n_jobs=1)]: Done  53 jobs       | elapsed:  1.2min\n"
     ]
    },
    {
     "name": "stdout",
     "output_type": "stream",
     "text": [
      "\n",
      "[CV] n_estimators=100, learning_rate=0.3 .............................\n",
      "[CV] ... n_estimators=100, learning_rate=0.3, score=-0.415341 -   0.9s\n",
      "[CV] n_estimators=100, learning_rate=0.3 .............................\n",
      "[CV] ... n_estimators=100, learning_rate=0.3, score=-0.386910 -   0.9s"
     ]
    },
    {
     "name": "stderr",
     "output_type": "stream",
     "text": [
      "[Parallel(n_jobs=1)]: Done  54 jobs       | elapsed:  1.3min\n",
      "[Parallel(n_jobs=1)]: Done  55 jobs       | elapsed:  1.3min\n"
     ]
    },
    {
     "name": "stdout",
     "output_type": "stream",
     "text": [
      "\n",
      "[CV] n_estimators=300, learning_rate=0.3 .............................\n",
      "[CV] ... n_estimators=300, learning_rate=0.3, score=-0.408492 -   1.8s\n",
      "[CV] n_estimators=300, learning_rate=0.3 .............................\n",
      "[CV] ... n_estimators=300, learning_rate=0.3, score=-0.376508 -   2.8s"
     ]
    },
    {
     "name": "stderr",
     "output_type": "stream",
     "text": [
      "[Parallel(n_jobs=1)]: Done  56 jobs       | elapsed:  1.3min\n",
      "[Parallel(n_jobs=1)]: Done  57 jobs       | elapsed:  1.4min\n"
     ]
    },
    {
     "name": "stdout",
     "output_type": "stream",
     "text": [
      "\n",
      "[CV] n_estimators=300, learning_rate=0.3 .............................\n",
      "[CV] ... n_estimators=300, learning_rate=0.3, score=-0.413025 -   2.4s\n",
      "[CV] n_estimators=300, learning_rate=0.3 .............................\n",
      "[CV] ... n_estimators=300, learning_rate=0.3, score=-0.441324 -   1.9s"
     ]
    },
    {
     "name": "stderr",
     "output_type": "stream",
     "text": [
      "[Parallel(n_jobs=1)]: Done  58 jobs       | elapsed:  1.4min\n",
      "[Parallel(n_jobs=1)]: Done  59 jobs       | elapsed:  1.4min\n"
     ]
    },
    {
     "name": "stdout",
     "output_type": "stream",
     "text": [
      "\n",
      "[CV] n_estimators=300, learning_rate=0.3 .............................\n",
      "[CV] ... n_estimators=300, learning_rate=0.3, score=-0.388470 -   2.1s\n"
     ]
    },
    {
     "name": "stderr",
     "output_type": "stream",
     "text": [
      "[Parallel(n_jobs=1)]: Done  60 jobs       | elapsed:  1.5min\n",
      "[Parallel(n_jobs=1)]: Done  60 out of  60 | elapsed:  1.5min finished\n"
     ]
    }
   ],
   "source": [
    "# AdaBoostRegressor casual\n",
    "# -0.487 (+/-0.008) for {'n_estimators': 100, 'learning_rate': 0.2}\n",
    "# -0.490 (+/-0.007) for {'n_estimators': 300, 'loss': 'linear', 'learning_rate': 0.1}\n",
    "# AdaBoostRegressor registered\n",
    "# -0.376 (+/-0.010) for {'n_estimators': 50, 'learning_rate': 0.2}\n",
    "# -0.380 (+/-0.012) for {'n_estimators': 50, 'loss': 'linear', 'learning_rate': 0.2}\n",
    "ada = AdaBoostRegressor()\n",
    "\n",
    "param_grid = {'n_estimators': [50, 100, 300], \\\n",
    "              'learning_rate': [0.05, 0.1, 0.2, 0.3]}\n",
    "\n",
    "grid_search(ada, param_grid)"
   ]
  },
  {
   "cell_type": "code",
   "execution_count": 32,
   "metadata": {
    "collapsed": true
   },
   "outputs": [
    {
     "name": "stdout",
     "output_type": "stream",
     "text": [
      "Fitting 5 folds for each of 6 candidates, totalling 30 fits\n",
      "[CV] max_features=sqrt, n_estimators=300 .............................\n",
      "[CV] ... max_features=sqrt, n_estimators=300, score=-0.241567 -   3.0s\n",
      "[CV] max_features=sqrt, n_estimators=300 .............................\n",
      "[CV] ... max_features=sqrt, n_estimators=300, score=-0.249664 -   2.9s"
     ]
    },
    {
     "name": "stderr",
     "output_type": "stream",
     "text": [
      "[Parallel(n_jobs=1)]: Done   1 jobs       | elapsed:    3.0s\n",
      "[Parallel(n_jobs=1)]: Done   2 jobs       | elapsed:    6.0s\n"
     ]
    },
    {
     "name": "stdout",
     "output_type": "stream",
     "text": [
      "\n",
      "[CV] max_features=sqrt, n_estimators=300 .............................\n",
      "[CV] ... max_features=sqrt, n_estimators=300, score=-0.225183 -   3.0s\n",
      "[CV] max_features=sqrt, n_estimators=300 .............................\n",
      "[CV] ... max_features=sqrt, n_estimators=300, score=-0.230360 -   3.0s"
     ]
    },
    {
     "name": "stderr",
     "output_type": "stream",
     "text": [
      "[Parallel(n_jobs=1)]: Done   3 jobs       | elapsed:    9.1s\n",
      "[Parallel(n_jobs=1)]: Done   4 jobs       | elapsed:   12.2s\n"
     ]
    },
    {
     "name": "stdout",
     "output_type": "stream",
     "text": [
      "\n",
      "[CV] max_features=sqrt, n_estimators=300 .............................\n",
      "[CV] ... max_features=sqrt, n_estimators=300, score=-0.220779 -   2.9s\n",
      "[CV] max_features=sqrt, n_estimators=500 .............................\n",
      "[CV] ... max_features=sqrt, n_estimators=500, score=-0.239414 -   5.0s"
     ]
    },
    {
     "name": "stderr",
     "output_type": "stream",
     "text": [
      "[Parallel(n_jobs=1)]: Done   5 jobs       | elapsed:   15.2s\n",
      "[Parallel(n_jobs=1)]: Done   6 jobs       | elapsed:   20.3s\n"
     ]
    },
    {
     "name": "stdout",
     "output_type": "stream",
     "text": [
      "\n",
      "[CV] max_features=sqrt, n_estimators=500 .............................\n",
      "[CV] ... max_features=sqrt, n_estimators=500, score=-0.249374 -   4.9s\n",
      "[CV] max_features=sqrt, n_estimators=500 .............................\n",
      "[CV] ... max_features=sqrt, n_estimators=500, score=-0.223955 -   4.7s"
     ]
    },
    {
     "name": "stderr",
     "output_type": "stream",
     "text": [
      "[Parallel(n_jobs=1)]: Done   7 jobs       | elapsed:   25.3s\n",
      "[Parallel(n_jobs=1)]: Done   8 jobs       | elapsed:   30.2s\n"
     ]
    },
    {
     "name": "stdout",
     "output_type": "stream",
     "text": [
      "\n",
      "[CV] max_features=sqrt, n_estimators=500 .............................\n",
      "[CV] ... max_features=sqrt, n_estimators=500, score=-0.229111 -   4.7s\n",
      "[CV] max_features=sqrt, n_estimators=500 .............................\n",
      "[CV] ... max_features=sqrt, n_estimators=500, score=-0.219022 -   4.7s"
     ]
    },
    {
     "name": "stderr",
     "output_type": "stream",
     "text": [
      "[Parallel(n_jobs=1)]: Done   9 jobs       | elapsed:   35.0s\n",
      "[Parallel(n_jobs=1)]: Done  10 jobs       | elapsed:   39.8s\n"
     ]
    },
    {
     "name": "stdout",
     "output_type": "stream",
     "text": [
      "\n",
      "[CV] max_features=sqrt, n_estimators=700 .............................\n",
      "[CV] ... max_features=sqrt, n_estimators=700, score=-0.240195 -   6.6s\n",
      "[CV] max_features=sqrt, n_estimators=700 .............................\n",
      "[CV] ... max_features=sqrt, n_estimators=700, score=-0.249490 -   6.6s"
     ]
    },
    {
     "name": "stderr",
     "output_type": "stream",
     "text": [
      "[Parallel(n_jobs=1)]: Done  11 jobs       | elapsed:   46.5s\n",
      "[Parallel(n_jobs=1)]: Done  12 jobs       | elapsed:   53.3s\n"
     ]
    },
    {
     "name": "stdout",
     "output_type": "stream",
     "text": [
      "\n",
      "[CV] max_features=sqrt, n_estimators=700 .............................\n",
      "[CV] ... max_features=sqrt, n_estimators=700, score=-0.224563 -   6.6s\n",
      "[CV] max_features=sqrt, n_estimators=700 .............................\n",
      "[CV] ... max_features=sqrt, n_estimators=700, score=-0.229972 -   6.6s"
     ]
    },
    {
     "name": "stderr",
     "output_type": "stream",
     "text": [
      "[Parallel(n_jobs=1)]: Done  13 jobs       | elapsed:  1.0min\n",
      "[Parallel(n_jobs=1)]: Done  14 jobs       | elapsed:  1.1min\n"
     ]
    },
    {
     "name": "stdout",
     "output_type": "stream",
     "text": [
      "\n",
      "[CV] max_features=sqrt, n_estimators=700 .............................\n",
      "[CV] ... max_features=sqrt, n_estimators=700, score=-0.220251 -   6.6s\n",
      "[CV] max_features=log2, n_estimators=300 .............................\n",
      "[CV] ... max_features=log2, n_estimators=300, score=-0.240198 -   2.8s"
     ]
    },
    {
     "name": "stderr",
     "output_type": "stream",
     "text": [
      "[Parallel(n_jobs=1)]: Done  15 jobs       | elapsed:  1.2min\n",
      "[Parallel(n_jobs=1)]: Done  16 jobs       | elapsed:  1.3min\n"
     ]
    },
    {
     "name": "stdout",
     "output_type": "stream",
     "text": [
      "\n",
      "[CV] max_features=log2, n_estimators=300 .............................\n",
      "[CV] ... max_features=log2, n_estimators=300, score=-0.249766 -   2.8s\n",
      "[CV] max_features=log2, n_estimators=300 .............................\n",
      "[CV] ... max_features=log2, n_estimators=300, score=-0.223511 -   2.8s"
     ]
    },
    {
     "name": "stderr",
     "output_type": "stream",
     "text": [
      "[Parallel(n_jobs=1)]: Done  17 jobs       | elapsed:  1.3min\n",
      "[Parallel(n_jobs=1)]: Done  18 jobs       | elapsed:  1.4min\n"
     ]
    },
    {
     "name": "stdout",
     "output_type": "stream",
     "text": [
      "\n",
      "[CV] max_features=log2, n_estimators=300 .............................\n",
      "[CV] ... max_features=log2, n_estimators=300, score=-0.229396 -   2.8s\n",
      "[CV] max_features=log2, n_estimators=300 .............................\n",
      "[CV] ... max_features=log2, n_estimators=300, score=-0.221819 -   2.8s"
     ]
    },
    {
     "name": "stderr",
     "output_type": "stream",
     "text": [
      "[Parallel(n_jobs=1)]: Done  19 jobs       | elapsed:  1.4min\n",
      "[Parallel(n_jobs=1)]: Done  20 jobs       | elapsed:  1.5min\n"
     ]
    },
    {
     "name": "stdout",
     "output_type": "stream",
     "text": [
      "\n",
      "[CV] max_features=log2, n_estimators=500 .............................\n",
      "[CV] ... max_features=log2, n_estimators=500, score=-0.240270 -   4.7s\n",
      "[CV] max_features=log2, n_estimators=500 .............................\n",
      "[CV] ... max_features=log2, n_estimators=500, score=-0.248791 -   4.7s"
     ]
    },
    {
     "name": "stderr",
     "output_type": "stream",
     "text": [
      "[Parallel(n_jobs=1)]: Done  21 jobs       | elapsed:  1.5min\n",
      "[Parallel(n_jobs=1)]: Done  22 jobs       | elapsed:  1.6min\n"
     ]
    },
    {
     "name": "stdout",
     "output_type": "stream",
     "text": [
      "\n",
      "[CV] max_features=log2, n_estimators=500 .............................\n",
      "[CV] ... max_features=log2, n_estimators=500, score=-0.224510 -   4.7s\n",
      "[CV] max_features=log2, n_estimators=500 .............................\n",
      "[CV] ... max_features=log2, n_estimators=500, score=-0.229079 -   4.7s"
     ]
    },
    {
     "name": "stderr",
     "output_type": "stream",
     "text": [
      "[Parallel(n_jobs=1)]: Done  23 jobs       | elapsed:  1.7min\n",
      "[Parallel(n_jobs=1)]: Done  24 jobs       | elapsed:  1.8min\n"
     ]
    },
    {
     "name": "stdout",
     "output_type": "stream",
     "text": [
      "\n",
      "[CV] max_features=log2, n_estimators=500 .............................\n",
      "[CV] ... max_features=log2, n_estimators=500, score=-0.220289 -   4.7s\n",
      "[CV] max_features=log2, n_estimators=700 .............................\n",
      "[CV] ... max_features=log2, n_estimators=700, score=-0.238574 -   6.6s"
     ]
    },
    {
     "name": "stderr",
     "output_type": "stream",
     "text": [
      "[Parallel(n_jobs=1)]: Done  25 jobs       | elapsed:  1.9min\n",
      "[Parallel(n_jobs=1)]: Done  26 jobs       | elapsed:  2.0min\n"
     ]
    },
    {
     "name": "stdout",
     "output_type": "stream",
     "text": [
      "\n",
      "[CV] max_features=log2, n_estimators=700 .............................\n",
      "[CV] ... max_features=log2, n_estimators=700, score=-0.247348 -   6.6s\n",
      "[CV] max_features=log2, n_estimators=700 .............................\n",
      "[CV] ... max_features=log2, n_estimators=700, score=-0.224986 -   6.7s"
     ]
    },
    {
     "name": "stderr",
     "output_type": "stream",
     "text": [
      "[Parallel(n_jobs=1)]: Done  27 jobs       | elapsed:  2.1min\n",
      "[Parallel(n_jobs=1)]: Done  28 jobs       | elapsed:  2.2min\n"
     ]
    },
    {
     "name": "stdout",
     "output_type": "stream",
     "text": [
      "\n",
      "[CV] max_features=log2, n_estimators=700 .............................\n",
      "[CV] ... max_features=log2, n_estimators=700, score=-0.230613 -   6.6s\n",
      "[CV] max_features=log2, n_estimators=700 .............................\n",
      "[CV] ... max_features=log2, n_estimators=700, score=-0.219355 -   6.6s"
     ]
    },
    {
     "name": "stderr",
     "output_type": "stream",
     "text": [
      "[Parallel(n_jobs=1)]: Done  29 jobs       | elapsed:  2.3min\n",
      "[Parallel(n_jobs=1)]: Done  30 jobs       | elapsed:  2.4min\n"
     ]
    },
    {
     "name": "stdout",
     "output_type": "stream",
     "text": [
      "\n",
      "Fitting 5 folds for each of 6 candidates, totalling 30 fits\n",
      "[CV] max_features=sqrt, n_estimators=300 .............................\n",
      "[CV] ... max_features=sqrt, n_estimators=300, score=-0.089991 -   3.0s"
     ]
    },
    {
     "name": "stderr",
     "output_type": "stream",
     "text": [
      "[Parallel(n_jobs=1)]: Done  30 out of  30 | elapsed:  2.4min finished\n",
      "[Parallel(n_jobs=1)]: Done   1 jobs       | elapsed:    3.0s\n"
     ]
    },
    {
     "name": "stdout",
     "output_type": "stream",
     "text": [
      "\n",
      "[CV] max_features=sqrt, n_estimators=300 .............................\n",
      "[CV] ... max_features=sqrt, n_estimators=300, score=-0.092007 -   3.0s\n",
      "[CV] max_features=sqrt, n_estimators=300 .............................\n",
      "[CV] ... max_features=sqrt, n_estimators=300, score=-0.095477 -   3.0s"
     ]
    },
    {
     "name": "stderr",
     "output_type": "stream",
     "text": [
      "[Parallel(n_jobs=1)]: Done   2 jobs       | elapsed:    6.2s\n",
      "[Parallel(n_jobs=1)]: Done   3 jobs       | elapsed:    9.2s\n"
     ]
    },
    {
     "name": "stdout",
     "output_type": "stream",
     "text": [
      "\n",
      "[CV] max_features=sqrt, n_estimators=300 .............................\n",
      "[CV] ... max_features=sqrt, n_estimators=300, score=-0.100572 -   3.0s\n",
      "[CV] max_features=sqrt, n_estimators=300 .............................\n",
      "[CV] ... max_features=sqrt, n_estimators=300, score=-0.082733 -   3.0s"
     ]
    },
    {
     "name": "stderr",
     "output_type": "stream",
     "text": [
      "[Parallel(n_jobs=1)]: Done   4 jobs       | elapsed:   12.3s\n",
      "[Parallel(n_jobs=1)]: Done   5 jobs       | elapsed:   15.4s\n"
     ]
    },
    {
     "name": "stdout",
     "output_type": "stream",
     "text": [
      "\n",
      "[CV] max_features=sqrt, n_estimators=500 .............................\n",
      "[CV] ... max_features=sqrt, n_estimators=500, score=-0.088858 -   5.0s\n",
      "[CV] max_features=sqrt, n_estimators=500 .............................\n",
      "[CV] ... max_features=sqrt, n_estimators=500, score=-0.091132 -   5.0s"
     ]
    },
    {
     "name": "stderr",
     "output_type": "stream",
     "text": [
      "[Parallel(n_jobs=1)]: Done   6 jobs       | elapsed:   20.5s\n",
      "[Parallel(n_jobs=1)]: Done   7 jobs       | elapsed:   25.7s\n"
     ]
    },
    {
     "name": "stdout",
     "output_type": "stream",
     "text": [
      "\n",
      "[CV] max_features=sqrt, n_estimators=500 .............................\n",
      "[CV] ... max_features=sqrt, n_estimators=500, score=-0.094473 -   5.0s\n",
      "[CV] max_features=sqrt, n_estimators=500 .............................\n",
      "[CV] ... max_features=sqrt, n_estimators=500, score=-0.100425 -   5.0s"
     ]
    },
    {
     "name": "stderr",
     "output_type": "stream",
     "text": [
      "[Parallel(n_jobs=1)]: Done   8 jobs       | elapsed:   30.8s\n",
      "[Parallel(n_jobs=1)]: Done   9 jobs       | elapsed:   36.0s\n"
     ]
    },
    {
     "name": "stdout",
     "output_type": "stream",
     "text": [
      "\n",
      "[CV] max_features=sqrt, n_estimators=500 .............................\n",
      "[CV] ... max_features=sqrt, n_estimators=500, score=-0.081023 -   5.0s\n",
      "[CV] max_features=sqrt, n_estimators=700 .............................\n",
      "[CV] ... max_features=sqrt, n_estimators=700, score=-0.089989 -   7.0s"
     ]
    },
    {
     "name": "stderr",
     "output_type": "stream",
     "text": [
      "[Parallel(n_jobs=1)]: Done  10 jobs       | elapsed:   41.1s\n",
      "[Parallel(n_jobs=1)]: Done  11 jobs       | elapsed:   48.3s\n"
     ]
    },
    {
     "name": "stdout",
     "output_type": "stream",
     "text": [
      "\n",
      "[CV] max_features=sqrt, n_estimators=700 .............................\n",
      "[CV] ... max_features=sqrt, n_estimators=700, score=-0.091405 -   7.1s\n",
      "[CV] max_features=sqrt, n_estimators=700 .............................\n",
      "[CV] ... max_features=sqrt, n_estimators=700, score=-0.095198 -   7.1s"
     ]
    },
    {
     "name": "stderr",
     "output_type": "stream",
     "text": [
      "[Parallel(n_jobs=1)]: Done  12 jobs       | elapsed:   55.5s\n",
      "[Parallel(n_jobs=1)]: Done  13 jobs       | elapsed:  1.0min\n"
     ]
    },
    {
     "name": "stdout",
     "output_type": "stream",
     "text": [
      "\n",
      "[CV] max_features=sqrt, n_estimators=700 .............................\n",
      "[CV] ... max_features=sqrt, n_estimators=700, score=-0.100525 -   7.1s\n",
      "[CV] max_features=sqrt, n_estimators=700 .............................\n",
      "[CV] ... max_features=sqrt, n_estimators=700, score=-0.081008 -   7.0s"
     ]
    },
    {
     "name": "stderr",
     "output_type": "stream",
     "text": [
      "[Parallel(n_jobs=1)]: Done  14 jobs       | elapsed:  1.2min\n",
      "[Parallel(n_jobs=1)]: Done  15 jobs       | elapsed:  1.3min\n"
     ]
    },
    {
     "name": "stdout",
     "output_type": "stream",
     "text": [
      "\n",
      "[CV] max_features=log2, n_estimators=300 .............................\n",
      "[CV] ... max_features=log2, n_estimators=300, score=-0.090044 -   2.9s\n",
      "[CV] max_features=log2, n_estimators=300 .............................\n",
      "[CV] ... max_features=log2, n_estimators=300, score=-0.091520 -   3.0s"
     ]
    },
    {
     "name": "stderr",
     "output_type": "stream",
     "text": [
      "[Parallel(n_jobs=1)]: Done  16 jobs       | elapsed:  1.3min\n",
      "[Parallel(n_jobs=1)]: Done  17 jobs       | elapsed:  1.4min\n"
     ]
    },
    {
     "name": "stdout",
     "output_type": "stream",
     "text": [
      "\n",
      "[CV] max_features=log2, n_estimators=300 .............................\n",
      "[CV] ... max_features=log2, n_estimators=300, score=-0.095582 -   3.0s\n",
      "[CV] max_features=log2, n_estimators=300 .............................\n",
      "[CV] ... max_features=log2, n_estimators=300, score=-0.100579 -   3.0s"
     ]
    },
    {
     "name": "stderr",
     "output_type": "stream",
     "text": [
      "[Parallel(n_jobs=1)]: Done  18 jobs       | elapsed:  1.4min\n",
      "[Parallel(n_jobs=1)]: Done  19 jobs       | elapsed:  1.5min\n"
     ]
    },
    {
     "name": "stdout",
     "output_type": "stream",
     "text": [
      "\n",
      "[CV] max_features=log2, n_estimators=300 .............................\n",
      "[CV] ... max_features=log2, n_estimators=300, score=-0.081873 -   3.0s\n",
      "[CV] max_features=log2, n_estimators=500 .............................\n",
      "[CV] ... max_features=log2, n_estimators=500, score=-0.089701 -   5.1s"
     ]
    },
    {
     "name": "stderr",
     "output_type": "stream",
     "text": [
      "[Parallel(n_jobs=1)]: Done  20 jobs       | elapsed:  1.5min\n",
      "[Parallel(n_jobs=1)]: Done  21 jobs       | elapsed:  1.6min\n"
     ]
    },
    {
     "name": "stdout",
     "output_type": "stream",
     "text": [
      "\n",
      "[CV] max_features=log2, n_estimators=500 .............................\n",
      "[CV] ... max_features=log2, n_estimators=500, score=-0.091484 -   5.0s\n",
      "[CV] max_features=log2, n_estimators=500 .............................\n",
      "[CV] ... max_features=log2, n_estimators=500, score=-0.096180 -   5.1s"
     ]
    },
    {
     "name": "stderr",
     "output_type": "stream",
     "text": [
      "[Parallel(n_jobs=1)]: Done  22 jobs       | elapsed:  1.7min\n",
      "[Parallel(n_jobs=1)]: Done  23 jobs       | elapsed:  1.8min\n"
     ]
    },
    {
     "name": "stdout",
     "output_type": "stream",
     "text": [
      "\n",
      "[CV] max_features=log2, n_estimators=500 .............................\n",
      "[CV] ... max_features=log2, n_estimators=500, score=-0.099817 -   5.1s\n",
      "[CV] max_features=log2, n_estimators=500 .............................\n",
      "[CV] ... max_features=log2, n_estimators=500, score=-0.081525 -   5.0s"
     ]
    },
    {
     "name": "stderr",
     "output_type": "stream",
     "text": [
      "[Parallel(n_jobs=1)]: Done  24 jobs       | elapsed:  1.9min\n",
      "[Parallel(n_jobs=1)]: Done  25 jobs       | elapsed:  2.0min\n"
     ]
    },
    {
     "name": "stdout",
     "output_type": "stream",
     "text": [
      "\n",
      "[CV] max_features=log2, n_estimators=700 .............................\n",
      "[CV] ... max_features=log2, n_estimators=700, score=-0.089663 -   7.1s\n",
      "[CV] max_features=log2, n_estimators=700 .............................\n",
      "[CV] ... max_features=log2, n_estimators=700, score=-0.090249 -   7.1s"
     ]
    },
    {
     "name": "stderr",
     "output_type": "stream",
     "text": [
      "[Parallel(n_jobs=1)]: Done  26 jobs       | elapsed:  2.1min\n",
      "[Parallel(n_jobs=1)]: Done  27 jobs       | elapsed:  2.2min\n"
     ]
    },
    {
     "name": "stdout",
     "output_type": "stream",
     "text": [
      "\n",
      "[CV] max_features=log2, n_estimators=700 .............................\n",
      "[CV] ... max_features=log2, n_estimators=700, score=-0.094458 -   7.0s\n",
      "[CV] max_features=log2, n_estimators=700 .............................\n",
      "[CV] ... max_features=log2, n_estimators=700, score=-0.100242 -   7.0s"
     ]
    },
    {
     "name": "stderr",
     "output_type": "stream",
     "text": [
      "[Parallel(n_jobs=1)]: Done  28 jobs       | elapsed:  2.3min\n",
      "[Parallel(n_jobs=1)]: Done  29 jobs       | elapsed:  2.5min\n"
     ]
    },
    {
     "name": "stdout",
     "output_type": "stream",
     "text": [
      "\n",
      "[CV] max_features=log2, n_estimators=700 .............................\n",
      "[CV] ... max_features=log2, n_estimators=700, score=-0.081816 -   7.0s\n"
     ]
    },
    {
     "name": "stderr",
     "output_type": "stream",
     "text": [
      "[Parallel(n_jobs=1)]: Done  30 jobs       | elapsed:  2.6min\n",
      "[Parallel(n_jobs=1)]: Done  30 out of  30 | elapsed:  2.6min finished\n"
     ]
    }
   ],
   "source": [
    "# RandomForestRegressor casual\n",
    "# -0.231 (+/-0.005) for {'max_features': 'log2', 'n_estimators': 500}\n",
    "# RandomForestRegressor registered\n",
    "# -0.092 (+/-0.003) for {'max_features': 'log2', 'n_estimators': 500}\n",
    "rf = RandomForestRegressor()\n",
    "\n",
    "param_grid = {'n_estimators': [300, 500, 700], \\\n",
    "              'max_features': ['sqrt', 'log2']}\n",
    "\n",
    "grid_search(rf, param_grid)"
   ]
  },
  {
   "cell_type": "code",
   "execution_count": 37,
   "metadata": {
    "collapsed": true
   },
   "outputs": [
    {
     "name": "stdout",
     "output_type": "stream",
     "text": [
      "Fitting 5 folds for each of 6 candidates, totalling 30 fits\n",
      "[CV] epsilon=0.2, C=0.1 ..............................................\n",
      "[CV] .................... epsilon=0.2, C=0.1, score=-1.610236 -   4.8s\n",
      "[CV] epsilon=0.2, C=0.1 ..............................................\n",
      "[CV] .................... epsilon=0.2, C=0.1, score=-1.767376 -   4.7s"
     ]
    },
    {
     "name": "stderr",
     "output_type": "stream",
     "text": [
      "[Parallel(n_jobs=1)]: Done   1 jobs       | elapsed:    4.8s\n",
      "[Parallel(n_jobs=1)]: Done   2 jobs       | elapsed:    9.6s\n"
     ]
    },
    {
     "name": "stdout",
     "output_type": "stream",
     "text": [
      "\n",
      "[CV] epsilon=0.2, C=0.1 ..............................................\n",
      "[CV] .................... epsilon=0.2, C=0.1, score=-1.653245 -   7.4s\n",
      "[CV] epsilon=0.2, C=0.1 ..............................................\n",
      "[CV] .................... epsilon=0.2, C=0.1, score=-1.033324 -   5.1s"
     ]
    },
    {
     "name": "stderr",
     "output_type": "stream",
     "text": [
      "[Parallel(n_jobs=1)]: Done   3 jobs       | elapsed:   17.1s\n",
      "[Parallel(n_jobs=1)]: Done   4 jobs       | elapsed:   22.3s\n"
     ]
    },
    {
     "name": "stdout",
     "output_type": "stream",
     "text": [
      "\n",
      "[CV] epsilon=0.2, C=0.1 ..............................................\n",
      "[CV] .................... epsilon=0.2, C=0.1, score=-1.590473 -   4.9s\n",
      "[CV] epsilon=0.3, C=0.1 ..............................................\n",
      "[CV] .................... epsilon=0.3, C=0.1, score=-2.076252 -   4.9s"
     ]
    },
    {
     "name": "stderr",
     "output_type": "stream",
     "text": [
      "[Parallel(n_jobs=1)]: Done   5 jobs       | elapsed:   27.3s\n",
      "[Parallel(n_jobs=1)]: Done   6 jobs       | elapsed:   32.4s\n"
     ]
    },
    {
     "name": "stdout",
     "output_type": "stream",
     "text": [
      "\n",
      "[CV] epsilon=0.3, C=0.1 ..............................................\n",
      "[CV] .................... epsilon=0.3, C=0.1, score=-1.748666 -   4.7s\n",
      "[CV] epsilon=0.3, C=0.1 ..............................................\n",
      "[CV] .................... epsilon=0.3, C=0.1, score=-1.637994 -   7.2s"
     ]
    },
    {
     "name": "stderr",
     "output_type": "stream",
     "text": [
      "[Parallel(n_jobs=1)]: Done   7 jobs       | elapsed:   37.1s\n",
      "[Parallel(n_jobs=1)]: Done   8 jobs       | elapsed:   44.5s\n"
     ]
    },
    {
     "name": "stdout",
     "output_type": "stream",
     "text": [
      "\n",
      "[CV] epsilon=0.3, C=0.1 ..............................................\n",
      "[CV] .................... epsilon=0.3, C=0.1, score=-1.769951 -   6.9s\n",
      "[CV] epsilon=0.3, C=0.1 ..............................................\n",
      "[CV] .................... epsilon=0.3, C=0.1, score=-1.657568 -   5.0s"
     ]
    },
    {
     "name": "stderr",
     "output_type": "stream",
     "text": [
      "[Parallel(n_jobs=1)]: Done   9 jobs       | elapsed:   51.5s\n",
      "[Parallel(n_jobs=1)]: Done  10 jobs       | elapsed:   56.6s\n"
     ]
    },
    {
     "name": "stdout",
     "output_type": "stream",
     "text": [
      "\n",
      "[CV] epsilon=0.2, C=0.2 ..............................................\n",
      "[CV] .................... epsilon=0.2, C=0.2, score=-5.542217 -   4.9s\n",
      "[CV] epsilon=0.2, C=0.2 ..............................................\n",
      "[CV] .................... epsilon=0.2, C=0.2, score=-5.225891 -   5.6s"
     ]
    },
    {
     "name": "stderr",
     "output_type": "stream",
     "text": [
      "[Parallel(n_jobs=1)]: Done  11 jobs       | elapsed:  1.0min\n",
      "[Parallel(n_jobs=1)]: Done  12 jobs       | elapsed:  1.1min\n"
     ]
    },
    {
     "name": "stdout",
     "output_type": "stream",
     "text": [
      "\n",
      "[CV] epsilon=0.2, C=0.2 ..............................................\n",
      "[CV] .................... epsilon=0.2, C=0.2, score=-6.098182 -   6.5s\n",
      "[CV] epsilon=0.2, C=0.2 ..............................................\n",
      "[CV] .................... epsilon=0.2, C=0.2, score=-3.066893 -   5.8s"
     ]
    },
    {
     "name": "stderr",
     "output_type": "stream",
     "text": [
      "[Parallel(n_jobs=1)]: Done  13 jobs       | elapsed:  1.2min\n",
      "[Parallel(n_jobs=1)]: Done  14 jobs       | elapsed:  1.3min\n"
     ]
    },
    {
     "name": "stdout",
     "output_type": "stream",
     "text": [
      "\n",
      "[CV] epsilon=0.2, C=0.2 ..............................................\n",
      "[CV] .................... epsilon=0.2, C=0.2, score=-3.336510 -   4.8s\n",
      "[CV] epsilon=0.3, C=0.2 ..............................................\n",
      "[CV] .................... epsilon=0.3, C=0.2, score=-1.611206 -   4.6s"
     ]
    },
    {
     "name": "stderr",
     "output_type": "stream",
     "text": [
      "[Parallel(n_jobs=1)]: Done  15 jobs       | elapsed:  1.4min\n",
      "[Parallel(n_jobs=1)]: Done  16 jobs       | elapsed:  1.5min\n"
     ]
    },
    {
     "name": "stdout",
     "output_type": "stream",
     "text": [
      "\n",
      "[CV] epsilon=0.3, C=0.2 ..............................................\n",
      "[CV] .................... epsilon=0.3, C=0.2, score=-2.628181 -   4.6s\n",
      "[CV] epsilon=0.3, C=0.2 ..............................................\n",
      "[CV] .................... epsilon=0.3, C=0.2, score=-5.481250 -   6.2s"
     ]
    },
    {
     "name": "stderr",
     "output_type": "stream",
     "text": [
      "[Parallel(n_jobs=1)]: Done  17 jobs       | elapsed:  1.6min\n",
      "[Parallel(n_jobs=1)]: Done  18 jobs       | elapsed:  1.7min\n"
     ]
    },
    {
     "name": "stdout",
     "output_type": "stream",
     "text": [
      "\n",
      "[CV] epsilon=0.3, C=0.2 ..............................................\n",
      "[CV] .................... epsilon=0.3, C=0.2, score=-2.741552 -   4.6s\n",
      "[CV] epsilon=0.3, C=0.2 ..............................................\n",
      "[CV] .................... epsilon=0.3, C=0.2, score=-3.017880 -   4.9s"
     ]
    },
    {
     "name": "stderr",
     "output_type": "stream",
     "text": [
      "[Parallel(n_jobs=1)]: Done  19 jobs       | elapsed:  1.8min\n",
      "[Parallel(n_jobs=1)]: Done  20 jobs       | elapsed:  1.8min\n"
     ]
    },
    {
     "name": "stdout",
     "output_type": "stream",
     "text": [
      "\n",
      "[CV] epsilon=0.2, C=0.3 ..............................................\n",
      "[CV] .................... epsilon=0.2, C=0.3, score=-3.335429 -   4.7s\n",
      "[CV] epsilon=0.2, C=0.3 ..............................................\n",
      "[CV] ................... epsilon=0.2, C=0.3, score=-10.826813 -   4.8s"
     ]
    },
    {
     "name": "stderr",
     "output_type": "stream",
     "text": [
      "[Parallel(n_jobs=1)]: Done  21 jobs       | elapsed:  1.9min\n",
      "[Parallel(n_jobs=1)]: Done  22 jobs       | elapsed:  2.0min\n"
     ]
    },
    {
     "name": "stdout",
     "output_type": "stream",
     "text": [
      "\n",
      "[CV] epsilon=0.2, C=0.3 ..............................................\n",
      "[CV] .................... epsilon=0.2, C=0.3, score=-3.931952 -   6.5s\n",
      "[CV] epsilon=0.2, C=0.3 ..............................................\n",
      "[CV] .................... epsilon=0.2, C=0.3, score=-5.771926 -   4.5s"
     ]
    },
    {
     "name": "stderr",
     "output_type": "stream",
     "text": [
      "[Parallel(n_jobs=1)]: Done  23 jobs       | elapsed:  2.1min\n",
      "[Parallel(n_jobs=1)]: Done  24 jobs       | elapsed:  2.2min\n"
     ]
    },
    {
     "name": "stdout",
     "output_type": "stream",
     "text": [
      "\n",
      "[CV] epsilon=0.2, C=0.3 ..............................................\n",
      "[CV] .................... epsilon=0.2, C=0.3, score=-6.718074 -   4.9s\n",
      "[CV] epsilon=0.3, C=0.3 ..............................................\n",
      "[CV] .................... epsilon=0.3, C=0.3, score=-2.880308 -   5.0s"
     ]
    },
    {
     "name": "stderr",
     "output_type": "stream",
     "text": [
      "[Parallel(n_jobs=1)]: Done  25 jobs       | elapsed:  2.3min\n",
      "[Parallel(n_jobs=1)]: Done  26 jobs       | elapsed:  2.4min\n"
     ]
    },
    {
     "name": "stdout",
     "output_type": "stream",
     "text": [
      "\n",
      "[CV] epsilon=0.3, C=0.3 ..............................................\n",
      "[CV] .................... epsilon=0.3, C=0.3, score=-5.498909 -   5.6s\n",
      "[CV] epsilon=0.3, C=0.3 ..............................................\n",
      "[CV] .................... epsilon=0.3, C=0.3, score=-5.260030 -   4.9s"
     ]
    },
    {
     "name": "stderr",
     "output_type": "stream",
     "text": [
      "[Parallel(n_jobs=1)]: Done  27 jobs       | elapsed:  2.4min\n",
      "[Parallel(n_jobs=1)]: Done  28 jobs       | elapsed:  2.5min\n"
     ]
    },
    {
     "name": "stdout",
     "output_type": "stream",
     "text": [
      "\n",
      "[CV] epsilon=0.3, C=0.3 ..............................................\n",
      "[CV] .................... epsilon=0.3, C=0.3, score=-5.910420 -   4.5s\n",
      "[CV] epsilon=0.3, C=0.3 ..............................................\n",
      "[CV] .................... epsilon=0.3, C=0.3, score=-7.173710 -   5.0s"
     ]
    },
    {
     "name": "stderr",
     "output_type": "stream",
     "text": [
      "[Parallel(n_jobs=1)]: Done  29 jobs       | elapsed:  2.6min\n",
      "[Parallel(n_jobs=1)]: Done  30 jobs       | elapsed:  2.7min\n"
     ]
    },
    {
     "name": "stdout",
     "output_type": "stream",
     "text": [
      "\n",
      "Fitting 5 folds for each of 6 candidates, totalling 30 fits\n",
      "[CV] epsilon=0.2, C=0.1 ..............................................\n",
      "[CV] .................... epsilon=0.2, C=0.1, score=-1.679682 -   4.7s"
     ]
    },
    {
     "name": "stderr",
     "output_type": "stream",
     "text": [
      "[Parallel(n_jobs=1)]: Done  30 out of  30 | elapsed:  2.7min finished\n",
      "[Parallel(n_jobs=1)]: Done   1 jobs       | elapsed:    4.7s\n"
     ]
    },
    {
     "name": "stdout",
     "output_type": "stream",
     "text": [
      "\n",
      "[CV] epsilon=0.2, C=0.1 ..............................................\n",
      "[CV] .................... epsilon=0.2, C=0.1, score=-0.965042 -   4.6s\n",
      "[CV] epsilon=0.2, C=0.1 ..............................................\n",
      "[CV] .................... epsilon=0.2, C=0.1, score=-1.800949 -   5.3s"
     ]
    },
    {
     "name": "stderr",
     "output_type": "stream",
     "text": [
      "[Parallel(n_jobs=1)]: Done   2 jobs       | elapsed:    9.5s\n",
      "[Parallel(n_jobs=1)]: Done   3 jobs       | elapsed:   14.9s\n"
     ]
    },
    {
     "name": "stdout",
     "output_type": "stream",
     "text": [
      "\n",
      "[CV] epsilon=0.2, C=0.1 ..............................................\n",
      "[CV] .................... epsilon=0.2, C=0.1, score=-1.091001 -   5.0s\n",
      "[CV] epsilon=0.2, C=0.1 ..............................................\n",
      "[CV] .................... epsilon=0.2, C=0.1, score=-1.759850 -   5.1s"
     ]
    },
    {
     "name": "stderr",
     "output_type": "stream",
     "text": [
      "[Parallel(n_jobs=1)]: Done   4 jobs       | elapsed:   20.0s\n",
      "[Parallel(n_jobs=1)]: Done   5 jobs       | elapsed:   25.2s\n"
     ]
    },
    {
     "name": "stdout",
     "output_type": "stream",
     "text": [
      "\n",
      "[CV] epsilon=0.3, C=0.1 ..............................................\n",
      "[CV] .................... epsilon=0.3, C=0.1, score=-1.483414 -   4.8s\n",
      "[CV] epsilon=0.3, C=0.1 ..............................................\n",
      "[CV] .................... epsilon=0.3, C=0.1, score=-1.014828 -   4.8s"
     ]
    },
    {
     "name": "stderr",
     "output_type": "stream",
     "text": [
      "[Parallel(n_jobs=1)]: Done   6 jobs       | elapsed:   30.0s\n",
      "[Parallel(n_jobs=1)]: Done   7 jobs       | elapsed:   34.9s\n"
     ]
    },
    {
     "name": "stdout",
     "output_type": "stream",
     "text": [
      "\n",
      "[CV] epsilon=0.3, C=0.1 ..............................................\n",
      "[CV] .................... epsilon=0.3, C=0.1, score=-1.804031 -   5.0s\n",
      "[CV] epsilon=0.3, C=0.1 ..............................................\n",
      "[CV] .................... epsilon=0.3, C=0.1, score=-1.591691 -   4.5s"
     ]
    },
    {
     "name": "stderr",
     "output_type": "stream",
     "text": [
      "[Parallel(n_jobs=1)]: Done   8 jobs       | elapsed:   40.0s\n",
      "[Parallel(n_jobs=1)]: Done   9 jobs       | elapsed:   44.6s\n"
     ]
    },
    {
     "name": "stdout",
     "output_type": "stream",
     "text": [
      "\n",
      "[CV] epsilon=0.3, C=0.1 ..............................................\n",
      "[CV] .................... epsilon=0.3, C=0.1, score=-1.281391 -   4.6s\n",
      "[CV] epsilon=0.2, C=0.2 ..............................................\n",
      "[CV] .................... epsilon=0.2, C=0.2, score=-4.591968 -   4.9s"
     ]
    },
    {
     "name": "stderr",
     "output_type": "stream",
     "text": [
      "[Parallel(n_jobs=1)]: Done  10 jobs       | elapsed:   49.3s\n",
      "[Parallel(n_jobs=1)]: Done  11 jobs       | elapsed:   54.3s\n"
     ]
    },
    {
     "name": "stdout",
     "output_type": "stream",
     "text": [
      "\n",
      "[CV] epsilon=0.2, C=0.2 ..............................................\n",
      "[CV] .................... epsilon=0.2, C=0.2, score=-5.131189 -   4.7s\n",
      "[CV] epsilon=0.2, C=0.2 ..............................................\n",
      "[CV] .................... epsilon=0.2, C=0.2, score=-5.911893 -   4.7s"
     ]
    },
    {
     "name": "stderr",
     "output_type": "stream",
     "text": [
      "[Parallel(n_jobs=1)]: Done  12 jobs       | elapsed:   59.1s\n",
      "[Parallel(n_jobs=1)]: Done  13 jobs       | elapsed:  1.1min\n"
     ]
    },
    {
     "name": "stdout",
     "output_type": "stream",
     "text": [
      "\n",
      "[CV] epsilon=0.2, C=0.2 ..............................................\n",
      "[CV] .................... epsilon=0.2, C=0.2, score=-2.921386 -   5.2s\n",
      "[CV] epsilon=0.2, C=0.2 ..............................................\n",
      "[CV] .................... epsilon=0.2, C=0.2, score=-5.632405 -   5.2s"
     ]
    },
    {
     "name": "stderr",
     "output_type": "stream",
     "text": [
      "[Parallel(n_jobs=1)]: Done  14 jobs       | elapsed:  1.2min\n",
      "[Parallel(n_jobs=1)]: Done  15 jobs       | elapsed:  1.2min\n"
     ]
    },
    {
     "name": "stdout",
     "output_type": "stream",
     "text": [
      "\n",
      "[CV] epsilon=0.3, C=0.2 ..............................................\n",
      "[CV] .................... epsilon=0.3, C=0.2, score=-4.493208 -   5.5s\n",
      "[CV] epsilon=0.3, C=0.2 ..............................................\n",
      "[CV] .................... epsilon=0.3, C=0.2, score=-5.151680 -   4.7s"
     ]
    },
    {
     "name": "stderr",
     "output_type": "stream",
     "text": [
      "[Parallel(n_jobs=1)]: Done  16 jobs       | elapsed:  1.3min\n",
      "[Parallel(n_jobs=1)]: Done  17 jobs       | elapsed:  1.4min\n"
     ]
    },
    {
     "name": "stdout",
     "output_type": "stream",
     "text": [
      "\n",
      "[CV] epsilon=0.3, C=0.2 ..............................................\n",
      "[CV] .................... epsilon=0.3, C=0.2, score=-6.025889 -   5.0s\n",
      "[CV] epsilon=0.3, C=0.2 ..............................................\n",
      "[CV] .................... epsilon=0.3, C=0.2, score=-5.336505 -   4.3s"
     ]
    },
    {
     "name": "stderr",
     "output_type": "stream",
     "text": [
      "[Parallel(n_jobs=1)]: Done  18 jobs       | elapsed:  1.5min\n",
      "[Parallel(n_jobs=1)]: Done  19 jobs       | elapsed:  1.6min\n"
     ]
    },
    {
     "name": "stdout",
     "output_type": "stream",
     "text": [
      "\n",
      "[CV] epsilon=0.3, C=0.2 ..............................................\n",
      "[CV] .................... epsilon=0.3, C=0.2, score=-5.626155 -   5.0s\n",
      "[CV] epsilon=0.2, C=0.3 ..............................................\n",
      "[CV] ................... epsilon=0.2, C=0.3, score=-10.868978 -   4.6s"
     ]
    },
    {
     "name": "stderr",
     "output_type": "stream",
     "text": [
      "[Parallel(n_jobs=1)]: Done  20 jobs       | elapsed:  1.7min\n",
      "[Parallel(n_jobs=1)]: Done  21 jobs       | elapsed:  1.7min\n"
     ]
    },
    {
     "name": "stdout",
     "output_type": "stream",
     "text": [
      "\n",
      "[CV] epsilon=0.2, C=0.3 ..............................................\n",
      "[CV] ................... epsilon=0.2, C=0.3, score=-10.349576 -   4.8s\n",
      "[CV] epsilon=0.2, C=0.3 ..............................................\n",
      "[CV] ................... epsilon=0.2, C=0.3, score=-12.732390 -   5.4s"
     ]
    },
    {
     "name": "stderr",
     "output_type": "stream",
     "text": [
      "[Parallel(n_jobs=1)]: Done  22 jobs       | elapsed:  1.8min\n",
      "[Parallel(n_jobs=1)]: Done  23 jobs       | elapsed:  1.9min\n"
     ]
    },
    {
     "name": "stdout",
     "output_type": "stream",
     "text": [
      "\n",
      "[CV] epsilon=0.2, C=0.3 ..............................................\n",
      "[CV] .................... epsilon=0.2, C=0.3, score=-5.518989 -   4.6s\n",
      "[CV] epsilon=0.2, C=0.3 ..............................................\n",
      "[CV] ................... epsilon=0.2, C=0.3, score=-11.790695 -   5.1s"
     ]
    },
    {
     "name": "stderr",
     "output_type": "stream",
     "text": [
      "[Parallel(n_jobs=1)]: Done  24 jobs       | elapsed:  2.0min\n",
      "[Parallel(n_jobs=1)]: Done  25 jobs       | elapsed:  2.1min\n"
     ]
    },
    {
     "name": "stdout",
     "output_type": "stream",
     "text": [
      "\n",
      "[CV] epsilon=0.3, C=0.3 ..............................................\n",
      "[CV] ................... epsilon=0.3, C=0.3, score=-10.671675 -   4.7s\n",
      "[CV] epsilon=0.3, C=0.3 ..............................................\n",
      "[CV] ................... epsilon=0.3, C=0.3, score=-10.165667 -   4.9s"
     ]
    },
    {
     "name": "stderr",
     "output_type": "stream",
     "text": [
      "[Parallel(n_jobs=1)]: Done  26 jobs       | elapsed:  2.2min\n",
      "[Parallel(n_jobs=1)]: Done  27 jobs       | elapsed:  2.2min\n"
     ]
    },
    {
     "name": "stdout",
     "output_type": "stream",
     "text": [
      "\n",
      "[CV] epsilon=0.3, C=0.3 ..............................................\n",
      "[CV] ................... epsilon=0.3, C=0.3, score=-12.577310 -   5.3s\n",
      "[CV] epsilon=0.3, C=0.3 ..............................................\n",
      "[CV] .................... epsilon=0.3, C=0.3, score=-6.730797 -   7.3s"
     ]
    },
    {
     "name": "stderr",
     "output_type": "stream",
     "text": [
      "[Parallel(n_jobs=1)]: Done  28 jobs       | elapsed:  2.3min\n",
      "[Parallel(n_jobs=1)]: Done  29 jobs       | elapsed:  2.5min\n"
     ]
    },
    {
     "name": "stdout",
     "output_type": "stream",
     "text": [
      "\n",
      "[CV] epsilon=0.3, C=0.3 ..............................................\n",
      "[CV] ................... epsilon=0.3, C=0.3, score=-11.973865 -   5.1s\n"
     ]
    },
    {
     "name": "stderr",
     "output_type": "stream",
     "text": [
      "[Parallel(n_jobs=1)]: Done  30 jobs       | elapsed:  2.5min\n",
      "[Parallel(n_jobs=1)]: Done  30 out of  30 | elapsed:  2.5min finished\n"
     ]
    }
   ],
   "source": [
    "svr_l = SVR(kernel = 'linear')\n",
    "\n",
    "param_grid = {'C': [0.1, 0.2, 0.3], \\\n",
    "              'epsilon': [0.2, 0.3]}\n",
    "\n",
    "grid_search(svr_l, param_grid)"
   ]
  },
  {
   "cell_type": "code",
   "execution_count": 36,
   "metadata": {
    "collapsed": true
   },
   "outputs": [],
   "source": [
    "def get_pred(model_c, model_r, x_train_c, y_train_c, x_test_c, x_train_r, y_train_r, x_test_r):\n",
    "    model_c_pred = model_c.fit(x_train_c, y_train_c).predict(x_test_c)\n",
    "    model_r_pred = model_r.fit(x_train_r, y_train_r).predict(x_test_r)\n",
    "    return (model_c_pred, model_r_pred)"
   ]
  },
  {
   "cell_type": "code",
   "execution_count": 12,
   "metadata": {
    "collapsed": true
   },
   "outputs": [],
   "source": [
    "def rmsle(pred_count, actual_count):\n",
    "    return round(np.sqrt(np.mean((np.log(pred_count + 1) - np.log(actual_count + 1)) ** 2)), 5) "
   ]
  },
  {
   "cell_type": "code",
   "execution_count": 69,
   "metadata": {
    "collapsed": true
   },
   "outputs": [],
   "source": [
    "def single_model_test(model_c, model_r, file_name):\n",
    "    \n",
    "    model_c_pred, model_r_pred = get_pred(model_c, model_r, x_train_c, y_train_c, x_test_c, x_train_r, y_train_r, x_test_r)\n",
    "    \n",
    "    casual = np.exp(model_c_pred) - 1\n",
    "    registered = np.exp(model_r_pred) - 1\n",
    "    count = casual + registered\n",
    "    df = pd.DataFrame({'count': count, 'casual': casual, 'registered': registered}) \n",
    "    dir_name = 'test/' + 'python_' + file_name + '.csv'\n",
    "    df.to_csv(dir_name, index = False)\n",
    "    \n",
    "    print 'casual rmsle:'\n",
    "    print rmsle(casual, train_new.loc[test_index, 'casual'])\n",
    "    print 'registered rmsle:'\n",
    "    print rmsle(registered, train_new.loc[test_index, 'registered']) \n",
    "    print 'count rmsle:'\n",
    "    print rmsle(count, train_new.loc[test_index, 'count']) "
   ]
  },
  {
   "cell_type": "code",
   "execution_count": 68,
   "metadata": {
    "collapsed": true
   },
   "outputs": [],
   "source": [
    "def single_model_validation(model_c, model_r, file_name): \n",
    "    model_c_pred, model_r_pred = get_pred(model_c, model_r, \\\n",
    "                                      train_new[x_c], train_new['log_casual'], test_new[x_c], \\\n",
    "                                      train_new[x_r], train_new['log_registered'], test_new[x_r])\n",
    "    casual = np.exp(model_c_pred) - 1\n",
    "    registered = np.exp(model_r_pred) - 1\n",
    "    count = casual + registered\n",
    "    df = pd.DataFrame({'count': count, 'casual': casual, 'registered': registered}) \n",
    "    dir_name = 'validation/' + 'python_' + file_name + '.csv'\n",
    "    df.to_csv(dir_name, index = False)"
   ]
  },
  {
   "cell_type": "code",
   "execution_count": 71,
   "metadata": {
    "collapsed": false,
    "scrolled": true
   },
   "outputs": [
    {
     "name": "stdout",
     "output_type": "stream",
     "text": [
      "casual rmsle:\n",
      "0.46601\n",
      "registered rmsle:\n",
      "0.30354\n",
      "count rmsle:\n",
      "0.29997\n"
     ]
    }
   ],
   "source": [
    "# etree 0.3 0.43\n",
    "model_c = ExtraTreesRegressor(n_estimators = 500, max_features='log2')\n",
    "model_r = ExtraTreesRegressor(n_estimators = 500, max_features='log2')\n",
    "# test dataset\n",
    "single_model_test(model_c, model_r, 'etree')\n",
    "# validation dataset\n",
    "single_model_validation(model_c, model_r, 'etree')"
   ]
  },
  {
   "cell_type": "code",
   "execution_count": 72,
   "metadata": {
    "collapsed": false
   },
   "outputs": [
    {
     "name": "stdout",
     "output_type": "stream",
     "text": [
      "casual rmsle:\n",
      "0.69835\n",
      "registered rmsle:\n",
      "0.61753\n",
      "count rmsle:\n",
      "0.61399\n"
     ]
    }
   ],
   "source": [
    "# ada 0.6 0.69\n",
    "model_c = AdaBoostRegressor(n_estimators = 100, learning_rate = 0.2)\n",
    "model_r = AdaBoostRegressor(n_estimators = 50, learning_rate = 0.2)\n",
    "# test dataset\n",
    "single_model_test(model_c, model_r, 'ada')\n",
    "# validation dataset\n",
    "single_model_validation(model_c, model_r, 'ada')"
   ]
  },
  {
   "cell_type": "code",
   "execution_count": 73,
   "metadata": {
    "collapsed": false
   },
   "outputs": [
    {
     "name": "stdout",
     "output_type": "stream",
     "text": [
      "casual rmsle:\n",
      "0.46301\n",
      "registered rmsle:\n",
      "0.30158\n",
      "count rmsle:\n",
      "0.29902\n"
     ]
    }
   ],
   "source": [
    "# rf 0.29 0.42\n",
    "model_c = RandomForestRegressor(n_estimators = 700, max_features='log2')\n",
    "model_r = RandomForestRegressor(n_estimators = 700, max_features='log2')\n",
    "# test dataset\n",
    "single_model_test(model_c, model_r, 'rf')\n",
    "# validation dataset\n",
    "single_model_validation(model_c, model_r, 'rf')"
   ]
  },
  {
   "cell_type": "code",
   "execution_count": 74,
   "metadata": {
    "collapsed": false
   },
   "outputs": [
    {
     "name": "stdout",
     "output_type": "stream",
     "text": [
      "casual rmsle:\n",
      "0.72718\n",
      "registered rmsle:\n",
      "0.70758\n",
      "count rmsle:\n",
      "0.69402\n"
     ]
    }
   ],
   "source": [
    "# svr 0.78 0.89\n",
    "model_c = SVR(kernel = 'linear', C = 0.01, epsilon = 0.2)\n",
    "model_r = SVR(kernel = 'linear', C = 0.01, epsilon = 0.3)\n",
    "# test dataset\n",
    "single_model_test(model_c, model_r, 'svr')\n",
    "# validation dataset\n",
    "single_model_validation(model_c, model_r, 'svr')"
   ]
  },
  {
   "cell_type": "markdown",
   "metadata": {},
   "source": [
    "#### 3.2 the performance of simple ensemble"
   ]
  },
  {
   "cell_type": "code",
   "execution_count": 38,
   "metadata": {
    "collapsed": true
   },
   "outputs": [],
   "source": [
    "def get_file(method, file_name):\n",
    "    df1 = pd.DataFrame() \n",
    "    for i in method:\n",
    "        file_n = file_name + '/' + i + '.csv'\n",
    "        df2 = pd.read_csv(file_n)\n",
    "        df2.columns = file_name + '_' + i + '_' + df2.columns.values\n",
    "        df1 = pd.concat([df1, df2], axis = 1)\n",
    "    return df1"
   ]
  },
  {
   "cell_type": "code",
   "execution_count": 40,
   "metadata": {
    "collapsed": true
   },
   "outputs": [],
   "source": [
    "method = ['python_ada', 'python_etree', 'python_rf', 'python_svr']"
   ]
  },
  {
   "cell_type": "code",
   "execution_count": 41,
   "metadata": {
    "collapsed": false
   },
   "outputs": [],
   "source": [
    "df_t = get_file(method, 'test')"
   ]
  },
  {
   "cell_type": "code",
   "execution_count": 84,
   "metadata": {
    "collapsed": false
   },
   "outputs": [
    {
     "data": {
      "text/html": [
       "<div style=\"max-height:1000px;max-width:1500px;overflow:auto;\">\n",
       "<table border=\"1\" class=\"dataframe\">\n",
       "  <thead>\n",
       "    <tr style=\"text-align: right;\">\n",
       "      <th></th>\n",
       "      <th>test_python_ada_casual</th>\n",
       "      <th>test_python_ada_count</th>\n",
       "      <th>test_python_ada_registered</th>\n",
       "      <th>test_python_etree_casual</th>\n",
       "      <th>test_python_etree_count</th>\n",
       "      <th>test_python_etree_registered</th>\n",
       "      <th>test_python_rf_casual</th>\n",
       "      <th>test_python_rf_count</th>\n",
       "      <th>test_python_rf_registered</th>\n",
       "      <th>test_python_svr_casual</th>\n",
       "      <th>test_python_svr_count</th>\n",
       "      <th>test_python_svr_registered</th>\n",
       "    </tr>\n",
       "  </thead>\n",
       "  <tbody>\n",
       "    <tr>\n",
       "      <th>0</th>\n",
       "      <td> 18.044293</td>\n",
       "      <td> 120.937032</td>\n",
       "      <td> 102.892740</td>\n",
       "      <td> 30.835246</td>\n",
       "      <td> 251.964879</td>\n",
       "      <td> 221.129633</td>\n",
       "      <td> 29.965220</td>\n",
       "      <td> 243.823204</td>\n",
       "      <td> 213.857984</td>\n",
       "      <td> 22.363279</td>\n",
       "      <td> 164.354626</td>\n",
       "      <td> 141.991346</td>\n",
       "    </tr>\n",
       "    <tr>\n",
       "      <th>1</th>\n",
       "      <td> 40.692450</td>\n",
       "      <td> 188.868883</td>\n",
       "      <td> 148.176433</td>\n",
       "      <td> 39.019850</td>\n",
       "      <td> 258.476507</td>\n",
       "      <td> 219.456656</td>\n",
       "      <td> 34.910840</td>\n",
       "      <td> 224.555372</td>\n",
       "      <td> 189.644532</td>\n",
       "      <td> 25.046906</td>\n",
       "      <td> 208.653082</td>\n",
       "      <td> 183.606176</td>\n",
       "    </tr>\n",
       "    <tr>\n",
       "      <th>2</th>\n",
       "      <td> 32.536544</td>\n",
       "      <td> 173.555958</td>\n",
       "      <td> 141.019414</td>\n",
       "      <td> 22.604125</td>\n",
       "      <td> 233.800543</td>\n",
       "      <td> 211.196418</td>\n",
       "      <td> 20.290719</td>\n",
       "      <td> 230.681014</td>\n",
       "      <td> 210.390295</td>\n",
       "      <td> 21.505515</td>\n",
       "      <td> 176.718866</td>\n",
       "      <td> 155.213351</td>\n",
       "    </tr>\n",
       "    <tr>\n",
       "      <th>3</th>\n",
       "      <td> 50.453366</td>\n",
       "      <td> 416.008033</td>\n",
       "      <td> 365.554666</td>\n",
       "      <td> 82.250680</td>\n",
       "      <td> 549.318179</td>\n",
       "      <td> 467.067499</td>\n",
       "      <td> 88.343449</td>\n",
       "      <td> 546.366980</td>\n",
       "      <td> 458.023531</td>\n",
       "      <td> 63.610035</td>\n",
       "      <td> 801.369389</td>\n",
       "      <td> 737.759353</td>\n",
       "    </tr>\n",
       "    <tr>\n",
       "      <th>4</th>\n",
       "      <td> 31.381752</td>\n",
       "      <td> 271.513481</td>\n",
       "      <td> 240.131729</td>\n",
       "      <td> 16.369690</td>\n",
       "      <td> 360.832528</td>\n",
       "      <td> 344.462838</td>\n",
       "      <td> 17.948519</td>\n",
       "      <td> 362.371732</td>\n",
       "      <td> 344.423212</td>\n",
       "      <td> 30.293520</td>\n",
       "      <td> 479.278508</td>\n",
       "      <td> 448.984988</td>\n",
       "    </tr>\n",
       "  </tbody>\n",
       "</table>\n",
       "</div>"
      ],
      "text/plain": [
       "   test_python_ada_casual  test_python_ada_count  test_python_ada_registered  \\\n",
       "0               18.044293             120.937032                  102.892740   \n",
       "1               40.692450             188.868883                  148.176433   \n",
       "2               32.536544             173.555958                  141.019414   \n",
       "3               50.453366             416.008033                  365.554666   \n",
       "4               31.381752             271.513481                  240.131729   \n",
       "\n",
       "   test_python_etree_casual  test_python_etree_count  \\\n",
       "0                 30.835246               251.964879   \n",
       "1                 39.019850               258.476507   \n",
       "2                 22.604125               233.800543   \n",
       "3                 82.250680               549.318179   \n",
       "4                 16.369690               360.832528   \n",
       "\n",
       "   test_python_etree_registered  test_python_rf_casual  test_python_rf_count  \\\n",
       "0                    221.129633              29.965220            243.823204   \n",
       "1                    219.456656              34.910840            224.555372   \n",
       "2                    211.196418              20.290719            230.681014   \n",
       "3                    467.067499              88.343449            546.366980   \n",
       "4                    344.462838              17.948519            362.371732   \n",
       "\n",
       "   test_python_rf_registered  test_python_svr_casual  test_python_svr_count  \\\n",
       "0                 213.857984               22.363279             164.354626   \n",
       "1                 189.644532               25.046906             208.653082   \n",
       "2                 210.390295               21.505515             176.718866   \n",
       "3                 458.023531               63.610035             801.369389   \n",
       "4                 344.423212               30.293520             479.278508   \n",
       "\n",
       "   test_python_svr_registered  \n",
       "0                  141.991346  \n",
       "1                  183.606176  \n",
       "2                  155.213351  \n",
       "3                  737.759353  \n",
       "4                  448.984988  "
      ]
     },
     "execution_count": 84,
     "metadata": {},
     "output_type": "execute_result"
    }
   ],
   "source": [
    "df_t.head()"
   ]
  },
  {
   "cell_type": "code",
   "execution_count": 87,
   "metadata": {
    "collapsed": false
   },
   "outputs": [
    {
     "data": {
      "text/plain": [
       "array([[ 1.        ,  0.88557477,  0.8937193 ,  0.82311731],\n",
       "       [ 0.88557477,  1.        ,  0.99733153,  0.83202309],\n",
       "       [ 0.8937193 ,  0.99733153,  1.        ,  0.8387068 ],\n",
       "       [ 0.82311731,  0.83202309,  0.8387068 ,  1.        ]])"
      ]
     },
     "execution_count": 87,
     "metadata": {},
     "output_type": "execute_result"
    }
   ],
   "source": [
    "# correlationship between methods\n",
    "np.corrcoef(df_t[['test_python_ada_casual', 'test_python_etree_casual', 'test_python_rf_casual', 'test_python_svr_casual']], \\\n",
    "            rowvar=0)"
   ]
  },
  {
   "cell_type": "code",
   "execution_count": 98,
   "metadata": {
    "collapsed": false
   },
   "outputs": [
    {
     "data": {
      "text/plain": [
       "0.5366"
      ]
     },
     "execution_count": 98,
     "metadata": {},
     "output_type": "execute_result"
    }
   ],
   "source": [
    "# get mean \n",
    "casual = df_t[['test_python_ada_casual', 'test_python_etree_casual', 'test_python_rf_casual', 'test_python_svr_casual']].mean(axis = 1)\n",
    "rmsle(casual, train_new.loc[test_index, 'casual'].reset_index().casual)"
   ]
  },
  {
   "cell_type": "code",
   "execution_count": 99,
   "metadata": {
    "collapsed": false
   },
   "outputs": [
    {
     "data": {
      "text/plain": [
       "0.49725"
      ]
     },
     "execution_count": 99,
     "metadata": {},
     "output_type": "execute_result"
    }
   ],
   "source": [
    "casual = df_t[['test_python_ada_casual', 'test_python_etree_casual', 'test_python_rf_casual']].mean(axis = 1)\n",
    "rmsle(casual, train_new.loc[test_index, 'casual'].reset_index().casual)"
   ]
  },
  {
   "cell_type": "code",
   "execution_count": 101,
   "metadata": {
    "collapsed": false
   },
   "outputs": [
    {
     "data": {
      "text/plain": [
       "0.46601"
      ]
     },
     "execution_count": 101,
     "metadata": {},
     "output_type": "execute_result"
    }
   ],
   "source": [
    "casual = df_t[['test_python_etree_casual']].mean(axis = 1)\n",
    "rmsle(casual, train_new.loc[test_index, 'casual'].reset_index().casual)"
   ]
  },
  {
   "cell_type": "code",
   "execution_count": 102,
   "metadata": {
    "collapsed": false
   },
   "outputs": [
    {
     "data": {
      "text/plain": [
       "0.46301"
      ]
     },
     "execution_count": 102,
     "metadata": {},
     "output_type": "execute_result"
    }
   ],
   "source": [
    "casual = df_t[['test_python_rf_casual']].mean(axis = 1)\n",
    "rmsle(casual, train_new.loc[test_index, 'casual'].reset_index().casual)"
   ]
  },
  {
   "cell_type": "code",
   "execution_count": 112,
   "metadata": {
    "collapsed": false
   },
   "outputs": [
    {
     "data": {
      "text/plain": [
       "0.46193"
      ]
     },
     "execution_count": 112,
     "metadata": {},
     "output_type": "execute_result"
    }
   ],
   "source": [
    "# the mean of etree and rf is better than anyone\n",
    "casual = df_t[['test_python_etree_casual', 'test_python_rf_casual']].mean(axis = 1)\n",
    "rmsle(casual, train_new.loc[test_index, 'casual'].reset_index().casual)"
   ]
  },
  {
   "cell_type": "markdown",
   "metadata": {},
   "source": [
    "- To casual users, the mean of etree and rf is better than anyone.\n",
    "\n",
    "| |mean of etree rf ada svr|mean of etree rf ada|etree|rf|mean of etree rf|\n",
    "|-|:----------------------:|:------------------:|:---:|:-:|:--------------:|\n",
    "|**casual**|0.**536**6|0.**497**25|0.**466**01|0.**463**01|0.**461**93|"
   ]
  },
  {
   "cell_type": "code",
   "execution_count": 104,
   "metadata": {
    "collapsed": false
   },
   "outputs": [
    {
     "data": {
      "text/plain": [
       "0.36823"
      ]
     },
     "execution_count": 104,
     "metadata": {},
     "output_type": "execute_result"
    }
   ],
   "source": [
    "registered = df_t[['test_python_ada_registered', 'test_python_etree_registered', 'test_python_rf_registered']].mean(axis = 1)\n",
    "rmsle(registered, train_new.loc[test_index, 'registered'].reset_index().registered)"
   ]
  },
  {
   "cell_type": "code",
   "execution_count": 106,
   "metadata": {
    "collapsed": false
   },
   "outputs": [
    {
     "data": {
      "text/plain": [
       "0.30354"
      ]
     },
     "execution_count": 106,
     "metadata": {},
     "output_type": "execute_result"
    }
   ],
   "source": [
    "registered = df_t[['test_python_etree_registered']].mean(axis = 1)\n",
    "rmsle(registered, train_new.loc[test_index, 'registered'].reset_index().registered)"
   ]
  },
  {
   "cell_type": "code",
   "execution_count": 107,
   "metadata": {
    "collapsed": false
   },
   "outputs": [
    {
     "data": {
      "text/plain": [
       "0.30158"
      ]
     },
     "execution_count": 107,
     "metadata": {},
     "output_type": "execute_result"
    }
   ],
   "source": [
    "registered = df_t[['test_python_rf_registered']].mean(axis = 1)\n",
    "rmsle(registered, train_new.loc[test_index, 'registered'].reset_index().registered)"
   ]
  },
  {
   "cell_type": "code",
   "execution_count": 113,
   "metadata": {
    "collapsed": false
   },
   "outputs": [
    {
     "data": {
      "text/plain": [
       "0.30002"
      ]
     },
     "execution_count": 113,
     "metadata": {},
     "output_type": "execute_result"
    }
   ],
   "source": [
    "# the mean of etree and rf is better than anyone\n",
    "registered = df_t[['test_python_etree_registered', 'test_python_rf_registered']].mean(axis = 1)\n",
    "rmsle(registered, train_new.loc[test_index, 'registered'].reset_index().registered)"
   ]
  },
  {
   "cell_type": "code",
   "execution_count": 42,
   "metadata": {
    "collapsed": false
   },
   "outputs": [
    {
     "data": {
      "text/plain": [
       "0.70758"
      ]
     },
     "execution_count": 42,
     "metadata": {},
     "output_type": "execute_result"
    }
   ],
   "source": [
    "registered = df_t[['test_python_svr_registered']].mean(axis = 1)\n",
    "rmsle(registered, train_new.loc[test_index, 'registered'].reset_index().registered)"
   ]
  },
  {
   "cell_type": "markdown",
   "metadata": {},
   "source": [
    "- To registered users, the mean of etree and rf is better than anyone.\n",
    "\n",
    "| |mean of etree rf ada|etree| rf |mean of etree rf|\n",
    "|-|:------------------:|:---:|:--:|:------------:|\n",
    "|**registered**|0.**368**23|0.**303**54|0.**301**58|0.**300**02|"
   ]
  },
  {
   "cell_type": "code",
   "execution_count": 110,
   "metadata": {
    "collapsed": false
   },
   "outputs": [
    {
     "data": {
      "text/plain": [
       "0.29997"
      ]
     },
     "execution_count": 110,
     "metadata": {},
     "output_type": "execute_result"
    }
   ],
   "source": [
    "count = df_t[['test_python_etree_count']].mean(axis = 1)\n",
    "rmsle(count, train_new.loc[test_index, 'count'].reset_index()['count'])"
   ]
  },
  {
   "cell_type": "code",
   "execution_count": 111,
   "metadata": {
    "collapsed": false
   },
   "outputs": [
    {
     "data": {
      "text/plain": [
       "0.29902"
      ]
     },
     "execution_count": 111,
     "metadata": {},
     "output_type": "execute_result"
    }
   ],
   "source": [
    "count = df_t[['test_python_rf_count']].mean(axis = 1)\n",
    "rmsle(count, train_new.loc[test_index, 'count'].reset_index()['count'])"
   ]
  },
  {
   "cell_type": "code",
   "execution_count": 109,
   "metadata": {
    "collapsed": false
   },
   "outputs": [
    {
     "data": {
      "text/plain": [
       "0.29706"
      ]
     },
     "execution_count": 109,
     "metadata": {},
     "output_type": "execute_result"
    }
   ],
   "source": [
    "# the mean of etree and rf is better than anyone\n",
    "count = df_t[['test_python_etree_count', 'test_python_rf_count']].mean(axis = 1)\n",
    "rmsle(count, train_new.loc[test_index, 'count'].reset_index()['count'])"
   ]
  },
  {
   "cell_type": "markdown",
   "metadata": {},
   "source": [
    "- To count, the mean of etree and rf is better than anyone.\n",
    "\n",
    "| |etree|rf|mean of etree rf|\n",
    "|-|:---:|:-:|:--------------:|\n",
    "|**count**|0.**299**97|0.**299**02|0.**297**06|"
   ]
  },
  {
   "cell_type": "code",
   "execution_count": 127,
   "metadata": {
    "collapsed": false
   },
   "outputs": [
    {
     "data": {
      "text/plain": [
       "0.29719"
      ]
     },
     "execution_count": 127,
     "metadata": {},
     "output_type": "execute_result"
    }
   ],
   "source": [
    "# get weight average \n",
    "count = np.average(df_t[['test_python_ada_count', 'test_python_etree_count', 'test_python_rf_count']], \\\n",
    "                   axis = 1, weights = [1, 400, 400])\n",
    "rmsle(count, train_new.loc[test_index, 'count'].reset_index()['count'])"
   ]
  },
  {
   "cell_type": "code",
   "execution_count": 14,
   "metadata": {
    "collapsed": false
   },
   "outputs": [],
   "source": [
    "df_v = get_file(method, 'validation')"
   ]
  },
  {
   "cell_type": "code",
   "execution_count": 15,
   "metadata": {
    "collapsed": false
   },
   "outputs": [
    {
     "data": {
      "text/html": [
       "<div style=\"max-height:1000px;max-width:1500px;overflow:auto;\">\n",
       "<table border=\"1\" class=\"dataframe\">\n",
       "  <thead>\n",
       "    <tr style=\"text-align: right;\">\n",
       "      <th></th>\n",
       "      <th>validation_python_ada_casual</th>\n",
       "      <th>validation_python_ada_count</th>\n",
       "      <th>validation_python_ada_registered</th>\n",
       "      <th>validation_python_etree_casual</th>\n",
       "      <th>validation_python_etree_count</th>\n",
       "      <th>validation_python_etree_registered</th>\n",
       "      <th>validation_python_rf_casual</th>\n",
       "      <th>validation_python_rf_count</th>\n",
       "      <th>validation_python_rf_registered</th>\n",
       "      <th>validation_python_svr_casual</th>\n",
       "      <th>validation_python_svr_count</th>\n",
       "      <th>validation_python_svr_registered</th>\n",
       "    </tr>\n",
       "  </thead>\n",
       "  <tbody>\n",
       "    <tr>\n",
       "      <th>0</th>\n",
       "      <td> 1.646999</td>\n",
       "      <td> 9.310434</td>\n",
       "      <td> 7.663436</td>\n",
       "      <td> 0.795980</td>\n",
       "      <td> 9.222792</td>\n",
       "      <td> 8.426812</td>\n",
       "      <td> 0.947495</td>\n",
       "      <td> 9.362391</td>\n",
       "      <td> 8.414896</td>\n",
       "      <td> 0.000067</td>\n",
       "      <td> 6.031021</td>\n",
       "      <td> 6.030954</td>\n",
       "    </tr>\n",
       "    <tr>\n",
       "      <th>1</th>\n",
       "      <td> 1.542942</td>\n",
       "      <td> 8.619620</td>\n",
       "      <td> 7.076678</td>\n",
       "      <td> 0.348914</td>\n",
       "      <td> 4.852138</td>\n",
       "      <td> 4.503224</td>\n",
       "      <td> 0.515072</td>\n",
       "      <td> 5.198991</td>\n",
       "      <td> 4.683920</td>\n",
       "      <td> 0.239844</td>\n",
       "      <td> 6.860225</td>\n",
       "      <td> 6.620381</td>\n",
       "    </tr>\n",
       "    <tr>\n",
       "      <th>2</th>\n",
       "      <td> 1.412425</td>\n",
       "      <td> 6.471536</td>\n",
       "      <td> 5.059111</td>\n",
       "      <td> 0.419036</td>\n",
       "      <td> 2.799393</td>\n",
       "      <td> 2.380357</td>\n",
       "      <td> 0.666503</td>\n",
       "      <td> 3.101975</td>\n",
       "      <td> 2.435472</td>\n",
       "      <td> 0.299639</td>\n",
       "      <td> 7.077659</td>\n",
       "      <td> 6.778019</td>\n",
       "    </tr>\n",
       "    <tr>\n",
       "      <th>3</th>\n",
       "      <td> 1.314668</td>\n",
       "      <td> 6.218266</td>\n",
       "      <td> 4.903597</td>\n",
       "      <td> 0.488847</td>\n",
       "      <td> 2.419310</td>\n",
       "      <td> 1.930463</td>\n",
       "      <td> 0.538290</td>\n",
       "      <td> 2.451748</td>\n",
       "      <td> 1.913458</td>\n",
       "      <td> 0.277599</td>\n",
       "      <td> 7.011470</td>\n",
       "      <td> 6.733871</td>\n",
       "    </tr>\n",
       "    <tr>\n",
       "      <th>4</th>\n",
       "      <td> 1.314668</td>\n",
       "      <td> 6.218266</td>\n",
       "      <td> 4.903597</td>\n",
       "      <td> 0.321512</td>\n",
       "      <td> 2.459805</td>\n",
       "      <td> 2.138293</td>\n",
       "      <td> 0.351852</td>\n",
       "      <td> 2.283956</td>\n",
       "      <td> 1.932105</td>\n",
       "      <td> 0.339216</td>\n",
       "      <td> 7.233072</td>\n",
       "      <td> 6.893856</td>\n",
       "    </tr>\n",
       "  </tbody>\n",
       "</table>\n",
       "</div>"
      ],
      "text/plain": [
       "   validation_python_ada_casual  validation_python_ada_count  \\\n",
       "0                      1.646999                     9.310434   \n",
       "1                      1.542942                     8.619620   \n",
       "2                      1.412425                     6.471536   \n",
       "3                      1.314668                     6.218266   \n",
       "4                      1.314668                     6.218266   \n",
       "\n",
       "   validation_python_ada_registered  validation_python_etree_casual  \\\n",
       "0                          7.663436                        0.795980   \n",
       "1                          7.076678                        0.348914   \n",
       "2                          5.059111                        0.419036   \n",
       "3                          4.903597                        0.488847   \n",
       "4                          4.903597                        0.321512   \n",
       "\n",
       "   validation_python_etree_count  validation_python_etree_registered  \\\n",
       "0                       9.222792                            8.426812   \n",
       "1                       4.852138                            4.503224   \n",
       "2                       2.799393                            2.380357   \n",
       "3                       2.419310                            1.930463   \n",
       "4                       2.459805                            2.138293   \n",
       "\n",
       "   validation_python_rf_casual  validation_python_rf_count  \\\n",
       "0                     0.947495                    9.362391   \n",
       "1                     0.515072                    5.198991   \n",
       "2                     0.666503                    3.101975   \n",
       "3                     0.538290                    2.451748   \n",
       "4                     0.351852                    2.283956   \n",
       "\n",
       "   validation_python_rf_registered  validation_python_svr_casual  \\\n",
       "0                         8.414896                      0.000067   \n",
       "1                         4.683920                      0.239844   \n",
       "2                         2.435472                      0.299639   \n",
       "3                         1.913458                      0.277599   \n",
       "4                         1.932105                      0.339216   \n",
       "\n",
       "   validation_python_svr_count  validation_python_svr_registered  \n",
       "0                     6.031021                          6.030954  \n",
       "1                     6.860225                          6.620381  \n",
       "2                     7.077659                          6.778019  \n",
       "3                     7.011470                          6.733871  \n",
       "4                     7.233072                          6.893856  "
      ]
     },
     "execution_count": 15,
     "metadata": {},
     "output_type": "execute_result"
    }
   ],
   "source": [
    "df_v.head()"
   ]
  },
  {
   "cell_type": "code",
   "execution_count": 16,
   "metadata": {
    "collapsed": false
   },
   "outputs": [
    {
     "data": {
      "text/plain": [
       "array([[ 1.        ,  0.90120355,  0.90768658,  0.79720309],\n",
       "       [ 0.90120355,  1.        ,  0.99512991,  0.81041801],\n",
       "       [ 0.90768658,  0.99512991,  1.        ,  0.81662433],\n",
       "       [ 0.79720309,  0.81041801,  0.81662433,  1.        ]])"
      ]
     },
     "execution_count": 16,
     "metadata": {},
     "output_type": "execute_result"
    }
   ],
   "source": [
    "# correlationship between methods\n",
    "np.corrcoef(df_v[['validation_python_ada_casual', 'validation_python_etree_casual', 'validation_python_rf_casual', 'validation_python_svr_casual']], \\\n",
    "            rowvar=0)"
   ]
  },
  {
   "cell_type": "code",
   "execution_count": 19,
   "metadata": {
    "collapsed": true
   },
   "outputs": [],
   "source": [
    "# get etree 0.43117\n",
    "df = pd.DataFrame({'datetime': test.datetime, 'count':df_v.validation_python_etree_count}) \n",
    "df.to_csv('submission/python_etree.csv', index = False, date_format = \"%Y-%m-%d %H:%M:%S\") "
   ]
  },
  {
   "cell_type": "code",
   "execution_count": 20,
   "metadata": {
    "collapsed": true
   },
   "outputs": [],
   "source": [
    "# get rf 0.41884\n",
    "df = pd.DataFrame({'datetime': test.datetime, 'count':df_v.validation_python_rf_count}) \n",
    "df.to_csv('submission/python_rf.csv', index = False, date_format = \"%Y-%m-%d %H:%M:%S\") "
   ]
  },
  {
   "cell_type": "code",
   "execution_count": 17,
   "metadata": {
    "collapsed": true
   },
   "outputs": [],
   "source": [
    "# get mean of etree and rf 0.42365\n",
    "df = pd.DataFrame({'datetime': test.datetime, 'count':df_v[['validation_python_etree_count', 'validation_python_rf_count']].mean(axis = 1)}) \n",
    "df.to_csv('submission/python_mean.csv', index = False, date_format = \"%Y-%m-%d %H:%M:%S\")"
   ]
  },
  {
   "cell_type": "markdown",
   "metadata": {},
   "source": [
    "#### 3.3 the performance of stack ensemble"
   ]
  },
  {
   "cell_type": "code",
   "execution_count": 13,
   "metadata": {
    "collapsed": false
   },
   "outputs": [],
   "source": [
    "# out of fold prediction\n",
    "def get_oof(clf, x_train, y_train, x_test):\n",
    "        ntrain = x_train.shape[0]\n",
    "        ntest = x_test.shape[0]\n",
    "           \n",
    "        oof_train = np.zeros((ntrain, ))\n",
    "        oof_test = np.zeros((ntest, ))\n",
    "        oof_test_kf = np.empty((5, ntest))\n",
    "        \n",
    "        kf = KFold(ntrain, n_folds = 5, random_state = 0)\n",
    "        \n",
    "        for i, (train_index_kf, test_index_kf) in enumerate(kf):\n",
    "            kf_x_train = x_train.loc[train_index_kf, ]\n",
    "            kf_y_train = np.ravel(y_train.loc[train_index_kf, ])\n",
    "            kf_x_test = x_train.loc[test_index_kf, ]\n",
    "           \n",
    "            clf.fit(kf_x_train, kf_y_train)\n",
    "        \n",
    "            oof_train[test_index_kf] = clf.predict(kf_x_test)\n",
    "            oof_test_kf[i, :] = clf.predict(x_test)\n",
    "    \n",
    "        oof_test[:] = oof_test_kf.mean(axis = 0)      \n",
    "        return oof_train, oof_test"
   ]
  },
  {
   "cell_type": "code",
   "execution_count": 14,
   "metadata": {
    "collapsed": false
   },
   "outputs": [],
   "source": [
    "def get_stack(stacker, base_models, x_train, y_train, x_test):\n",
    "    \n",
    "    nbase = len(base_models)\n",
    "    ntrain = x_train.shape[0]\n",
    "    ntest = x_test.shape[0]\n",
    "    \n",
    "    s_train = np.empty((ntrain, nbase))\n",
    "    s_test = np.empty((ntest, nbase))                 \n",
    "                       \n",
    "    for i, base_model in enumerate(base_models):\n",
    "        s_train[:, i], s_test[:, i] = get_oof(base_model, x_train, y_train, x_test)\n",
    "    \n",
    "    return stacker.fit(s_train, np.ravel(y_train)).predict(s_test)                      "
   ]
  },
  {
   "cell_type": "code",
   "execution_count": 16,
   "metadata": {
    "collapsed": true
   },
   "outputs": [],
   "source": [
    "def log_rmsle(pred_count, actual_count):\n",
    "    return round(np.sqrt(np.mean((pred_count - actual_count) ** 2)), 5) "
   ]
  },
  {
   "cell_type": "code",
   "execution_count": 15,
   "metadata": {
    "collapsed": true
   },
   "outputs": [],
   "source": [
    "x_train_c = x_train_c.reset_index().drop('index', axis = 1)\n",
    "y_train_c = y_train_c.reset_index().drop('index', axis = 1)\n",
    "x_test_c = x_test_c.reset_index().drop('index', axis = 1)"
   ]
  },
  {
   "cell_type": "code",
   "execution_count": 17,
   "metadata": {
    "collapsed": false
   },
   "outputs": [
    {
     "data": {
      "text/plain": [
       "0.48141"
      ]
     },
     "execution_count": 17,
     "metadata": {},
     "output_type": "execute_result"
    }
   ],
   "source": [
    "# 0.48141 \n",
    "etree_c = ExtraTreesRegressor(n_estimators = 500, max_features='log2')\n",
    "rf_c = RandomForestRegressor(n_estimators = 700, max_features='log2')\n",
    "ada_c = AdaBoostRegressor(n_estimators = 100, learning_rate = 0.2)\n",
    "svr_c = SVR(C = 0.01, epsilon = 0.2)\n",
    "\n",
    "base_models_c = [etree_c, rf_c, ada_c, svr_c]\n",
    "stacker = ExtraTreesRegressor(n_estimators = 500, max_features='log2')\n",
    "\n",
    "pred_stacker_c = get_stack(stacker, base_models_c,  x_train_c, y_train_c, x_test_c)\n",
    "log_rmsle(pred_stacker_c, y_test_c)"
   ]
  },
  {
   "cell_type": "code",
   "execution_count": 18,
   "metadata": {
    "collapsed": false
   },
   "outputs": [
    {
     "data": {
      "text/plain": [
       "0.47926"
      ]
     },
     "execution_count": 18,
     "metadata": {},
     "output_type": "execute_result"
    }
   ],
   "source": [
    "# rf 0.47926\n",
    "stacker = RandomForestRegressor(n_estimators = 500, max_features='log2')\n",
    "\n",
    "pred_stacker_c = get_stack(stacker, base_models_c,  x_train_c, y_train_c, x_test_c)\n",
    "log_rmsle(pred_stacker_c, y_test_c)"
   ]
  },
  {
   "cell_type": "code",
   "execution_count": 19,
   "metadata": {
    "collapsed": false
   },
   "outputs": [
    {
     "data": {
      "text/plain": [
       "0.49262"
      ]
     },
     "execution_count": 19,
     "metadata": {},
     "output_type": "execute_result"
    }
   ],
   "source": [
    "# ada 0.49262\n",
    "stacker = AdaBoostRegressor(n_estimators = 100, learning_rate = 0.2)\n",
    "\n",
    "pred_stacker_c = get_stack(stacker, base_models_c,  x_train_c, y_train_c, x_test_c)\n",
    "log_rmsle(pred_stacker_c, y_test_c)"
   ]
  },
  {
   "cell_type": "code",
   "execution_count": 20,
   "metadata": {
    "collapsed": false
   },
   "outputs": [
    {
     "data": {
      "text/plain": [
       "0.45985"
      ]
     },
     "execution_count": 20,
     "metadata": {},
     "output_type": "execute_result"
    }
   ],
   "source": [
    "stacker = SVR(kernel = 'linear', C = 0.01, epsilon = 0.3)\n",
    "\n",
    "pred_stacker_c = get_stack(stacker, base_models_c,  x_train_c, y_train_c, x_test_c)\n",
    "log_rmsle(pred_stacker_c, y_test_c)"
   ]
  },
  {
   "cell_type": "code",
   "execution_count": 21,
   "metadata": {
    "collapsed": false
   },
   "outputs": [
    {
     "data": {
      "text/plain": [
       "0.46243"
      ]
     },
     "execution_count": 21,
     "metadata": {},
     "output_type": "execute_result"
    }
   ],
   "source": [
    "etree_c = ExtraTreesRegressor(n_estimators = 500, max_features='log2')\n",
    "rf_c = RandomForestRegressor(n_estimators = 700, max_features='log2')\n",
    "ada_c = AdaBoostRegressor(n_estimators = 100, learning_rate = 0.2)\n",
    "svr_c = SVR(C = 0.01, epsilon = 0.2)\n",
    "\n",
    "base_models_c = [etree_c, rf_c, ada_c, svr_c]\n",
    "\n",
    "stacker_c_etree = ExtraTreesRegressor(n_estimators = 500, max_features='log2')\n",
    "pred_stacker_c_etree = get_stack(stacker_c_etree, base_models_c,  x_train_c, y_train_c, x_test_c)\n",
    "\n",
    "stacker_c_rf = RandomForestRegressor(n_estimators = 500, max_features='log2')\n",
    "pred_stacker_c_rf = get_stack(stacker_c_rf, base_models_c,  x_train_c, y_train_c, x_test_c)\n",
    "\n",
    "stacker_c_ada = AdaBoostRegressor(n_estimators = 100, learning_rate = 0.2)\n",
    "pred_stacker_c_ada = get_stack(stacker_c_ada, base_models_c,  x_train_c, y_train_c, x_test_c)\n",
    "\n",
    "stacker_c_svr = SVR(kernel = 'linear', C = 0.01, epsilon = 0.3)\n",
    "pred_stacker_c_svr = get_stack(stacker_c_svr, base_models_c,  x_train_c, y_train_c, x_test_c)\n",
    "\n",
    "log_rmsle((pred_stacker_c_etree + pred_stacker_c_rf + pred_stacker_c_ada + pred_stacker_c_svr) / 4.0, y_test_c)"
   ]
  },
  {
   "cell_type": "code",
   "execution_count": 22,
   "metadata": {
    "collapsed": false
   },
   "outputs": [
    {
     "data": {
      "text/plain": [
       "0.46419"
      ]
     },
     "execution_count": 22,
     "metadata": {},
     "output_type": "execute_result"
    }
   ],
   "source": [
    "etree_c = ExtraTreesRegressor(n_estimators = 500, max_features='log2')\n",
    "rf_c = RandomForestRegressor(n_estimators = 700, max_features='log2')\n",
    "ada_c = AdaBoostRegressor(n_estimators = 100, learning_rate = 0.2)\n",
    "svr_c = SVR(C = 0.01, epsilon = 0.2)\n",
    "\n",
    "base_models_c = [etree_c, rf_c, ada_c, svr_c]\n",
    "\n",
    "stacker_c_etree = ExtraTreesRegressor(n_estimators = 500, max_features='log2')\n",
    "pred_stacker_c_etree = get_stack(stacker_c_etree, base_models_c,  x_train_c, y_train_c, x_test_c)\n",
    "\n",
    "stacker_c_rf = RandomForestRegressor(n_estimators = 500, max_features='log2')\n",
    "pred_stacker_c_rf = get_stack(stacker_c_rf, base_models_c,  x_train_c, y_train_c, x_test_c)\n",
    "\n",
    "stacker_c_svr = SVR(kernel = 'linear', C = 0.01, epsilon = 0.3)\n",
    "pred_stacker_c_svr = get_stack(stacker_c_svr, base_models_c,  x_train_c, y_train_c, x_test_c)\n",
    "\n",
    "log_rmsle((pred_stacker_c_etree + pred_stacker_c_rf + pred_stacker_c_svr) / 3.0, y_test_c)"
   ]
  },
  {
   "cell_type": "code",
   "execution_count": 23,
   "metadata": {
    "collapsed": false
   },
   "outputs": [
    {
     "data": {
      "text/plain": [
       "0.46491"
      ]
     },
     "execution_count": 23,
     "metadata": {},
     "output_type": "execute_result"
    }
   ],
   "source": [
    "etree_c = ExtraTreesRegressor(n_estimators = 500, max_features='log2')\n",
    "rf_c = RandomForestRegressor(n_estimators = 700, max_features='log2')\n",
    "ada_c = AdaBoostRegressor(n_estimators = 100, learning_rate = 0.2)\n",
    "svr_c = SVR(C = 0.01, epsilon = 0.2)\n",
    "\n",
    "base_models_c = [etree_c, rf_c, ada_c, svr_c]\n",
    "\n",
    "stacker_c_rf = RandomForestRegressor(n_estimators = 500, max_features='log2')\n",
    "pred_stacker_c_rf = get_stack(stacker_c_rf, base_models_c,  x_train_c, y_train_c, x_test_c)\n",
    "\n",
    "stacker_c_ada = AdaBoostRegressor(n_estimators = 100, learning_rate = 0.2)\n",
    "pred_stacker_c_ada = get_stack(stacker_c_ada, base_models_c,  x_train_c, y_train_c, x_test_c)\n",
    "\n",
    "stacker_c_svr = SVR(kernel = 'linear', C = 0.01, epsilon = 0.3)\n",
    "pred_stacker_c_svr = get_stack(stacker_c_svr, base_models_c,  x_train_c, y_train_c, x_test_c)\n",
    "\n",
    "log_rmsle((pred_stacker_c_rf + pred_stacker_c_ada + pred_stacker_c_svr) / 3.0, y_test_c)"
   ]
  },
  {
   "cell_type": "code",
   "execution_count": 24,
   "metadata": {
    "collapsed": false
   },
   "outputs": [
    {
     "data": {
      "text/plain": [
       "0.46069"
      ]
     },
     "execution_count": 24,
     "metadata": {},
     "output_type": "execute_result"
    }
   ],
   "source": [
    "etree_c = ExtraTreesRegressor(n_estimators = 500, max_features='log2')\n",
    "rf_c = RandomForestRegressor(n_estimators = 700, max_features='log2')\n",
    "ada_c = AdaBoostRegressor(n_estimators = 100, learning_rate = 0.2)\n",
    "svr_c = SVR(C = 0.01, epsilon = 0.2)\n",
    "\n",
    "base_models_c = [etree_c, rf_c, ada_c, svr_c]\n",
    "\n",
    "stacker_c_rf = RandomForestRegressor(n_estimators = 500, max_features='log2')\n",
    "pred_stacker_c_rf = get_stack(stacker_c_rf, base_models_c,  x_train_c, y_train_c, x_test_c)\n",
    "\n",
    "stacker_c_svr = SVR(kernel = 'linear', C = 0.01, epsilon = 0.3)\n",
    "pred_stacker_c_svr = get_stack(stacker_c_svr, base_models_c,  x_train_c, y_train_c, x_test_c)\n",
    "\n",
    "log_rmsle((pred_stacker_c_rf + pred_stacker_c_svr) / 2.0, y_test_c)"
   ]
  },
  {
   "cell_type": "markdown",
   "metadata": {},
   "source": [
    "- To casual users, the stacker of svr is better than anyone.\n",
    "\n",
    "| |stacker_etree|stacker_rf|stacker_ada|stacker_svr|mean of etree rf ada svr|mean of etree rf svr|mean of rf ada svr|mean of rf svr\n",
    "|-|:-----------:|:--------:|:---------:|:---------:|:----------------------:|:------------------:|:----------------:|:---:|\n",
    "|**casual**|0.**481**41|0.**479**26|0.**492**62|0.**459**85|0.**462**43|0.**464**19|0.**464**91|0.**460**69|"
   ]
  },
  {
   "cell_type": "code",
   "execution_count": 25,
   "metadata": {
    "collapsed": true
   },
   "outputs": [],
   "source": [
    "x_train_r = x_train_r.reset_index().drop('index', axis = 1)\n",
    "y_train_r = y_train_r.reset_index().drop('index', axis = 1)\n",
    "x_test_r = x_test_r.reset_index().drop('index', axis = 1)"
   ]
  },
  {
   "cell_type": "code",
   "execution_count": 26,
   "metadata": {
    "collapsed": true
   },
   "outputs": [],
   "source": [
    "etree_r = ExtraTreesRegressor(n_estimators = 300, max_features='log2')\n",
    "rf_r = RandomForestRegressor(n_estimators = 500, max_features='log2')\n",
    "ada_r = AdaBoostRegressor(n_estimators = 50, learning_rate = 0.2)\n",
    "svr_r = SVR(kernel = 'linear', C = 0.01, epsilon = 0.3)\n",
    "\n",
    "base_models_r = [etree_r, rf_r, ada_r, svr_r]"
   ]
  },
  {
   "cell_type": "code",
   "execution_count": 27,
   "metadata": {
    "collapsed": false
   },
   "outputs": [
    {
     "data": {
      "text/plain": [
       "0.30874"
      ]
     },
     "execution_count": 27,
     "metadata": {},
     "output_type": "execute_result"
    }
   ],
   "source": [
    "# etree 0.30874\n",
    "stacker = ExtraTreesRegressor(n_estimators = 500, max_features='log2')\n",
    "\n",
    "pred_stacker_r = get_stack(stacker, base_models_r, x_train_r, y_train_r, x_test_r)\n",
    "log_rmsle(pred_stacker_r, y_test_r) "
   ]
  },
  {
   "cell_type": "code",
   "execution_count": 28,
   "metadata": {
    "collapsed": false
   },
   "outputs": [
    {
     "data": {
      "text/plain": [
       "0.30464"
      ]
     },
     "execution_count": 28,
     "metadata": {},
     "output_type": "execute_result"
    }
   ],
   "source": [
    "# rf 0.30464\n",
    "stacker = RandomForestRegressor(n_estimators = 500, max_features='log2')\n",
    "\n",
    "pred_stacker_r = get_stack(stacker, base_models_r, x_train_r, y_train_r, x_test_r)\n",
    "log_rmsle(pred_stacker_r, y_test_r) "
   ]
  },
  {
   "cell_type": "code",
   "execution_count": 29,
   "metadata": {
    "collapsed": false
   },
   "outputs": [
    {
     "data": {
      "text/plain": [
       "0.35299"
      ]
     },
     "execution_count": 29,
     "metadata": {},
     "output_type": "execute_result"
    }
   ],
   "source": [
    "# 0.35299\n",
    "stacker = AdaBoostRegressor(n_estimators = 300, learning_rate = 0.2)\n",
    "\n",
    "pred_stacker_r = get_stack(stacker, base_models_r, x_train_r, y_train_r, x_test_r)\n",
    "log_rmsle(pred_stacker_r, y_test_r) "
   ]
  },
  {
   "cell_type": "code",
   "execution_count": 30,
   "metadata": {
    "collapsed": false
   },
   "outputs": [
    {
     "data": {
      "text/plain": [
       "0.29651"
      ]
     },
     "execution_count": 30,
     "metadata": {},
     "output_type": "execute_result"
    }
   ],
   "source": [
    "stacker = SVR(kernel = 'linear', C = 0.01, epsilon = 0.3)\n",
    "\n",
    "pred_stacker_r = get_stack(stacker, base_models_r, x_train_r, y_train_r, x_test_r)\n",
    "log_rmsle(pred_stacker_r, y_test_r) "
   ]
  },
  {
   "cell_type": "code",
   "execution_count": 31,
   "metadata": {
    "collapsed": false
   },
   "outputs": [
    {
     "data": {
      "text/plain": [
       "0.29978"
      ]
     },
     "execution_count": 31,
     "metadata": {},
     "output_type": "execute_result"
    }
   ],
   "source": [
    "stacker_etree = ExtraTreesRegressor(n_estimators = 500, max_features='log2')\n",
    "pred_stacker_r_etree = get_stack(stacker_etree, base_models_r, x_train_r, y_train_r, x_test_r)\n",
    "\n",
    "stacker_rf = RandomForestRegressor(n_estimators = 500, max_features='log2')\n",
    "pred_stacker_r_rf = get_stack(stacker_rf, base_models_r, x_train_r, y_train_r, x_test_r)\n",
    "\n",
    "stacker_ada = AdaBoostRegressor(n_estimators = 300, learning_rate = 0.2)\n",
    "pred_stacker_r_ada = get_stack(stacker_ada, base_models_r, x_train_r, y_train_r, x_test_r)\n",
    "\n",
    "stacker_svr = SVR(kernel = 'linear', C = 0.01, epsilon = 0.3)\n",
    "pred_stacker_r_svr = get_stack(stacker_svr, base_models_r, x_train_r, y_train_r, x_test_r)\n",
    "\n",
    "log_rmsle((pred_stacker_r_etree + pred_stacker_r_rf + pred_stacker_r_ada + pred_stacker_r_svr) / 4.0, y_test_r) "
   ]
  },
  {
   "cell_type": "code",
   "execution_count": 32,
   "metadata": {
    "collapsed": false
   },
   "outputs": [
    {
     "data": {
      "text/plain": [
       "0.30597"
      ]
     },
     "execution_count": 32,
     "metadata": {},
     "output_type": "execute_result"
    }
   ],
   "source": [
    "stacker_etree = ExtraTreesRegressor(n_estimators = 500, max_features='log2')\n",
    "pred_stacker_r_etree = get_stack(stacker_etree, base_models_r, x_train_r, y_train_r, x_test_r)\n",
    "\n",
    "stacker_rf = RandomForestRegressor(n_estimators = 500, max_features='log2')\n",
    "pred_stacker_r_rf = get_stack(stacker_rf, base_models_r, x_train_r, y_train_r, x_test_r)\n",
    "\n",
    "stacker_ada = AdaBoostRegressor(n_estimators = 300, learning_rate = 0.2)\n",
    "pred_stacker_r_ada = get_stack(stacker_ada, base_models_r, x_train_r, y_train_r, x_test_r)\n",
    "\n",
    "log_rmsle((pred_stacker_r_etree + pred_stacker_r_rf + pred_stacker_r_ada) / 3.0, y_test_r) "
   ]
  },
  {
   "cell_type": "code",
   "execution_count": 33,
   "metadata": {
    "collapsed": false
   },
   "outputs": [
    {
     "data": {
      "text/plain": [
       "0.29678"
      ]
     },
     "execution_count": 33,
     "metadata": {},
     "output_type": "execute_result"
    }
   ],
   "source": [
    "stacker_etree = ExtraTreesRegressor(n_estimators = 500, max_features='log2')\n",
    "pred_stacker_r_etree = get_stack(stacker_etree, base_models_r, x_train_r, y_train_r, x_test_r)\n",
    "\n",
    "stacker_rf = RandomForestRegressor(n_estimators = 500, max_features='log2')\n",
    "pred_stacker_r_rf = get_stack(stacker_rf, base_models_r, x_train_r, y_train_r, x_test_r)\n",
    "\n",
    "stacker_svr = SVR(kernel = 'linear', C = 0.01, epsilon = 0.3)\n",
    "pred_stacker_r_svr = get_stack(stacker_svr, base_models_r, x_train_r, y_train_r, x_test_r)\n",
    "\n",
    "log_rmsle((pred_stacker_r_etree + pred_stacker_r_rf + pred_stacker_r_svr) / 3.0, y_test_r) "
   ]
  },
  {
   "cell_type": "code",
   "execution_count": 34,
   "metadata": {
    "collapsed": false
   },
   "outputs": [
    {
     "data": {
      "text/plain": [
       "0.30267"
      ]
     },
     "execution_count": 34,
     "metadata": {},
     "output_type": "execute_result"
    }
   ],
   "source": [
    "stacker_rf = RandomForestRegressor(n_estimators = 500, max_features='log2')\n",
    "pred_stacker_r_rf = get_stack(stacker_rf, base_models_r, x_train_r, y_train_r, x_test_r)\n",
    "\n",
    "stacker_ada = AdaBoostRegressor(n_estimators = 300, learning_rate = 0.2)\n",
    "pred_stacker_r_ada = get_stack(stacker_ada, base_models_r, x_train_r, y_train_r, x_test_r)\n",
    "\n",
    "stacker_svr = SVR(kernel = 'linear', C = 0.01, epsilon = 0.3)\n",
    "pred_stacker_r_svr = get_stack(stacker_svr, base_models_r, x_train_r, y_train_r, x_test_r)\n",
    "\n",
    "log_rmsle((pred_stacker_r_rf + pred_stacker_r_ada + pred_stacker_r_svr) / 3.0, y_test_r) "
   ]
  },
  {
   "cell_type": "code",
   "execution_count": 36,
   "metadata": {
    "collapsed": false
   },
   "outputs": [
    {
     "data": {
      "text/plain": [
       "0.30132"
      ]
     },
     "execution_count": 36,
     "metadata": {},
     "output_type": "execute_result"
    }
   ],
   "source": [
    "stacker_etree = ExtraTreesRegressor(n_estimators = 500, max_features='log2')\n",
    "pred_stacker_r_etree = get_stack(stacker_etree, base_models_r, x_train_r, y_train_r, x_test_r)\n",
    "\n",
    "stacker_rf = RandomForestRegressor(n_estimators = 500, max_features='log2')\n",
    "pred_stacker_r_rf = get_stack(stacker_rf, base_models_r, x_train_r, y_train_r, x_test_r)\n",
    "\n",
    "log_rmsle((pred_stacker_r_etree + pred_stacker_r_rf) / 2.0, y_test_r) "
   ]
  },
  {
   "cell_type": "code",
   "execution_count": 35,
   "metadata": {
    "collapsed": false
   },
   "outputs": [
    {
     "data": {
      "text/plain": [
       "0.29682"
      ]
     },
     "execution_count": 35,
     "metadata": {},
     "output_type": "execute_result"
    }
   ],
   "source": [
    "stacker_rf = RandomForestRegressor(n_estimators = 500, max_features='log2')\n",
    "pred_stacker_r_rf = get_stack(stacker_rf, base_models_r, x_train_r, y_train_r, x_test_r)\n",
    "\n",
    "stacker_svr = SVR(kernel = 'linear', C = 0.01, epsilon = 0.3)\n",
    "pred_stacker_r_svr = get_stack(stacker_svr, base_models_r, x_train_r, y_train_r, x_test_r)\n",
    "\n",
    "log_rmsle((pred_stacker_r_rf + pred_stacker_r_svr) / 2.0, y_test_r) "
   ]
  },
  {
   "cell_type": "markdown",
   "metadata": {},
   "source": [
    "- To registered users, the stacker of svr is better than anyone.\n",
    "\n",
    "| |stacker_etree|stacker_rf|stacker_ada|stacker_svr|mean of etree rf ada svr|mean of etree rf ada|mean of etree rf svr|mean of rf ada svr|mean of rf svr|\n",
    "|-|:-----------:|:--------:|:---------:|:---------:|:----------------------:|:---:|:------------------:|:----------------:|:---:|\n",
    "|**registered**|0.**308**74|0.**304**64|0.**352**99|0.**296**51|0.**299**78|0.**305**97|0.**296**78|0.**302**67|0.**296**82|"
   ]
  },
  {
   "cell_type": "code",
   "execution_count": 45,
   "metadata": {
    "collapsed": false
   },
   "outputs": [
    {
     "data": {
      "text/plain": [
       "0.45979"
      ]
     },
     "execution_count": 45,
     "metadata": {},
     "output_type": "execute_result"
    }
   ],
   "source": [
    "# 0.45985\n",
    "etree_c = ExtraTreesRegressor(n_estimators = 500, max_features='log2')\n",
    "rf_c = RandomForestRegressor(n_estimators = 700, max_features='log2')\n",
    "ada_c = AdaBoostRegressor(n_estimators = 100, learning_rate = 0.2)\n",
    "svr_c = SVR(C = 0.01, epsilon = 0.2)\n",
    "\n",
    "base_models_c = [etree_c, rf_c, ada_c, svr_c]\n",
    "stacker = SVR(kernel = 'linear', C = 0.01, epsilon = 0.3)\n",
    "\n",
    "pred_stacker_c = get_stack(stacker, base_models_c,  x_train_c, y_train_c, x_test_c)\n",
    "log_rmsle(pred_stacker_c, y_test_c)"
   ]
  },
  {
   "cell_type": "code",
   "execution_count": 46,
   "metadata": {
    "collapsed": false
   },
   "outputs": [
    {
     "data": {
      "text/plain": [
       "0.29653"
      ]
     },
     "execution_count": 46,
     "metadata": {},
     "output_type": "execute_result"
    }
   ],
   "source": [
    "# 0.29651\n",
    "etree_r = ExtraTreesRegressor(n_estimators = 300, max_features='log2')\n",
    "rf_r = RandomForestRegressor(n_estimators = 500, max_features='log2')\n",
    "ada_r = AdaBoostRegressor(n_estimators = 50, learning_rate = 0.2)\n",
    "svr_r = SVR(kernel = 'linear', C = 0.01, epsilon = 0.3)\n",
    "\n",
    "base_models_r = [etree_r, rf_r, ada_r, svr_r]\n",
    "stacker_r = SVR(kernel = 'linear', C = 0.01, epsilon = 0.3)\n",
    "\n",
    "pred_stacker_r = get_stack(stacker_r, base_models_r, x_train_r, y_train_r, x_test_r)\n",
    "log_rmsle(pred_stacker_r, y_test_r) "
   ]
  },
  {
   "cell_type": "code",
   "execution_count": 47,
   "metadata": {
    "collapsed": false
   },
   "outputs": [
    {
     "data": {
      "text/plain": [
       "0.29411"
      ]
     },
     "execution_count": 47,
     "metadata": {},
     "output_type": "execute_result"
    }
   ],
   "source": [
    "# 0.29411\n",
    "rmsle(np.exp(pred_stacker_c) + np.exp(pred_stacker_r) - 2, np.exp(y_test_c) + np.exp(y_test_r) - 2) "
   ]
  },
  {
   "cell_type": "markdown",
   "metadata": {
    "collapsed": true
   },
   "source": [
    "- validation dataset"
   ]
  },
  {
   "cell_type": "code",
   "execution_count": 51,
   "metadata": {
    "collapsed": false
   },
   "outputs": [],
   "source": [
    "etree_c = ExtraTreesRegressor(n_estimators = 500, max_features='log2')\n",
    "rf_c = RandomForestRegressor(n_estimators = 700, max_features='log2')\n",
    "ada_c = AdaBoostRegressor(n_estimators = 100, learning_rate = 0.2)\n",
    "svr_c = SVR(C = 0.01, epsilon = 0.2)\n",
    "\n",
    "base_models_c = [etree_c, rf_c, ada_c, svr_c]\n",
    "stacker = SVR(kernel = 'linear', C = 0.01, epsilon = 0.3)\n",
    "\n",
    "pred_stacker_c = get_stack(stacker, base_models_c,  v_x_train_c, v_y_train_c, v_x_test_c)"
   ]
  },
  {
   "cell_type": "code",
   "execution_count": 52,
   "metadata": {
    "collapsed": true
   },
   "outputs": [],
   "source": [
    "etree_r = ExtraTreesRegressor(n_estimators = 300, max_features='log2')\n",
    "rf_r = RandomForestRegressor(n_estimators = 500, max_features='log2')\n",
    "ada_r = AdaBoostRegressor(n_estimators = 50, learning_rate = 0.2)\n",
    "svr_r = SVR(kernel = 'linear', C = 0.01, epsilon = 0.3)\n",
    "\n",
    "base_models_r = [etree_r, rf_r, ada_r, svr_r]\n",
    "stacker_r = SVR(kernel = 'linear', C = 0.01, epsilon = 0.3)\n",
    "\n",
    "pred_stacker_r = get_stack(stacker_r, base_models_r, v_x_train_r, v_y_train_r, v_x_test_r)"
   ]
  },
  {
   "cell_type": "code",
   "execution_count": 53,
   "metadata": {
    "collapsed": true
   },
   "outputs": [],
   "source": [
    "# get 0.42612\n",
    "df = pd.DataFrame({'datetime': test.datetime, 'count': np.exp(pred_stacker_c) + np.exp(pred_stacker_r) - 2}) \n",
    "df.to_csv('submission/python_stacker_svr.csv', index = False, date_format = \"%Y-%m-%d %H:%M:%S\") "
   ]
  }
 ],
 "metadata": {
  "kernelspec": {
   "display_name": "Python 2",
   "language": "python",
   "name": "python2"
  },
  "language_info": {
   "codemirror_mode": {
    "name": "ipython",
    "version": 2
   },
   "file_extension": ".py",
   "mimetype": "text/x-python",
   "name": "python",
   "nbconvert_exporter": "python",
   "pygments_lexer": "ipython2",
   "version": "2.7.9"
  }
 },
 "nbformat": 4,
 "nbformat_minor": 0
}
